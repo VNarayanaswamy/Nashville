{
 "cells": [
  {
   "cell_type": "markdown",
   "metadata": {},
   "source": [
    "## Price Per Square Foot Prediction\n",
    "In this notebook I predict the price per square foot of a house in Nashville, using an XGBoost. \n",
    "Metrics used are root mean squared error, median absolute error, mean absolute error and coefficient of determination.\n",
    "\n",
    "Since almost all numerical features of the dataset were heavily right-skewed, I have log-transformed every numerical feature except for the target variable (PPS).\n",
    "\n",
    "I also ran a LightGBMRegressor which got almost identical results, but ran much faster."
   ]
  },
  {
   "cell_type": "markdown",
   "metadata": {},
   "source": [
    "### Observations\n",
    "\n",
    "Quarter and Year are pretty essential variables but I wonder if there's a better way to incorporate time.\n",
    "\n",
    "\n",
    "### Next step: incorporate data from historical sales.\n",
    "\n",
    "### Consider adding average fixtures per house in the neighborhood?"
   ]
  },
  {
   "cell_type": "code",
   "execution_count": 1,
   "metadata": {},
   "outputs": [],
   "source": [
    "import matplotlib.pyplot as plt\n",
    "import numpy as np\n",
    "import seaborn as sns\n",
    "import pandas as pd \n",
    "%matplotlib inline\n",
    "sns.set(style='darkgrid')"
   ]
  },
  {
   "cell_type": "code",
   "execution_count": 2,
   "metadata": {},
   "outputs": [
    {
     "name": "stderr",
     "output_type": "stream",
     "text": [
      "/home/drew/anaconda3/lib/python3.7/site-packages/IPython/core/interactiveshell.py:3214: DtypeWarning: Columns (7,8,9,10,11,12,13,14,15,16,19,20,21,27,29,34,37,38,40,41,46,47,48,49,50,53,54,55,64) have mixed types. Specify dtype option on import or set low_memory=False.\n",
      "  if (yield from self.run_code(code, result)):\n"
     ]
    }
   ],
   "source": [
    "import prepper\n",
    "# df1=pd.read_csv('nashville_20190827200234.csv', parse_dates = ['Most Recent Sale Date', 'Sale Date'], dtype={'Zone': str, 'Neighborhood': str})\n",
    "\n",
    "nash = prepper.prep('joined_20190912140448.csv')"
   ]
  },
  {
   "cell_type": "code",
   "execution_count": 3,
   "metadata": {},
   "outputs": [
    {
     "name": "stdout",
     "output_type": "stream",
     "text": [
      "0.970    18.0\n",
      "0.985    20.0\n",
      "0.995    24.0\n",
      "Name: Fixtures, dtype: float64\n",
      "0.970    1.05\n",
      "0.985    1.39\n",
      "0.995    2.47\n",
      "Name: Land Area Acres, dtype: float64\n",
      "0.970    359.013406\n",
      "0.985    434.322638\n",
      "0.997    591.417031\n",
      "Name: PPS, dtype: float64\n"
     ]
    }
   ],
   "source": [
    "#Clearing out a few outliers.\n",
    "#Removing massive parcels of land isn't so much about them being outliers; this model is for urban development.\n",
    "print(nash['Fixtures'].quantile([.97,.985,.995]))\n",
    "nash=nash[nash.Fixtures <=23]\n",
    "\n",
    "print(nash['Land Area Acres'].quantile([.97,.985,.995]))\n",
    "nash=nash[nash['Land Area Acres'] <=3]\n",
    "\n",
    "#Giving PPS more leeway because it's our target variable (and it varies more)\n",
    "print(nash['PPS'].quantile([.97,.985,.997]))\n",
    "nash=nash[nash.PPS <= 700]"
   ]
  },
  {
   "cell_type": "markdown",
   "metadata": {},
   "source": [
    "## First, checking what the absolute smallest and largest PPS observations are."
   ]
  },
  {
   "cell_type": "code",
   "execution_count": 4,
   "metadata": {},
   "outputs": [
    {
     "data": {
      "text/html": [
       "<div>\n",
       "<style scoped>\n",
       "    .dataframe tbody tr th:only-of-type {\n",
       "        vertical-align: middle;\n",
       "    }\n",
       "\n",
       "    .dataframe tbody tr th {\n",
       "        vertical-align: top;\n",
       "    }\n",
       "\n",
       "    .dataframe thead th {\n",
       "        text-align: right;\n",
       "    }\n",
       "</style>\n",
       "<table border=\"1\" class=\"dataframe\">\n",
       "  <thead>\n",
       "    <tr style=\"text-align: right;\">\n",
       "      <th></th>\n",
       "      <th>Location</th>\n",
       "      <th>Zone</th>\n",
       "      <th>Sale Price</th>\n",
       "      <th>PPS</th>\n",
       "      <th>Square Footage Improved</th>\n",
       "      <th>Building Type Custom</th>\n",
       "      <th>Building Condition</th>\n",
       "    </tr>\n",
       "  </thead>\n",
       "  <tbody>\n",
       "    <tr>\n",
       "      <th>183495</th>\n",
       "      <td>690 CANDLESTICK DR</td>\n",
       "      <td>1.0</td>\n",
       "      <td>49.0</td>\n",
       "      <td>0.027313</td>\n",
       "      <td>1794.0</td>\n",
       "      <td>SINGLE FAM</td>\n",
       "      <td>Average</td>\n",
       "    </tr>\n",
       "    <tr>\n",
       "      <th>198474</th>\n",
       "      <td>5441 CAMELOT RD</td>\n",
       "      <td>2.0</td>\n",
       "      <td>10000.0</td>\n",
       "      <td>2.211411</td>\n",
       "      <td>4522.0</td>\n",
       "      <td>SINGLE FAM</td>\n",
       "      <td>Average</td>\n",
       "    </tr>\n",
       "    <tr>\n",
       "      <th>457402</th>\n",
       "      <td>1013 SUMMERCREST CT</td>\n",
       "      <td>8.0</td>\n",
       "      <td>10000.0</td>\n",
       "      <td>4.108463</td>\n",
       "      <td>2434.0</td>\n",
       "      <td>SINGLE FAM</td>\n",
       "      <td>Average</td>\n",
       "    </tr>\n",
       "    <tr>\n",
       "      <th>144369</th>\n",
       "      <td>64 VALERIA ST</td>\n",
       "      <td>1.0</td>\n",
       "      <td>5000.0</td>\n",
       "      <td>4.340278</td>\n",
       "      <td>1152.0</td>\n",
       "      <td>SINGLE FAM</td>\n",
       "      <td>Average</td>\n",
       "    </tr>\n",
       "    <tr>\n",
       "      <th>122359</th>\n",
       "      <td>31 N HILL ST</td>\n",
       "      <td>1.0</td>\n",
       "      <td>10001.0</td>\n",
       "      <td>4.857212</td>\n",
       "      <td>2059.0</td>\n",
       "      <td>SINGLE FAM</td>\n",
       "      <td>Average</td>\n",
       "    </tr>\n",
       "  </tbody>\n",
       "</table>\n",
       "</div>"
      ],
      "text/plain": [
       "                   Location Zone  Sale Price       PPS  \\\n",
       "183495   690 CANDLESTICK DR  1.0        49.0  0.027313   \n",
       "198474      5441 CAMELOT RD  2.0     10000.0  2.211411   \n",
       "457402  1013 SUMMERCREST CT  8.0     10000.0  4.108463   \n",
       "144369        64 VALERIA ST  1.0      5000.0  4.340278   \n",
       "122359         31 N HILL ST  1.0     10001.0  4.857212   \n",
       "\n",
       "        Square Footage Improved Building Type Custom Building Condition  \n",
       "183495                   1794.0           SINGLE FAM            Average  \n",
       "198474                   4522.0           SINGLE FAM            Average  \n",
       "457402                   2434.0           SINGLE FAM            Average  \n",
       "144369                   1152.0           SINGLE FAM            Average  \n",
       "122359                   2059.0           SINGLE FAM            Average  "
      ]
     },
     "execution_count": 4,
     "metadata": {},
     "output_type": "execute_result"
    }
   ],
   "source": [
    "nash.nsmallest(5, 'PPS')[['Location', 'Zone', 'Sale Price', 'PPS', 'Square Footage Improved', 'Building Type Custom', 'Building Condition']]"
   ]
  },
  {
   "cell_type": "code",
   "execution_count": 5,
   "metadata": {},
   "outputs": [
    {
     "data": {
      "text/html": [
       "<div>\n",
       "<style scoped>\n",
       "    .dataframe tbody tr th:only-of-type {\n",
       "        vertical-align: middle;\n",
       "    }\n",
       "\n",
       "    .dataframe tbody tr th {\n",
       "        vertical-align: top;\n",
       "    }\n",
       "\n",
       "    .dataframe thead th {\n",
       "        text-align: right;\n",
       "    }\n",
       "</style>\n",
       "<table border=\"1\" class=\"dataframe\">\n",
       "  <thead>\n",
       "    <tr style=\"text-align: right;\">\n",
       "      <th></th>\n",
       "      <th>Neighborhood</th>\n",
       "      <th>NeighborhoodPPS</th>\n",
       "    </tr>\n",
       "  </thead>\n",
       "  <tbody>\n",
       "    <tr>\n",
       "      <th>530625</th>\n",
       "      <td>6264.0</td>\n",
       "      <td>752.879821</td>\n",
       "    </tr>\n",
       "    <tr>\n",
       "      <th>530596</th>\n",
       "      <td>6264.0</td>\n",
       "      <td>752.879821</td>\n",
       "    </tr>\n",
       "    <tr>\n",
       "      <th>530653</th>\n",
       "      <td>6264.0</td>\n",
       "      <td>752.879821</td>\n",
       "    </tr>\n",
       "    <tr>\n",
       "      <th>530611</th>\n",
       "      <td>6264.0</td>\n",
       "      <td>752.879821</td>\n",
       "    </tr>\n",
       "    <tr>\n",
       "      <th>530651</th>\n",
       "      <td>6264.0</td>\n",
       "      <td>752.879821</td>\n",
       "    </tr>\n",
       "  </tbody>\n",
       "</table>\n",
       "</div>"
      ],
      "text/plain": [
       "       Neighborhood  NeighborhoodPPS\n",
       "530625       6264.0       752.879821\n",
       "530596       6264.0       752.879821\n",
       "530653       6264.0       752.879821\n",
       "530611       6264.0       752.879821\n",
       "530651       6264.0       752.879821"
      ]
     },
     "execution_count": 5,
     "metadata": {},
     "output_type": "execute_result"
    }
   ],
   "source": [
    "nash.nlargest(5,'NeighborhoodPPS')[['Neighborhood','NeighborhoodPPS']]"
   ]
  },
  {
   "cell_type": "markdown",
   "metadata": {},
   "source": [
    "## Next, checking the distribution of several numerical features.\n",
    "I'll end up log-transforming all of these.\n",
    "'Fixtures' doesn't appear skewed, but the model performs slightly better when it's transformed."
   ]
  },
  {
   "cell_type": "code",
   "execution_count": 6,
   "metadata": {},
   "outputs": [
    {
     "data": {
      "text/plain": [
       "<matplotlib.axes._subplots.AxesSubplot at 0x7fb490b554e0>"
      ]
     },
     "execution_count": 6,
     "metadata": {},
     "output_type": "execute_result"
    },
    {
     "data": {
      "image/png": "[encoded data removed]",
      "text/plain": [
       "<Figure size 432x288 with 1 Axes>"
      ]
     },
     "metadata": {
      "needs_background": "light"
     },
     "output_type": "display_data"
    }
   ],
   "source": [
    "sns.distplot(nash['Fixtures'].dropna())"
   ]
  },
  {
   "cell_type": "code",
   "execution_count": 7,
   "metadata": {},
   "outputs": [
    {
     "data": {
      "text/plain": [
       "<matplotlib.axes._subplots.AxesSubplot at 0x7fb490c94e80>"
      ]
     },
     "execution_count": 7,
     "metadata": {},
     "output_type": "execute_result"
    },
    {
     "data": {
      "image/png": "[encoded data removed]",
      "text/plain": [
       "<Figure size 432x288 with 1 Axes>"
      ]
     },
     "metadata": {
      "needs_background": "light"
     },
     "output_type": "display_data"
    }
   ],
   "source": [
    "#Not very different, but the model performs slightly better when it's transformed\n",
    "sns.distplot(nash['Log Fixtures'].dropna())"
   ]
  },
  {
   "cell_type": "code",
   "execution_count": 8,
   "metadata": {},
   "outputs": [
    {
     "data": {
      "text/html": [
       "<div>\n",
       "<style scoped>\n",
       "    .dataframe tbody tr th:only-of-type {\n",
       "        vertical-align: middle;\n",
       "    }\n",
       "\n",
       "    .dataframe tbody tr th {\n",
       "        vertical-align: top;\n",
       "    }\n",
       "\n",
       "    .dataframe thead th {\n",
       "        text-align: right;\n",
       "    }\n",
       "</style>\n",
       "<table border=\"1\" class=\"dataframe\">\n",
       "  <thead>\n",
       "    <tr style=\"text-align: right;\">\n",
       "      <th></th>\n",
       "      <th>Assessment Improvement</th>\n",
       "      <th>Assessment Land</th>\n",
       "      <th>Assessment Total</th>\n",
       "      <th>Assessment Year</th>\n",
       "      <th>Baths</th>\n",
       "      <th>Beds2</th>\n",
       "      <th>Building Condition</th>\n",
       "      <th>Building Condition2</th>\n",
       "      <th>Building Grade</th>\n",
       "      <th>Building Grade2</th>\n",
       "      <th>...</th>\n",
       "      <th>Quarter</th>\n",
       "      <th>Year</th>\n",
       "      <th>Log Assessment</th>\n",
       "      <th>Log Fixtures</th>\n",
       "      <th>Log SqFt</th>\n",
       "      <th>Log PPS</th>\n",
       "      <th>Log Land</th>\n",
       "      <th>Log NbhdPPS</th>\n",
       "      <th>Log NbhdRatio</th>\n",
       "      <th>Log Built</th>\n",
       "    </tr>\n",
       "  </thead>\n",
       "  <tbody>\n",
       "    <tr>\n",
       "      <th>13282</th>\n",
       "      <td>$44,250</td>\n",
       "      <td>$20,250</td>\n",
       "      <td>$64,500</td>\n",
       "      <td>2019.0</td>\n",
       "      <td>3.0</td>\n",
       "      <td>NaN</td>\n",
       "      <td>Fair</td>\n",
       "      <td>NaN</td>\n",
       "      <td>C</td>\n",
       "      <td>NaN</td>\n",
       "      <td>...</td>\n",
       "      <td>2</td>\n",
       "      <td>2015</td>\n",
       "      <td>9.915910</td>\n",
       "      <td>2.397895</td>\n",
       "      <td>7.888335</td>\n",
       "      <td>4.540882</td>\n",
       "      <td>1.098612</td>\n",
       "      <td>4.772120</td>\n",
       "      <td>-2.603969</td>\n",
       "      <td>6.861616</td>\n",
       "    </tr>\n",
       "    <tr>\n",
       "      <th>215263</th>\n",
       "      <td>$41,100</td>\n",
       "      <td>$31,250</td>\n",
       "      <td>$72,350</td>\n",
       "      <td>2019.0</td>\n",
       "      <td>2.0</td>\n",
       "      <td>NaN</td>\n",
       "      <td>Average</td>\n",
       "      <td>NaN</td>\n",
       "      <td>C</td>\n",
       "      <td>NaN</td>\n",
       "      <td>...</td>\n",
       "      <td>3</td>\n",
       "      <td>2015</td>\n",
       "      <td>10.349775</td>\n",
       "      <td>2.079442</td>\n",
       "      <td>7.604396</td>\n",
       "      <td>5.130915</td>\n",
       "      <td>1.098612</td>\n",
       "      <td>4.934089</td>\n",
       "      <td>-2.912313</td>\n",
       "      <td>7.226057</td>\n",
       "    </tr>\n",
       "    <tr>\n",
       "      <th>215260</th>\n",
       "      <td>$45,450</td>\n",
       "      <td>$31,250</td>\n",
       "      <td>$76,700</td>\n",
       "      <td>2019.0</td>\n",
       "      <td>2.0</td>\n",
       "      <td>NaN</td>\n",
       "      <td>Average</td>\n",
       "      <td>NaN</td>\n",
       "      <td>C</td>\n",
       "      <td>NaN</td>\n",
       "      <td>...</td>\n",
       "      <td>3</td>\n",
       "      <td>2016</td>\n",
       "      <td>10.349775</td>\n",
       "      <td>2.079442</td>\n",
       "      <td>7.893572</td>\n",
       "      <td>4.567143</td>\n",
       "      <td>1.098612</td>\n",
       "      <td>4.934089</td>\n",
       "      <td>-2.912313</td>\n",
       "      <td>7.226057</td>\n",
       "    </tr>\n",
       "    <tr>\n",
       "      <th>108181</th>\n",
       "      <td>$91,950</td>\n",
       "      <td>$20,000</td>\n",
       "      <td>$111,950</td>\n",
       "      <td>2019.0</td>\n",
       "      <td>3.0</td>\n",
       "      <td>NaN</td>\n",
       "      <td>Average</td>\n",
       "      <td>NaN</td>\n",
       "      <td>B</td>\n",
       "      <td>NaN</td>\n",
       "      <td>...</td>\n",
       "      <td>3</td>\n",
       "      <td>2016</td>\n",
       "      <td>9.903488</td>\n",
       "      <td>2.397895</td>\n",
       "      <td>8.193400</td>\n",
       "      <td>4.482676</td>\n",
       "      <td>1.098612</td>\n",
       "      <td>4.767184</td>\n",
       "      <td>-2.816275</td>\n",
       "      <td>7.966975</td>\n",
       "    </tr>\n",
       "    <tr>\n",
       "      <th>215261</th>\n",
       "      <td>$63,150</td>\n",
       "      <td>$31,250</td>\n",
       "      <td>$94,400</td>\n",
       "      <td>2019.0</td>\n",
       "      <td>4.0</td>\n",
       "      <td>NaN</td>\n",
       "      <td>Average</td>\n",
       "      <td>NaN</td>\n",
       "      <td>C</td>\n",
       "      <td>NaN</td>\n",
       "      <td>...</td>\n",
       "      <td>4</td>\n",
       "      <td>2016</td>\n",
       "      <td>10.349775</td>\n",
       "      <td>2.484907</td>\n",
       "      <td>7.813996</td>\n",
       "      <td>5.157545</td>\n",
       "      <td>1.098612</td>\n",
       "      <td>4.934089</td>\n",
       "      <td>-2.912313</td>\n",
       "      <td>7.156288</td>\n",
       "    </tr>\n",
       "    <tr>\n",
       "      <th>165924</th>\n",
       "      <td>$39,775</td>\n",
       "      <td>$18,000</td>\n",
       "      <td>$57,775</td>\n",
       "      <td>2019.0</td>\n",
       "      <td>1.0</td>\n",
       "      <td>NaN</td>\n",
       "      <td>Average</td>\n",
       "      <td>NaN</td>\n",
       "      <td>C</td>\n",
       "      <td>NaN</td>\n",
       "      <td>...</td>\n",
       "      <td>4</td>\n",
       "      <td>2016</td>\n",
       "      <td>9.798127</td>\n",
       "      <td>1.945910</td>\n",
       "      <td>7.712444</td>\n",
       "      <td>4.675950</td>\n",
       "      <td>1.098612</td>\n",
       "      <td>4.820341</td>\n",
       "      <td>-2.887247</td>\n",
       "      <td>7.491470</td>\n",
       "    </tr>\n",
       "    <tr>\n",
       "      <th>150246</th>\n",
       "      <td>$95,200</td>\n",
       "      <td>$29,000</td>\n",
       "      <td>$124,200</td>\n",
       "      <td>2019.0</td>\n",
       "      <td>3.0</td>\n",
       "      <td>NaN</td>\n",
       "      <td>Average</td>\n",
       "      <td>NaN</td>\n",
       "      <td>B</td>\n",
       "      <td>NaN</td>\n",
       "      <td>...</td>\n",
       "      <td>4</td>\n",
       "      <td>2016</td>\n",
       "      <td>10.275051</td>\n",
       "      <td>2.397895</td>\n",
       "      <td>8.311890</td>\n",
       "      <td>4.800423</td>\n",
       "      <td>1.098612</td>\n",
       "      <td>5.075999</td>\n",
       "      <td>-2.605345</td>\n",
       "      <td>7.491470</td>\n",
       "    </tr>\n",
       "    <tr>\n",
       "      <th>84999</th>\n",
       "      <td>$78,000</td>\n",
       "      <td>$131,720</td>\n",
       "      <td>$209,720</td>\n",
       "      <td>2019.0</td>\n",
       "      <td>3.0</td>\n",
       "      <td>NaN</td>\n",
       "      <td>Average</td>\n",
       "      <td>NaN</td>\n",
       "      <td>C</td>\n",
       "      <td>NaN</td>\n",
       "      <td>...</td>\n",
       "      <td>1</td>\n",
       "      <td>2017</td>\n",
       "      <td>11.788434</td>\n",
       "      <td>2.564949</td>\n",
       "      <td>8.050384</td>\n",
       "      <td>4.512488</td>\n",
       "      <td>1.098612</td>\n",
       "      <td>4.512488</td>\n",
       "      <td>-1.381386</td>\n",
       "      <td>7.677665</td>\n",
       "    </tr>\n",
       "    <tr>\n",
       "      <th>169706</th>\n",
       "      <td>$139,550</td>\n",
       "      <td>$29,000</td>\n",
       "      <td>$168,550</td>\n",
       "      <td>2019.0</td>\n",
       "      <td>4.0</td>\n",
       "      <td>NaN</td>\n",
       "      <td>Average</td>\n",
       "      <td>NaN</td>\n",
       "      <td>B</td>\n",
       "      <td>NaN</td>\n",
       "      <td>...</td>\n",
       "      <td>2</td>\n",
       "      <td>2017</td>\n",
       "      <td>10.275051</td>\n",
       "      <td>2.833213</td>\n",
       "      <td>8.429891</td>\n",
       "      <td>5.010926</td>\n",
       "      <td>1.098612</td>\n",
       "      <td>5.075999</td>\n",
       "      <td>-2.605345</td>\n",
       "      <td>5.312253</td>\n",
       "    </tr>\n",
       "    <tr>\n",
       "      <th>22761</th>\n",
       "      <td>$21,875</td>\n",
       "      <td>$12,000</td>\n",
       "      <td>$33,875</td>\n",
       "      <td>2019.0</td>\n",
       "      <td>1.0</td>\n",
       "      <td>NaN</td>\n",
       "      <td>Average</td>\n",
       "      <td>NaN</td>\n",
       "      <td>C</td>\n",
       "      <td>NaN</td>\n",
       "      <td>...</td>\n",
       "      <td>2</td>\n",
       "      <td>2017</td>\n",
       "      <td>9.392662</td>\n",
       "      <td>1.609438</td>\n",
       "      <td>7.259116</td>\n",
       "      <td>4.754585</td>\n",
       "      <td>1.098612</td>\n",
       "      <td>4.646261</td>\n",
       "      <td>-2.130727</td>\n",
       "      <td>8.334916</td>\n",
       "    </tr>\n",
       "  </tbody>\n",
       "</table>\n",
       "<p>10 rows × 81 columns</p>\n",
       "</div>"
      ],
      "text/plain": [
       "       Assessment Improvement Assessment Land Assessment Total  \\\n",
       "13282                $44,250         $20,250          $64,500    \n",
       "215263               $41,100         $31,250          $72,350    \n",
       "215260               $45,450         $31,250          $76,700    \n",
       "108181               $91,950         $20,000         $111,950    \n",
       "215261               $63,150         $31,250          $94,400    \n",
       "165924               $39,775         $18,000          $57,775    \n",
       "150246               $95,200         $29,000         $124,200    \n",
       "84999                $78,000        $131,720         $209,720    \n",
       "169706              $139,550         $29,000         $168,550    \n",
       "22761                $21,875         $12,000          $33,875    \n",
       "\n",
       "        Assessment Year  Baths  Beds2 Building Condition Building Condition2  \\\n",
       "13282            2019.0    3.0    NaN               Fair                 NaN   \n",
       "215263           2019.0    2.0    NaN            Average                 NaN   \n",
       "215260           2019.0    2.0    NaN            Average                 NaN   \n",
       "108181           2019.0    3.0    NaN            Average                 NaN   \n",
       "215261           2019.0    4.0    NaN            Average                 NaN   \n",
       "165924           2019.0    1.0    NaN            Average                 NaN   \n",
       "150246           2019.0    3.0    NaN            Average                 NaN   \n",
       "84999            2019.0    3.0    NaN            Average                 NaN   \n",
       "169706           2019.0    4.0    NaN            Average                 NaN   \n",
       "22761            2019.0    1.0    NaN            Average                 NaN   \n",
       "\n",
       "       Building Grade Building Grade2  ... Quarter  Year Log Assessment  \\\n",
       "13282               C             NaN  ...       2  2015       9.915910   \n",
       "215263              C             NaN  ...       3  2015      10.349775   \n",
       "215260              C             NaN  ...       3  2016      10.349775   \n",
       "108181              B             NaN  ...       3  2016       9.903488   \n",
       "215261              C             NaN  ...       4  2016      10.349775   \n",
       "165924              C             NaN  ...       4  2016       9.798127   \n",
       "150246              B             NaN  ...       4  2016      10.275051   \n",
       "84999               C             NaN  ...       1  2017      11.788434   \n",
       "169706              B             NaN  ...       2  2017      10.275051   \n",
       "22761               C             NaN  ...       2  2017       9.392662   \n",
       "\n",
       "       Log Fixtures  Log SqFt   Log PPS  Log Land  Log NbhdPPS Log NbhdRatio  \\\n",
       "13282      2.397895  7.888335  4.540882  1.098612     4.772120     -2.603969   \n",
       "215263     2.079442  7.604396  5.130915  1.098612     4.934089     -2.912313   \n",
       "215260     2.079442  7.893572  4.567143  1.098612     4.934089     -2.912313   \n",
       "108181     2.397895  8.193400  4.482676  1.098612     4.767184     -2.816275   \n",
       "215261     2.484907  7.813996  5.157545  1.098612     4.934089     -2.912313   \n",
       "165924     1.945910  7.712444  4.675950  1.098612     4.820341     -2.887247   \n",
       "150246     2.397895  8.311890  4.800423  1.098612     5.075999     -2.605345   \n",
       "84999      2.564949  8.050384  4.512488  1.098612     4.512488     -1.381386   \n",
       "169706     2.833213  8.429891  5.010926  1.098612     5.075999     -2.605345   \n",
       "22761      1.609438  7.259116  4.754585  1.098612     4.646261     -2.130727   \n",
       "\n",
       "       Log Built  \n",
       "13282   6.861616  \n",
       "215263  7.226057  \n",
       "215260  7.226057  \n",
       "108181  7.966975  \n",
       "215261  7.156288  \n",
       "165924  7.491470  \n",
       "150246  7.491470  \n",
       "84999   7.677665  \n",
       "169706  5.312253  \n",
       "22761   8.334916  \n",
       "\n",
       "[10 rows x 81 columns]"
      ]
     },
     "execution_count": 8,
     "metadata": {},
     "output_type": "execute_result"
    }
   ],
   "source": [
    "nash.nlargest(10, 'Land Area Acres')"
   ]
  },
  {
   "cell_type": "markdown",
   "metadata": {},
   "source": [
    "## Now to the Machine Learning:\n",
    "\n",
    "First I'll run a dummy regressor, which just guesses the median. Then I'll attempt a few different models with increasing accuracy."
   ]
  },
  {
   "cell_type": "code",
   "execution_count": 9,
   "metadata": {},
   "outputs": [
    {
     "data": {
      "text/plain": [
       "78.425955954947"
      ]
     },
     "execution_count": 9,
     "metadata": {},
     "output_type": "execute_result"
    }
   ],
   "source": [
    "#Important metric to keep in mind when judging your model's performance.\n",
    "np.std(nash.PPS)"
   ]
  },
  {
   "cell_type": "code",
   "execution_count": 90,
   "metadata": {},
   "outputs": [
    {
     "name": "stdout",
     "output_type": "stream",
     "text": [
      "(53726, 81)\n",
      "(53650, 16)\n"
     ]
    }
   ],
   "source": [
    "from sklearn.metrics import mean_squared_error as MSE\n",
    "from sklearn.metrics import median_absolute_error as MAE\n",
    "from sklearn.metrics import mean_absolute_error, r2_score\n",
    "from sklearn.metrics import r2_score\n",
    "from sklearn.metrics import mean_squared_log_error as MSLE\n",
    "from sklearn.model_selection import train_test_split, cross_val_score, cross_validate\n",
    "\n",
    "ML = nash[['Neighborhood','Log Built','Log NbhdRatio','Building Condition',\n",
    "           'Log SqFt','Log Fixtures','Building Type Custom','Building Grade',\n",
    "           'Exterior Wall','Year','Log NbhdPPS', 'PPS', 'Quarter', 'Log Assessment', \n",
    "           'Year Built', 'Zone']].dropna()\n",
    "\n",
    "#dtreeviz doesn't work with features whose names have spaces.\n",
    "ML.columns = ['Neighborhood', 'Log-Built','Log-NbhdRatio', 'Building-Condition', \n",
    "              'Log-SqFt', 'Log-Fixtures', 'Building-Type-Custom', 'Building-Grade', \n",
    "              'Exterior-Wall', 'Year', 'Log-NbhdPPS', 'PPS', 'Quarter', 'Log-Assessment', \n",
    "              'Year-Built', 'Zone']\n",
    "\n",
    "print(nash.shape)\n",
    "print(ML.shape)\n",
    "\n",
    "X= pd.get_dummies(ML[['Log-Built','Log-NbhdPPS','Log-SqFt','Year','Log-Fixtures', \n",
    "                      'Quarter', 'Building-Grade', 'Building-Type-Custom', \n",
    "                      'Neighborhood']])\n",
    "y=ML['PPS']"
   ]
  },
  {
   "cell_type": "code",
   "execution_count": 91,
   "metadata": {},
   "outputs": [],
   "source": [
    "from sklearn.model_selection import TimeSeriesSplit\n",
    "\n",
    "tscv = TimeSeriesSplit(n_splits=5)\n",
    "for train_index, test_index in tscv.split(X):\n",
    "    X_train, X_test = X.iloc[train_index, :], X.iloc[test_index,:]\n",
    "    y_train, y_test = y.iloc[train_index], y.iloc[test_index]\n",
    "\n",
    "scoring = ['r2', 'neg_mean_absolute_error', 'neg_median_absolute_error', \n",
    "           'neg_mean_squared_error', 'neg_mean_squared_log_error']\n"
   ]
  },
  {
   "cell_type": "code",
   "execution_count": 92,
   "metadata": {},
   "outputs": [
    {
     "name": "stdout",
     "output_type": "stream",
     "text": [
      "CV score of fit_time is 0.04188861846923828\n",
      "CV score of score_time is 0.0026961326599121093\n",
      "CV score of test_r2 is -0.26041083687323474\n",
      "CV score of test_neg_mean_absolute_error is -56.52181754932493\n",
      "CV score of test_neg_median_absolute_error is -36.186639233183236\n",
      "CV score of test_neg_mean_squared_error is -7132.377719120368\n",
      "CV score of test_neg_mean_squared_log_error is -0.20807602669734693\n"
     ]
    }
   ],
   "source": [
    "from sklearn.dummy import DummyRegressor as DR\n",
    "model = DR(strategy='median')\n",
    "model.fit(X_train, y_train)\n",
    "y_pred= model.predict(X_test)\n",
    "scoring = ['r2', 'neg_mean_absolute_error', 'neg_median_absolute_error', \n",
    "           'neg_mean_squared_error', 'neg_mean_squared_log_error']\n",
    "scores = cross_validate(model, X_train, y_train, cv=tscv, \n",
    "                        scoring=scoring, return_train_score=False)\n",
    "for score in scores:\n",
    "    print(f'CV score of {score} is {scores[score].mean()}')"
   ]
  },
  {
   "cell_type": "code",
   "execution_count": 93,
   "metadata": {},
   "outputs": [
    {
     "name": "stdout",
     "output_type": "stream",
     "text": [
      "CV score of fit_time is 0.8053337574005127\n",
      "CV score of score_time is 0.17304635047912598\n",
      "CV score of test_r2 is 0.6013297209286099\n",
      "CV score of test_neg_mean_absolute_error is -31.00779577721594\n",
      "CV score of test_neg_median_absolute_error is -18.603851875039037\n",
      "CV score of test_neg_mean_squared_error is -2258.792365130168\n",
      "CV score of test_neg_mean_squared_log_error is -0.1656980545918279\n"
     ]
    }
   ],
   "source": [
    "from sklearn.tree import DecisionTreeRegressor as DTR\n",
    "model = DTR()\n",
    "model.fit(X_train, y_train)\n",
    "y_pred= model.predict(X_test)\n",
    "scoring = ['r2', 'neg_mean_absolute_error', 'neg_median_absolute_error', \n",
    "           'neg_mean_squared_error', 'neg_mean_squared_log_error']\n",
    "scores = cross_validate(model, X_train, y_train, cv=tscv, \n",
    "                        scoring=scoring, return_train_score=False)\n",
    "for score in scores:\n",
    "    print(f'CV score of {score} is {scores[score].mean()}')"
   ]
  },
  {
   "cell_type": "code",
   "execution_count": 94,
   "metadata": {},
   "outputs": [
    {
     "name": "stderr",
     "output_type": "stream",
     "text": [
      "/home/drew/anaconda3/lib/python3.7/site-packages/sklearn/ensemble/forest.py:246: FutureWarning: The default value of n_estimators will change from 10 in version 0.20 to 100 in 0.22.\n",
      "  \"10 in version 0.20 to 100 in 0.22.\", FutureWarning)\n"
     ]
    },
    {
     "name": "stdout",
     "output_type": "stream",
     "text": [
      "CV score of fit_time is 4.98642201423645\n",
      "CV score of score_time is 0.29878721237182615\n",
      "CV score of test_r2 is 0.7162208467848398\n",
      "CV score of test_neg_mean_absolute_error is -26.19937459211031\n",
      "CV score of test_neg_median_absolute_error is -16.078537095027784\n",
      "CV score of test_neg_mean_squared_error is -1612.784503401032\n",
      "CV score of test_neg_mean_squared_log_error is -0.09316363535465984\n"
     ]
    }
   ],
   "source": [
    "from sklearn.ensemble import RandomForestRegressor as RFR\n",
    "model = RFR(random_state=42)\n",
    "model.fit(X_train,y_train)\n",
    "y_pred=model.predict(X_test)\n",
    "scoring = ['r2', 'neg_mean_absolute_error', 'neg_median_absolute_error', \n",
    "           'neg_mean_squared_error', 'neg_mean_squared_log_error']\n",
    "scores = cross_validate(model, X_train, y_train, cv=tscv, \n",
    "                        scoring=scoring, return_train_score=False)\n",
    "for score in scores:\n",
    "    print(f'CV score of {score} is {scores[score].mean()}')"
   ]
  },
  {
   "cell_type": "code",
   "execution_count": 95,
   "metadata": {},
   "outputs": [
    {
     "name": "stderr",
     "output_type": "stream",
     "text": [
      "/home/drew/anaconda3/lib/python3.7/site-packages/xgboost/core.py:587: FutureWarning: Series.base is deprecated and will be removed in a future version\n",
      "  if getattr(data, 'base', None) is not None and \\\n",
      "/home/drew/anaconda3/lib/python3.7/site-packages/xgboost/core.py:587: FutureWarning: Series.base is deprecated and will be removed in a future version\n",
      "  if getattr(data, 'base', None) is not None and \\\n"
     ]
    },
    {
     "ename": "KeyboardInterrupt",
     "evalue": "",
     "output_type": "error",
     "traceback": [
      "\u001b[0;31m---------------------------------------------------------------------------\u001b[0m",
      "\u001b[0;31mKeyboardInterrupt\u001b[0m                         Traceback (most recent call last)",
      "\u001b[0;32m<ipython-input-95-4bdbe591bd71>\u001b[0m in \u001b[0;36m<module>\u001b[0;34m\u001b[0m\n\u001b[1;32m     12\u001b[0m \u001b[0my_predxg\u001b[0m\u001b[0;34m=\u001b[0m\u001b[0mmodel\u001b[0m\u001b[0;34m.\u001b[0m\u001b[0mpredict\u001b[0m\u001b[0;34m(\u001b[0m\u001b[0mX_test\u001b[0m\u001b[0;34m)\u001b[0m\u001b[0;34m\u001b[0m\u001b[0;34m\u001b[0m\u001b[0m\n\u001b[1;32m     13\u001b[0m \u001b[0mscoring\u001b[0m \u001b[0;34m=\u001b[0m \u001b[0;34m[\u001b[0m\u001b[0;34m'r2'\u001b[0m\u001b[0;34m,\u001b[0m \u001b[0;34m'neg_mean_absolute_error'\u001b[0m\u001b[0;34m,\u001b[0m \u001b[0;34m'neg_median_absolute_error'\u001b[0m\u001b[0;34m,\u001b[0m \u001b[0;34m'neg_mean_squared_error'\u001b[0m\u001b[0;34m]\u001b[0m\u001b[0;34m\u001b[0m\u001b[0;34m\u001b[0m\u001b[0m\n\u001b[0;32m---> 14\u001b[0;31m \u001b[0mscores\u001b[0m \u001b[0;34m=\u001b[0m \u001b[0mcross_validate\u001b[0m\u001b[0;34m(\u001b[0m\u001b[0mmodel\u001b[0m\u001b[0;34m,\u001b[0m \u001b[0mX_train\u001b[0m\u001b[0;34m,\u001b[0m \u001b[0my_train\u001b[0m\u001b[0;34m,\u001b[0m \u001b[0mcv\u001b[0m\u001b[0;34m=\u001b[0m\u001b[0mtscv\u001b[0m\u001b[0;34m,\u001b[0m \u001b[0mscoring\u001b[0m\u001b[0;34m=\u001b[0m\u001b[0mscoring\u001b[0m\u001b[0;34m,\u001b[0m \u001b[0mreturn_train_score\u001b[0m\u001b[0;34m=\u001b[0m\u001b[0;32mFalse\u001b[0m\u001b[0;34m)\u001b[0m\u001b[0;34m\u001b[0m\u001b[0;34m\u001b[0m\u001b[0m\n\u001b[0m\u001b[1;32m     15\u001b[0m \u001b[0;32mfor\u001b[0m \u001b[0mscore\u001b[0m \u001b[0;32min\u001b[0m \u001b[0mscores\u001b[0m\u001b[0;34m:\u001b[0m\u001b[0;34m\u001b[0m\u001b[0;34m\u001b[0m\u001b[0m\n\u001b[1;32m     16\u001b[0m     \u001b[0mprint\u001b[0m\u001b[0;34m(\u001b[0m\u001b[0;34mf'CV score of {score} is {scores[score].mean()}'\u001b[0m\u001b[0;34m)\u001b[0m\u001b[0;34m\u001b[0m\u001b[0;34m\u001b[0m\u001b[0m\n",
      "\u001b[0;32m~/anaconda3/lib/python3.7/site-packages/sklearn/model_selection/_validation.py\u001b[0m in \u001b[0;36mcross_validate\u001b[0;34m(estimator, X, y, groups, scoring, cv, n_jobs, verbose, fit_params, pre_dispatch, return_train_score, return_estimator, error_score)\u001b[0m\n\u001b[1;32m    238\u001b[0m             \u001b[0mreturn_times\u001b[0m\u001b[0;34m=\u001b[0m\u001b[0;32mTrue\u001b[0m\u001b[0;34m,\u001b[0m \u001b[0mreturn_estimator\u001b[0m\u001b[0;34m=\u001b[0m\u001b[0mreturn_estimator\u001b[0m\u001b[0;34m,\u001b[0m\u001b[0;34m\u001b[0m\u001b[0;34m\u001b[0m\u001b[0m\n\u001b[1;32m    239\u001b[0m             error_score=error_score)\n\u001b[0;32m--> 240\u001b[0;31m         for train, test in cv.split(X, y, groups))\n\u001b[0m\u001b[1;32m    241\u001b[0m \u001b[0;34m\u001b[0m\u001b[0m\n\u001b[1;32m    242\u001b[0m     \u001b[0mzipped_scores\u001b[0m \u001b[0;34m=\u001b[0m \u001b[0mlist\u001b[0m\u001b[0;34m(\u001b[0m\u001b[0mzip\u001b[0m\u001b[0;34m(\u001b[0m\u001b[0;34m*\u001b[0m\u001b[0mscores\u001b[0m\u001b[0;34m)\u001b[0m\u001b[0;34m)\u001b[0m\u001b[0;34m\u001b[0m\u001b[0;34m\u001b[0m\u001b[0m\n",
      "\u001b[0;32m~/anaconda3/lib/python3.7/site-packages/sklearn/externals/joblib/parallel.py\u001b[0m in \u001b[0;36m__call__\u001b[0;34m(self, iterable)\u001b[0m\n\u001b[1;32m    918\u001b[0m                 \u001b[0mself\u001b[0m\u001b[0;34m.\u001b[0m\u001b[0m_iterating\u001b[0m \u001b[0;34m=\u001b[0m \u001b[0mself\u001b[0m\u001b[0;34m.\u001b[0m\u001b[0m_original_iterator\u001b[0m \u001b[0;32mis\u001b[0m \u001b[0;32mnot\u001b[0m \u001b[0;32mNone\u001b[0m\u001b[0;34m\u001b[0m\u001b[0;34m\u001b[0m\u001b[0m\n\u001b[1;32m    919\u001b[0m \u001b[0;34m\u001b[0m\u001b[0m\n\u001b[0;32m--> 920\u001b[0;31m             \u001b[0;32mwhile\u001b[0m \u001b[0mself\u001b[0m\u001b[0;34m.\u001b[0m\u001b[0mdispatch_one_batch\u001b[0m\u001b[0;34m(\u001b[0m\u001b[0miterator\u001b[0m\u001b[0;34m)\u001b[0m\u001b[0;34m:\u001b[0m\u001b[0;34m\u001b[0m\u001b[0;34m\u001b[0m\u001b[0m\n\u001b[0m\u001b[1;32m    921\u001b[0m                 \u001b[0;32mpass\u001b[0m\u001b[0;34m\u001b[0m\u001b[0;34m\u001b[0m\u001b[0m\n\u001b[1;32m    922\u001b[0m \u001b[0;34m\u001b[0m\u001b[0m\n",
      "\u001b[0;32m~/anaconda3/lib/python3.7/site-packages/sklearn/externals/joblib/parallel.py\u001b[0m in \u001b[0;36mdispatch_one_batch\u001b[0;34m(self, iterator)\u001b[0m\n\u001b[1;32m    757\u001b[0m                 \u001b[0;32mreturn\u001b[0m \u001b[0;32mFalse\u001b[0m\u001b[0;34m\u001b[0m\u001b[0;34m\u001b[0m\u001b[0m\n\u001b[1;32m    758\u001b[0m             \u001b[0;32melse\u001b[0m\u001b[0;34m:\u001b[0m\u001b[0;34m\u001b[0m\u001b[0;34m\u001b[0m\u001b[0m\n\u001b[0;32m--> 759\u001b[0;31m                 \u001b[0mself\u001b[0m\u001b[0;34m.\u001b[0m\u001b[0m_dispatch\u001b[0m\u001b[0;34m(\u001b[0m\u001b[0mtasks\u001b[0m\u001b[0;34m)\u001b[0m\u001b[0;34m\u001b[0m\u001b[0;34m\u001b[0m\u001b[0m\n\u001b[0m\u001b[1;32m    760\u001b[0m                 \u001b[0;32mreturn\u001b[0m \u001b[0;32mTrue\u001b[0m\u001b[0;34m\u001b[0m\u001b[0;34m\u001b[0m\u001b[0m\n\u001b[1;32m    761\u001b[0m \u001b[0;34m\u001b[0m\u001b[0m\n",
      "\u001b[0;32m~/anaconda3/lib/python3.7/site-packages/sklearn/externals/joblib/parallel.py\u001b[0m in \u001b[0;36m_dispatch\u001b[0;34m(self, batch)\u001b[0m\n\u001b[1;32m    714\u001b[0m         \u001b[0;32mwith\u001b[0m \u001b[0mself\u001b[0m\u001b[0;34m.\u001b[0m\u001b[0m_lock\u001b[0m\u001b[0;34m:\u001b[0m\u001b[0;34m\u001b[0m\u001b[0;34m\u001b[0m\u001b[0m\n\u001b[1;32m    715\u001b[0m             \u001b[0mjob_idx\u001b[0m \u001b[0;34m=\u001b[0m \u001b[0mlen\u001b[0m\u001b[0;34m(\u001b[0m\u001b[0mself\u001b[0m\u001b[0;34m.\u001b[0m\u001b[0m_jobs\u001b[0m\u001b[0;34m)\u001b[0m\u001b[0;34m\u001b[0m\u001b[0;34m\u001b[0m\u001b[0m\n\u001b[0;32m--> 716\u001b[0;31m             \u001b[0mjob\u001b[0m \u001b[0;34m=\u001b[0m \u001b[0mself\u001b[0m\u001b[0;34m.\u001b[0m\u001b[0m_backend\u001b[0m\u001b[0;34m.\u001b[0m\u001b[0mapply_async\u001b[0m\u001b[0;34m(\u001b[0m\u001b[0mbatch\u001b[0m\u001b[0;34m,\u001b[0m \u001b[0mcallback\u001b[0m\u001b[0;34m=\u001b[0m\u001b[0mcb\u001b[0m\u001b[0;34m)\u001b[0m\u001b[0;34m\u001b[0m\u001b[0;34m\u001b[0m\u001b[0m\n\u001b[0m\u001b[1;32m    717\u001b[0m             \u001b[0;31m# A job can complete so quickly than its callback is\u001b[0m\u001b[0;34m\u001b[0m\u001b[0;34m\u001b[0m\u001b[0;34m\u001b[0m\u001b[0m\n\u001b[1;32m    718\u001b[0m             \u001b[0;31m# called before we get here, causing self._jobs to\u001b[0m\u001b[0;34m\u001b[0m\u001b[0;34m\u001b[0m\u001b[0;34m\u001b[0m\u001b[0m\n",
      "\u001b[0;32m~/anaconda3/lib/python3.7/site-packages/sklearn/externals/joblib/_parallel_backends.py\u001b[0m in \u001b[0;36mapply_async\u001b[0;34m(self, func, callback)\u001b[0m\n\u001b[1;32m    180\u001b[0m     \u001b[0;32mdef\u001b[0m \u001b[0mapply_async\u001b[0m\u001b[0;34m(\u001b[0m\u001b[0mself\u001b[0m\u001b[0;34m,\u001b[0m \u001b[0mfunc\u001b[0m\u001b[0;34m,\u001b[0m \u001b[0mcallback\u001b[0m\u001b[0;34m=\u001b[0m\u001b[0;32mNone\u001b[0m\u001b[0;34m)\u001b[0m\u001b[0;34m:\u001b[0m\u001b[0;34m\u001b[0m\u001b[0;34m\u001b[0m\u001b[0m\n\u001b[1;32m    181\u001b[0m         \u001b[0;34m\"\"\"Schedule a func to be run\"\"\"\u001b[0m\u001b[0;34m\u001b[0m\u001b[0;34m\u001b[0m\u001b[0m\n\u001b[0;32m--> 182\u001b[0;31m         \u001b[0mresult\u001b[0m \u001b[0;34m=\u001b[0m \u001b[0mImmediateResult\u001b[0m\u001b[0;34m(\u001b[0m\u001b[0mfunc\u001b[0m\u001b[0;34m)\u001b[0m\u001b[0;34m\u001b[0m\u001b[0;34m\u001b[0m\u001b[0m\n\u001b[0m\u001b[1;32m    183\u001b[0m         \u001b[0;32mif\u001b[0m \u001b[0mcallback\u001b[0m\u001b[0;34m:\u001b[0m\u001b[0;34m\u001b[0m\u001b[0;34m\u001b[0m\u001b[0m\n\u001b[1;32m    184\u001b[0m             \u001b[0mcallback\u001b[0m\u001b[0;34m(\u001b[0m\u001b[0mresult\u001b[0m\u001b[0;34m)\u001b[0m\u001b[0;34m\u001b[0m\u001b[0;34m\u001b[0m\u001b[0m\n",
      "\u001b[0;32m~/anaconda3/lib/python3.7/site-packages/sklearn/externals/joblib/_parallel_backends.py\u001b[0m in \u001b[0;36m__init__\u001b[0;34m(self, batch)\u001b[0m\n\u001b[1;32m    547\u001b[0m         \u001b[0;31m# Don't delay the application, to avoid keeping the input\u001b[0m\u001b[0;34m\u001b[0m\u001b[0;34m\u001b[0m\u001b[0;34m\u001b[0m\u001b[0m\n\u001b[1;32m    548\u001b[0m         \u001b[0;31m# arguments in memory\u001b[0m\u001b[0;34m\u001b[0m\u001b[0;34m\u001b[0m\u001b[0;34m\u001b[0m\u001b[0m\n\u001b[0;32m--> 549\u001b[0;31m         \u001b[0mself\u001b[0m\u001b[0;34m.\u001b[0m\u001b[0mresults\u001b[0m \u001b[0;34m=\u001b[0m \u001b[0mbatch\u001b[0m\u001b[0;34m(\u001b[0m\u001b[0;34m)\u001b[0m\u001b[0;34m\u001b[0m\u001b[0;34m\u001b[0m\u001b[0m\n\u001b[0m\u001b[1;32m    550\u001b[0m \u001b[0;34m\u001b[0m\u001b[0m\n\u001b[1;32m    551\u001b[0m     \u001b[0;32mdef\u001b[0m \u001b[0mget\u001b[0m\u001b[0;34m(\u001b[0m\u001b[0mself\u001b[0m\u001b[0;34m)\u001b[0m\u001b[0;34m:\u001b[0m\u001b[0;34m\u001b[0m\u001b[0;34m\u001b[0m\u001b[0m\n",
      "\u001b[0;32m~/anaconda3/lib/python3.7/site-packages/sklearn/externals/joblib/parallel.py\u001b[0m in \u001b[0;36m__call__\u001b[0;34m(self)\u001b[0m\n\u001b[1;32m    223\u001b[0m         \u001b[0;32mwith\u001b[0m \u001b[0mparallel_backend\u001b[0m\u001b[0;34m(\u001b[0m\u001b[0mself\u001b[0m\u001b[0;34m.\u001b[0m\u001b[0m_backend\u001b[0m\u001b[0;34m,\u001b[0m \u001b[0mn_jobs\u001b[0m\u001b[0;34m=\u001b[0m\u001b[0mself\u001b[0m\u001b[0;34m.\u001b[0m\u001b[0m_n_jobs\u001b[0m\u001b[0;34m)\u001b[0m\u001b[0;34m:\u001b[0m\u001b[0;34m\u001b[0m\u001b[0;34m\u001b[0m\u001b[0m\n\u001b[1;32m    224\u001b[0m             return [func(*args, **kwargs)\n\u001b[0;32m--> 225\u001b[0;31m                     for func, args, kwargs in self.items]\n\u001b[0m\u001b[1;32m    226\u001b[0m \u001b[0;34m\u001b[0m\u001b[0m\n\u001b[1;32m    227\u001b[0m     \u001b[0;32mdef\u001b[0m \u001b[0m__len__\u001b[0m\u001b[0;34m(\u001b[0m\u001b[0mself\u001b[0m\u001b[0;34m)\u001b[0m\u001b[0;34m:\u001b[0m\u001b[0;34m\u001b[0m\u001b[0;34m\u001b[0m\u001b[0m\n",
      "\u001b[0;32m~/anaconda3/lib/python3.7/site-packages/sklearn/externals/joblib/parallel.py\u001b[0m in \u001b[0;36m<listcomp>\u001b[0;34m(.0)\u001b[0m\n\u001b[1;32m    223\u001b[0m         \u001b[0;32mwith\u001b[0m \u001b[0mparallel_backend\u001b[0m\u001b[0;34m(\u001b[0m\u001b[0mself\u001b[0m\u001b[0;34m.\u001b[0m\u001b[0m_backend\u001b[0m\u001b[0;34m,\u001b[0m \u001b[0mn_jobs\u001b[0m\u001b[0;34m=\u001b[0m\u001b[0mself\u001b[0m\u001b[0;34m.\u001b[0m\u001b[0m_n_jobs\u001b[0m\u001b[0;34m)\u001b[0m\u001b[0;34m:\u001b[0m\u001b[0;34m\u001b[0m\u001b[0;34m\u001b[0m\u001b[0m\n\u001b[1;32m    224\u001b[0m             return [func(*args, **kwargs)\n\u001b[0;32m--> 225\u001b[0;31m                     for func, args, kwargs in self.items]\n\u001b[0m\u001b[1;32m    226\u001b[0m \u001b[0;34m\u001b[0m\u001b[0m\n\u001b[1;32m    227\u001b[0m     \u001b[0;32mdef\u001b[0m \u001b[0m__len__\u001b[0m\u001b[0;34m(\u001b[0m\u001b[0mself\u001b[0m\u001b[0;34m)\u001b[0m\u001b[0;34m:\u001b[0m\u001b[0;34m\u001b[0m\u001b[0;34m\u001b[0m\u001b[0m\n",
      "\u001b[0;32m~/anaconda3/lib/python3.7/site-packages/sklearn/model_selection/_validation.py\u001b[0m in \u001b[0;36m_fit_and_score\u001b[0;34m(estimator, X, y, scorer, train, test, verbose, parameters, fit_params, return_train_score, return_parameters, return_n_test_samples, return_times, return_estimator, error_score)\u001b[0m\n\u001b[1;32m    526\u001b[0m             \u001b[0mestimator\u001b[0m\u001b[0;34m.\u001b[0m\u001b[0mfit\u001b[0m\u001b[0;34m(\u001b[0m\u001b[0mX_train\u001b[0m\u001b[0;34m,\u001b[0m \u001b[0;34m**\u001b[0m\u001b[0mfit_params\u001b[0m\u001b[0;34m)\u001b[0m\u001b[0;34m\u001b[0m\u001b[0;34m\u001b[0m\u001b[0m\n\u001b[1;32m    527\u001b[0m         \u001b[0;32melse\u001b[0m\u001b[0;34m:\u001b[0m\u001b[0;34m\u001b[0m\u001b[0;34m\u001b[0m\u001b[0m\n\u001b[0;32m--> 528\u001b[0;31m             \u001b[0mestimator\u001b[0m\u001b[0;34m.\u001b[0m\u001b[0mfit\u001b[0m\u001b[0;34m(\u001b[0m\u001b[0mX_train\u001b[0m\u001b[0;34m,\u001b[0m \u001b[0my_train\u001b[0m\u001b[0;34m,\u001b[0m \u001b[0;34m**\u001b[0m\u001b[0mfit_params\u001b[0m\u001b[0;34m)\u001b[0m\u001b[0;34m\u001b[0m\u001b[0;34m\u001b[0m\u001b[0m\n\u001b[0m\u001b[1;32m    529\u001b[0m \u001b[0;34m\u001b[0m\u001b[0m\n\u001b[1;32m    530\u001b[0m     \u001b[0;32mexcept\u001b[0m \u001b[0mException\u001b[0m \u001b[0;32mas\u001b[0m \u001b[0me\u001b[0m\u001b[0;34m:\u001b[0m\u001b[0;34m\u001b[0m\u001b[0;34m\u001b[0m\u001b[0m\n",
      "\u001b[0;32m~/anaconda3/lib/python3.7/site-packages/xgboost/sklearn.py\u001b[0m in \u001b[0;36mfit\u001b[0;34m(self, X, y, sample_weight, eval_set, eval_metric, early_stopping_rounds, verbose, xgb_model, sample_weight_eval_set, callbacks)\u001b[0m\n\u001b[1;32m    394\u001b[0m                               \u001b[0mevals_result\u001b[0m\u001b[0;34m=\u001b[0m\u001b[0mevals_result\u001b[0m\u001b[0;34m,\u001b[0m \u001b[0mobj\u001b[0m\u001b[0;34m=\u001b[0m\u001b[0mobj\u001b[0m\u001b[0;34m,\u001b[0m \u001b[0mfeval\u001b[0m\u001b[0;34m=\u001b[0m\u001b[0mfeval\u001b[0m\u001b[0;34m,\u001b[0m\u001b[0;34m\u001b[0m\u001b[0;34m\u001b[0m\u001b[0m\n\u001b[1;32m    395\u001b[0m                               \u001b[0mverbose_eval\u001b[0m\u001b[0;34m=\u001b[0m\u001b[0mverbose\u001b[0m\u001b[0;34m,\u001b[0m \u001b[0mxgb_model\u001b[0m\u001b[0;34m=\u001b[0m\u001b[0mxgb_model\u001b[0m\u001b[0;34m,\u001b[0m\u001b[0;34m\u001b[0m\u001b[0;34m\u001b[0m\u001b[0m\n\u001b[0;32m--> 396\u001b[0;31m                               callbacks=callbacks)\n\u001b[0m\u001b[1;32m    397\u001b[0m \u001b[0;34m\u001b[0m\u001b[0m\n\u001b[1;32m    398\u001b[0m         \u001b[0;32mif\u001b[0m \u001b[0mevals_result\u001b[0m\u001b[0;34m:\u001b[0m\u001b[0;34m\u001b[0m\u001b[0;34m\u001b[0m\u001b[0m\n",
      "\u001b[0;32m~/anaconda3/lib/python3.7/site-packages/xgboost/training.py\u001b[0m in \u001b[0;36mtrain\u001b[0;34m(params, dtrain, num_boost_round, evals, obj, feval, maximize, early_stopping_rounds, evals_result, verbose_eval, xgb_model, callbacks, learning_rates)\u001b[0m\n\u001b[1;32m    214\u001b[0m                            \u001b[0mevals\u001b[0m\u001b[0;34m=\u001b[0m\u001b[0mevals\u001b[0m\u001b[0;34m,\u001b[0m\u001b[0;34m\u001b[0m\u001b[0;34m\u001b[0m\u001b[0m\n\u001b[1;32m    215\u001b[0m                            \u001b[0mobj\u001b[0m\u001b[0;34m=\u001b[0m\u001b[0mobj\u001b[0m\u001b[0;34m,\u001b[0m \u001b[0mfeval\u001b[0m\u001b[0;34m=\u001b[0m\u001b[0mfeval\u001b[0m\u001b[0;34m,\u001b[0m\u001b[0;34m\u001b[0m\u001b[0;34m\u001b[0m\u001b[0m\n\u001b[0;32m--> 216\u001b[0;31m                            xgb_model=xgb_model, callbacks=callbacks)\n\u001b[0m\u001b[1;32m    217\u001b[0m \u001b[0;34m\u001b[0m\u001b[0m\n\u001b[1;32m    218\u001b[0m \u001b[0;34m\u001b[0m\u001b[0m\n",
      "\u001b[0;32m~/anaconda3/lib/python3.7/site-packages/xgboost/training.py\u001b[0m in \u001b[0;36m_train_internal\u001b[0;34m(params, dtrain, num_boost_round, evals, obj, feval, xgb_model, callbacks)\u001b[0m\n\u001b[1;32m     72\u001b[0m         \u001b[0;31m# Skip the first update if it is a recovery step.\u001b[0m\u001b[0;34m\u001b[0m\u001b[0;34m\u001b[0m\u001b[0;34m\u001b[0m\u001b[0m\n\u001b[1;32m     73\u001b[0m         \u001b[0;32mif\u001b[0m \u001b[0mversion\u001b[0m \u001b[0;34m%\u001b[0m \u001b[0;36m2\u001b[0m \u001b[0;34m==\u001b[0m \u001b[0;36m0\u001b[0m\u001b[0;34m:\u001b[0m\u001b[0;34m\u001b[0m\u001b[0;34m\u001b[0m\u001b[0m\n\u001b[0;32m---> 74\u001b[0;31m             \u001b[0mbst\u001b[0m\u001b[0;34m.\u001b[0m\u001b[0mupdate\u001b[0m\u001b[0;34m(\u001b[0m\u001b[0mdtrain\u001b[0m\u001b[0;34m,\u001b[0m \u001b[0mi\u001b[0m\u001b[0;34m,\u001b[0m \u001b[0mobj\u001b[0m\u001b[0;34m)\u001b[0m\u001b[0;34m\u001b[0m\u001b[0;34m\u001b[0m\u001b[0m\n\u001b[0m\u001b[1;32m     75\u001b[0m             \u001b[0mbst\u001b[0m\u001b[0;34m.\u001b[0m\u001b[0msave_rabit_checkpoint\u001b[0m\u001b[0;34m(\u001b[0m\u001b[0;34m)\u001b[0m\u001b[0;34m\u001b[0m\u001b[0;34m\u001b[0m\u001b[0m\n\u001b[1;32m     76\u001b[0m             \u001b[0mversion\u001b[0m \u001b[0;34m+=\u001b[0m \u001b[0;36m1\u001b[0m\u001b[0;34m\u001b[0m\u001b[0;34m\u001b[0m\u001b[0m\n",
      "\u001b[0;32m~/anaconda3/lib/python3.7/site-packages/xgboost/core.py\u001b[0m in \u001b[0;36mupdate\u001b[0;34m(self, dtrain, iteration, fobj)\u001b[0m\n\u001b[1;32m   1107\u001b[0m         \u001b[0;32mif\u001b[0m \u001b[0mfobj\u001b[0m \u001b[0;32mis\u001b[0m \u001b[0;32mNone\u001b[0m\u001b[0;34m:\u001b[0m\u001b[0;34m\u001b[0m\u001b[0;34m\u001b[0m\u001b[0m\n\u001b[1;32m   1108\u001b[0m             _check_call(_LIB.XGBoosterUpdateOneIter(self.handle, ctypes.c_int(iteration),\n\u001b[0;32m-> 1109\u001b[0;31m                                                     dtrain.handle))\n\u001b[0m\u001b[1;32m   1110\u001b[0m         \u001b[0;32melse\u001b[0m\u001b[0;34m:\u001b[0m\u001b[0;34m\u001b[0m\u001b[0;34m\u001b[0m\u001b[0m\n\u001b[1;32m   1111\u001b[0m             \u001b[0mpred\u001b[0m \u001b[0;34m=\u001b[0m \u001b[0mself\u001b[0m\u001b[0;34m.\u001b[0m\u001b[0mpredict\u001b[0m\u001b[0;34m(\u001b[0m\u001b[0mdtrain\u001b[0m\u001b[0;34m)\u001b[0m\u001b[0;34m\u001b[0m\u001b[0;34m\u001b[0m\u001b[0m\n",
      "\u001b[0;31mKeyboardInterrupt\u001b[0m: "
     ]
    }
   ],
   "source": [
    "from xgboost import XGBRegressor as XGBR\n",
    "#Best model parameters from GridSearchCV\n",
    "model = XGBR(base_score=0.5, booster='gbtree', colsample_bylevel=1,\n",
    "       colsample_bynode=1, colsample_bytree=0.4, gamma=0,\n",
    "       importance_type='gain', learning_rate=0.08, max_delta_step=0,\n",
    "       max_depth=6, min_child_weight=1.5, missing=None, n_estimators=600,\n",
    "       n_jobs=1, nthread=None, objective='reg:squarederror', random_state=0,\n",
    "       reg_alpha=0.75, reg_lambda=0.45, scale_pos_weight=1, seed=42,\n",
    "       silent=None, subsample=0.6, verbosity=1)\n",
    "\n",
    "model.fit(X_train,y_train)\n",
    "y_predxg=model.predict(X_test)\n",
    "scoring = ['r2', 'neg_mean_absolute_error', 'neg_median_absolute_error', 'neg_mean_squared_error']\n",
    "scores = cross_validate(model, X_train, y_train, cv=tscv, scoring=scoring, return_train_score=False)\n",
    "for score in scores:\n",
    "    print(f'CV score of {score} is {scores[score].mean()}')"
   ]
  },
  {
   "cell_type": "code",
   "execution_count": null,
   "metadata": {},
   "outputs": [],
   "source": [
    "import xgboost as xgb\n",
    "plt.figure(figsize=(9,9))\n",
    "xgb.plot_importance(model)"
   ]
  },
  {
   "cell_type": "code",
   "execution_count": null,
   "metadata": {},
   "outputs": [],
   "source": [
    "fig, ax = plt.subplots(figsize=(30,30))\n",
    "xgb.plot_tree(model, ax=ax, rankdir='LR')\n",
    "plt.show()"
   ]
  },
  {
   "cell_type": "markdown",
   "metadata": {},
   "source": [
    "### Now testing Microsoft's LightGBM\n",
    "\n",
    "LightGBM runs much faster (which gives me more time for tuning) and includes some built-in graphing abilities. Performance is generally about the same, but sometimes better than XGBoost, depending on the dataset."
   ]
  },
  {
   "cell_type": "code",
   "execution_count": 96,
   "metadata": {},
   "outputs": [
    {
     "name": "stderr",
     "output_type": "stream",
     "text": [
      "/home/drew/anaconda3/lib/python3.7/site-packages/lightgbm/engine.py:118: UserWarning: Found `n_estimators` in params. Will use it instead of argument\n",
      "  warnings.warn(\"Found `{}` in params. Will use it instead of argument\".format(alias))\n"
     ]
    },
    {
     "name": "stdout",
     "output_type": "stream",
     "text": [
      "[100]\ttraining's l1: 18.7909\tvalid_1's l1: 26.427\n",
      "[200]\ttraining's l1: 18.0972\tvalid_1's l1: 26.0143\n",
      "[300]\ttraining's l1: 17.6766\tvalid_1's l1: 25.8069\n",
      "[400]\ttraining's l1: 17.3287\tvalid_1's l1: 25.6874\n",
      "[500]\ttraining's l1: 17.0686\tvalid_1's l1: 25.594\n",
      "[600]\ttraining's l1: 16.8449\tvalid_1's l1: 25.5178\n",
      "[700]\ttraining's l1: 16.6352\tvalid_1's l1: 25.483\n",
      "[800]\ttraining's l1: 16.4942\tvalid_1's l1: 25.4633\n",
      "[900]\ttraining's l1: 16.3277\tvalid_1's l1: 25.4258\n",
      "[1000]\ttraining's l1: 16.1517\tvalid_1's l1: 25.3719\n",
      "RMSE: 41.76865607457278\n",
      "Median Absolute Error: 14.506270992898294\n",
      "Mean Absolute Error: 25.371861564071853\n",
      "Coefficient of Determination: 0.7356535510566974\n",
      "Root Mean Squared Logarithmic Error: 0.2713051416001116\n"
     ]
    },
    {
     "data": {
      "text/plain": [
       "<matplotlib.axes._subplots.AxesSubplot at 0x7fb490d3e7b8>"
      ]
     },
     "execution_count": 96,
     "metadata": {},
     "output_type": "execute_result"
    },
    {
     "data": {
      "image/png": "[encoded data removed]",
      "text/plain": [
       "<Figure size 432x288 with 1 Axes>"
      ]
     },
     "metadata": {
      "needs_background": "light"
     },
     "output_type": "display_data"
    },
    {
     "data": {
      "image/png": "[encoded data removed]",
      "text/plain": [
       "<Figure size 432x288 with 1 Axes>"
      ]
     },
     "metadata": {
      "needs_background": "light"
     },
     "output_type": "display_data"
    }
   ],
   "source": [
    "import lightgbm as lgb\n",
    "dtrain = lgb.Dataset(X_train, label=y_train)\n",
    "dvalid = lgb.Dataset(X_test,y_test)\n",
    "evals_result={}\n",
    "params = {'objective':'regression_l1', 'max_depth': 6,'reg_alpha':2, 'metric':'l1', \n",
    "          'min_child_weight': 40, 'n_estimators': 1000, 'num_leaves': 250}\n",
    "gbm = lgb.train(params=params,\n",
    "                train_set= dtrain,\n",
    "                valid_sets=[dtrain, dvalid],\n",
    "                evals_result=evals_result,\n",
    "                verbose_eval=100)\n",
    "y_predgbm=gbm.predict(X_test)\n",
    "print('RMSE: {}'.format(MSE(y_test,y_predgbm)**0.5))\n",
    "print('Median Absolute Error: {}'.format(MAE(y_test,y_predgbm)))\n",
    "print('Mean Absolute Error: {}'.format(mean_absolute_error(y_test, y_predgbm)))\n",
    "print('Coefficient of Determination: {}'.format(r2_score(y_test, y_predgbm)))\n",
    "print('Root Mean Squared Logarithmic Error: {}'.format(MSLE(np.abs(y_predgbm),np.abs(y_test))**0.5))\n",
    "lgb.plot_metric(booster=evals_result)\n",
    "lgb.plot_importance(gbm, max_num_features=10)"
   ]
  },
  {
   "cell_type": "code",
   "execution_count": 70,
   "metadata": {},
   "outputs": [
    {
     "name": "stdout",
     "output_type": "stream",
     "text": [
      "Best parameters found by grid search are: {'learning_rate': 0.18, 'max_depth': 5, 'min_child_weight': 30, 'n_estimators': 500, 'num_leaves': 350}\n",
      "-979.7414304038286\n",
      "40.70816450542394\n",
      "13.789789824617856\n",
      "24.68290634952489\n",
      "0.7489064720251355\n"
     ]
    }
   ],
   "source": [
    "from sklearn.model_selection import GridSearchCV\n",
    "estimator = lgb.LGBMRegressor()\n",
    "evals_result={}\n",
    "param_grid = {\n",
    "    'learning_rate': [0.18,0.21],\n",
    "    'n_estimators': [500],\n",
    "    'min_child_weight':[30,50],\n",
    "    'max_depth': [5],\n",
    "    'num_leaves': [350]\n",
    "    }\n",
    "params={}\n",
    "gbm = GridSearchCV(estimator, param_grid, cv=5, scoring ='neg_mean_squared_error')\n",
    "gbm.fit(X_train, y_train)\n",
    "y_predlgb= gbm.predict(X_test)\n",
    "print('Best parameters found by grid search are:', gbm.best_params_)\n",
    "print(gbm.best_score_)\n",
    "print(MSE(y_test,y_predlgb)**0.5)\n",
    "print(MAE(y_test,y_predlgb))\n",
    "print(mean_absolute_error(y_test, y_predlgb))\n",
    "print(r2_score(y_test, y_predlgb))"
   ]
  },
  {
   "cell_type": "code",
   "execution_count": null,
   "metadata": {},
   "outputs": [],
   "source": [
    "gbm.best_estimator_"
   ]
  },
  {
   "cell_type": "code",
   "execution_count": 97,
   "metadata": {},
   "outputs": [
    {
     "name": "stdout",
     "output_type": "stream",
     "text": [
      "Dumping model to JSON...\n"
     ]
    }
   ],
   "source": [
    "# save model to file\n",
    "gbm.save_model('model.txt')\n",
    "# dump model to JSON (and save to file)\n",
    "model_json = gbm.dump_model()"
   ]
  },
  {
   "cell_type": "markdown",
   "metadata": {},
   "source": [
    "## Examining residual errors"
   ]
  },
  {
   "cell_type": "code",
   "execution_count": null,
   "metadata": {},
   "outputs": [],
   "source": [
    "copiedxg= X_test.copy()\n",
    "copiedxg['Actual']= y_test\n",
    "copiedxg['Predicted']= y_predxg\n",
    "copiedxg['Residual'] = np.absolute(copiedxg['Actual'] - copiedxg['Predicted'])"
   ]
  },
  {
   "cell_type": "code",
   "execution_count": null,
   "metadata": {},
   "outputs": [],
   "source": [
    "plt.figure(figsize=(9,9))\n",
    "plt.title('Residuals from XGBoost Model',fontsize=20)\n",
    "sns.distplot(copiedxg.Residual.dropna())"
   ]
  },
  {
   "cell_type": "code",
   "execution_count": null,
   "metadata": {},
   "outputs": [],
   "source": [
    "#The pattern in my biggest flubs is, there's a big difference between the NeighborhoodPPS and the actual PPS\n",
    "#However, adding NeighborhoodPPS to the model significantly increases performance.\n",
    "#So how can I tune it to accept NeighborhoodPPS while minimizing this error?\n",
    "copiedxg.nlargest(15,'Residual')[['Log-NbhdPPS', 'Actual', 'Predicted', 'Residual']]"
   ]
  },
  {
   "cell_type": "code",
   "execution_count": null,
   "metadata": {},
   "outputs": [],
   "source": [
    "copiedxg.nlargest(15, 'Residual')[['Actual','Predicted','Residual', 'Log-NbhdPPS']]"
   ]
  },
  {
   "cell_type": "code",
   "execution_count": null,
   "metadata": {},
   "outputs": [],
   "source": [
    "copiedlgb= X_test.copy()\n",
    "copiedlgb['Actual']= y_test\n",
    "copiedlgb['Predicted']= y_predgbm\n",
    "copiedlgb['Residual'] = np.absolute(copiedlgb['Actual'] - copiedlgb['Predicted'])\n",
    "copiedlgb.nlargest(15, 'Residual')"
   ]
  },
  {
   "cell_type": "code",
   "execution_count": null,
   "metadata": {},
   "outputs": [],
   "source": [
    "plt.figure(figsize=(9,9))\n",
    "plt.title('Residuals from LightGBM Model',fontsize=20)\n",
    "sns.distplot(copiedlgb.Residual.dropna())"
   ]
  },
  {
   "cell_type": "markdown",
   "metadata": {},
   "source": [
    "## Interpretting the Model"
   ]
  },
  {
   "cell_type": "code",
   "execution_count": null,
   "metadata": {},
   "outputs": [],
   "source": [
    "import statsmodels as sm\n",
    "lowess = sm.nonparametric.smoothers_lowess.lowess\n",
    "z = lowess(y_predgbm, y_test)\n",
    "test = pd.DataFrame({\"prediction\": copiedlgb['Predicted'], \"observed\": copiedlgb['Actual']})\n",
    "test.plot(figsize = [14,8],\n",
    "          x =\"prediction\", y = \"observed\", kind = \"scatter\", color = 'darkred')\n",
    "plt.title(\"LightGBM: Prediction vs Test Data\", fontsize = 18, color = \"darkgreen\")\n",
    "plt.xlabel(\"Predicted PPS\", fontsize = 18) \n",
    "plt.ylabel(\"Observed PPS\", fontsize = 18)\n",
    "plt.plot(z[:,0], z[:,1], color = \"blue\", lw= 3)\n",
    "plt.show()"
   ]
  },
  {
   "cell_type": "code",
   "execution_count": null,
   "metadata": {},
   "outputs": [],
   "source": [
    "from mpl_toolkits.mplot3d import Axes3D\n",
    "import matplotlib.pyplot as plt\n",
    "\n",
    "fig = plt.figure(figsize=(12,12))\n",
    "ax = fig.add_subplot(111, projection='3d')\n",
    "\n",
    "x =copiedlgb['Actual']\n",
    "y =copiedlgb['Residual']\n",
    "z =copiedlgb['Log-NbhdPPS'].map(lambda x: np.exp(x))\n",
    "plt.title('LightGBM Model', fontsize=18)\n",
    "ax.scatter(x, y, z, c='g', marker='o')\n",
    "ax.set_xlabel('X: PPS')\n",
    "ax.set_ylabel('Y: Residual')\n",
    "ax.set_zlabel('Z: Neighborhood PPS')\n",
    "\n",
    "#It looks like the biggest residuals are for houses where the actual PPS was very different from the average PPS in the neighborhood.\n",
    "#To clarify: these observations are up (high Neighborhood PPS), to the left (low PPS), and back (high residual error)"
   ]
  },
  {
   "cell_type": "code",
   "execution_count": null,
   "metadata": {},
   "outputs": [],
   "source": [
    "diff = np.abs(copiedlgb['Actual']-copiedlgb['Log-NbhdPPS'].map(lambda x: np.exp(x)))\n",
    "plt.figure(figsize=(9,9))\n",
    "plt.scatter(diff,copiedlgb['Residual'])\n",
    "plt.xlabel('Difference between House PPS and Nbhd Avg PPS', fontsize=13)\n",
    "plt.ylabel('Residual', fontsize=13)\n",
    "plt.title('LightGBM Model', fontsize=20)\n",
    "#So the residual is linearly correlated with how different the house's PPS is from the average PPS in its neighborhood.\n",
    "#However, NeighborhoodPPS is an important feature in the ML model and performance suffers without it\n",
    "#To me, this means the NeighborhoodPPS is a good start for a metric, but can be improved (with historical sales data)\n",
    "#In my next iteration of the model, I'll put in more info about sales in each neighborhood."
   ]
  },
  {
   "cell_type": "markdown",
   "metadata": {},
   "source": [
    "## Model Interpretation with SHAP\n",
    "Features in red pushed the prediction higher, features in blue pushed it lower. \n",
    "SHAP visualizes with D3 and GitHub doesn't display JavaScript so I won't add any SHAP plots past these 2 for now."
   ]
  },
  {
   "cell_type": "markdown",
   "metadata": {},
   "source": [
    "## Visualize the feature effects for the 200th prediction (chosen as a random example)\n",
    "## Features in red pushed the prediction higher, blue features pushed it lower.\n",
    "\n",
    "![title](shap.png)"
   ]
  }
 ],
 "metadata": {
  "kernelspec": {
   "display_name": "Python 3",
   "language": "python",
   "name": "python3"
  },
  "language_info": {
   "codemirror_mode": {
    "name": "ipython",
    "version": 3
   },
   "file_extension": ".py",
   "mimetype": "text/x-python",
   "name": "python",
   "nbconvert_exporter": "python",
   "pygments_lexer": "ipython3",
   "version": "3.7.3"
  }
 },
 "nbformat": 4,
 "nbformat_minor": 2
}
