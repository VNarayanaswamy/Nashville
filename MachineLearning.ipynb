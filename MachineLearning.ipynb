{
 "cells": [
  {
   "cell_type": "markdown",
   "metadata": {},
   "source": [
    "## Observations\n",
    "\n",
    "Month is not a useful variable. Try Quarter.\n",
    "Best result so far is decision tree with df[['Exterior Wall', 'Fixtures', 'Neighborhood', 'Story Height', 'Assessment Ratio', 'Building Grade', 'Quarter']]\n",
    "\n",
    "Lots of outliers here, try RandomForest\n",
    "\n",
    "With XGBoost, got down to 40.9\n",
    "\n",
    "## Next step: incorporate data from full dataframe.\n",
    "\n",
    "Possibly: average fixtures per house in the neighborhood?"
   ]
  },
  {
   "cell_type": "code",
   "execution_count": 1,
   "metadata": {},
   "outputs": [],
   "source": [
    "import matplotlib.pyplot as plt\n",
    "import numpy as np\n",
    "import seaborn as sns\n",
    "import pandas as pd \n",
    "%matplotlib inline\n",
    "sns.set(style='darkgrid')\n",
    "import matplotlib.dates as mdates"
   ]
  },
  {
   "cell_type": "code",
   "execution_count": 2,
   "metadata": {},
   "outputs": [
    {
     "name": "stderr",
     "output_type": "stream",
     "text": [
      "C:\\Users\\alehe\\Anaconda3\\lib\\site-packages\\IPython\\core\\interactiveshell.py:3020: DtypeWarning: Columns (39) have mixed types. Specify dtype option on import or set low_memory=False.\n",
      "  interactivity=interactivity, compiler=compiler, result=result)\n"
     ]
    }
   ],
   "source": [
    "df1=pd.read_csv('nashville_20190813150235.csv', parse_dates = ['Most Recent Sale Date', 'Sale Date'], dtype={'Zone': str, 'Neighborhood': str})"
   ]
  },
  {
   "cell_type": "code",
   "execution_count": 3,
   "metadata": {},
   "outputs": [],
   "source": [
    "#Creating new dataframe without duplicate entires\n",
    "df=df1.sort_values(by='Sale Date').drop_duplicates(subset='Map & Parcel', keep = 'last')\n",
    "#Dropping parcels that were involved in multi-parcel sales\n",
    "#Want to create a new column which is the mean sale price per square foot of a parcel in that neighborhood\n",
    "df['PPS']=df['Sale Price']/df['Square Footage Improved']\n",
    "df['PPS']=df['PPS'].replace(np.inf, np.nan)\n",
    "meanpps=df.groupby('Neighborhood')['PPS'].mean().to_frame().rename(columns={'PPS':'NeighborhoodPPS'})\n",
    "df=df.merge(meanpps, how='left', left_on = 'Neighborhood',right_index=True)\n",
    "df=df[df['Multiple Parcels Involved in Sale'] == 'No']\n",
    "#Testing the averaged assessment ratio idea.\n",
    "df['Assessment Ratio'] = df['Assessment Land Improved'] / df['Total Appraisal Value Improved']\n",
    "nbhdratio=df.groupby('Neighborhood')['Assessment Ratio'].mean().to_frame().rename(columns={'Assessment Ratio':'Nbhd Ratio'})\n",
    "df=df.merge(nbhdratio, how='left', left_on = 'Neighborhood',right_index=True)\n",
    "df['Month']= df['Sale Date'].dt.month\n",
    "df['Quarter'] = df['Sale Date'].dt.quarter\n",
    "#df = df[(df.Neighborhood != '9527') & (df.Neighborhood != '9026')]"
   ]
  },
  {
   "cell_type": "code",
   "execution_count": 71,
   "metadata": {},
   "outputs": [],
   "source": [
    "df['Building Grade']= df['Building Grade'].str.replace(r'\\w\\w\\w', '').dropna()"
   ]
  },
  {
   "cell_type": "code",
   "execution_count": 58,
   "metadata": {},
   "outputs": [
    {
     "data": {
      "text/plain": [
       "0.900    266.666667\n",
       "0.950    315.803927\n",
       "0.995    583.715271\n",
       "Name: PPS, dtype: float64"
      ]
     },
     "execution_count": 58,
     "metadata": {},
     "output_type": "execute_result"
    }
   ],
   "source": [
    "df['PPS'].quantile([.9, .95, .995])"
   ]
  },
  {
   "cell_type": "code",
   "execution_count": 60,
   "metadata": {},
   "outputs": [
    {
     "data": {
      "text/html": [
       "<div>\n",
       "<style scoped>\n",
       "    .dataframe tbody tr th:only-of-type {\n",
       "        vertical-align: middle;\n",
       "    }\n",
       "\n",
       "    .dataframe tbody tr th {\n",
       "        vertical-align: top;\n",
       "    }\n",
       "\n",
       "    .dataframe thead th {\n",
       "        text-align: right;\n",
       "    }\n",
       "</style>\n",
       "<table border=\"1\" class=\"dataframe\">\n",
       "  <thead>\n",
       "    <tr style=\"text-align: right;\">\n",
       "      <th></th>\n",
       "      <th>Location</th>\n",
       "      <th>Zone</th>\n",
       "      <th>Sale Price</th>\n",
       "      <th>PPS</th>\n",
       "      <th>Square Footage Improved</th>\n",
       "    </tr>\n",
       "  </thead>\n",
       "  <tbody>\n",
       "    <tr>\n",
       "      <th>190760</th>\n",
       "      <td>1221 OLD HICKORY BLVD</td>\n",
       "      <td>2</td>\n",
       "      <td>960000.0</td>\n",
       "      <td>1290.322581</td>\n",
       "      <td>744.0</td>\n",
       "    </tr>\n",
       "    <tr>\n",
       "      <th>77176</th>\n",
       "      <td>1701 RUSSELL ST</td>\n",
       "      <td>6</td>\n",
       "      <td>730000.0</td>\n",
       "      <td>1276.223776</td>\n",
       "      <td>572.0</td>\n",
       "    </tr>\n",
       "    <tr>\n",
       "      <th>75808</th>\n",
       "      <td>122 S 12TH ST</td>\n",
       "      <td>6</td>\n",
       "      <td>1135000.0</td>\n",
       "      <td>1266.741071</td>\n",
       "      <td>896.0</td>\n",
       "    </tr>\n",
       "    <tr>\n",
       "      <th>116428</th>\n",
       "      <td>2310 BELMONT BLVD</td>\n",
       "      <td>2</td>\n",
       "      <td>865000.0</td>\n",
       "      <td>1259.097525</td>\n",
       "      <td>687.0</td>\n",
       "    </tr>\n",
       "    <tr>\n",
       "      <th>118882</th>\n",
       "      <td>2037 ELLIOTT AVE</td>\n",
       "      <td>2</td>\n",
       "      <td>745000.0</td>\n",
       "      <td>1258.445946</td>\n",
       "      <td>592.0</td>\n",
       "    </tr>\n",
       "    <tr>\n",
       "      <th>279745</th>\n",
       "      <td>515 CHURCH ST Unit 4502</td>\n",
       "      <td>9</td>\n",
       "      <td>5500000.0</td>\n",
       "      <td>1257.142857</td>\n",
       "      <td>4375.0</td>\n",
       "    </tr>\n",
       "    <tr>\n",
       "      <th>73958</th>\n",
       "      <td>1020 MAXWELL AVE</td>\n",
       "      <td>6</td>\n",
       "      <td>685000.0</td>\n",
       "      <td>1254.578755</td>\n",
       "      <td>546.0</td>\n",
       "    </tr>\n",
       "    <tr>\n",
       "      <th>135423</th>\n",
       "      <td>1014 PARIS AVE</td>\n",
       "      <td>2</td>\n",
       "      <td>739000.0</td>\n",
       "      <td>1248.310811</td>\n",
       "      <td>592.0</td>\n",
       "    </tr>\n",
       "    <tr>\n",
       "      <th>75746</th>\n",
       "      <td>1408 WOODLAND ST</td>\n",
       "      <td>6</td>\n",
       "      <td>945000.0</td>\n",
       "      <td>1217.783505</td>\n",
       "      <td>776.0</td>\n",
       "    </tr>\n",
       "    <tr>\n",
       "      <th>107225</th>\n",
       "      <td>216 54TH AVE N</td>\n",
       "      <td>2</td>\n",
       "      <td>430000.0</td>\n",
       "      <td>1194.444444</td>\n",
       "      <td>360.0</td>\n",
       "    </tr>\n",
       "    <tr>\n",
       "      <th>70629</th>\n",
       "      <td>945 A MANSFIELD ST</td>\n",
       "      <td>6</td>\n",
       "      <td>685000.0</td>\n",
       "      <td>1189.236111</td>\n",
       "      <td>576.0</td>\n",
       "    </tr>\n",
       "    <tr>\n",
       "      <th>117804</th>\n",
       "      <td>1000 ARGYLE AVE</td>\n",
       "      <td>2</td>\n",
       "      <td>285000.0</td>\n",
       "      <td>1187.500000</td>\n",
       "      <td>240.0</td>\n",
       "    </tr>\n",
       "    <tr>\n",
       "      <th>136371</th>\n",
       "      <td>1007 CLAYTON AVE</td>\n",
       "      <td>2</td>\n",
       "      <td>573000.0</td>\n",
       "      <td>1179.012346</td>\n",
       "      <td>486.0</td>\n",
       "    </tr>\n",
       "    <tr>\n",
       "      <th>73295</th>\n",
       "      <td>1405 PORTER RD</td>\n",
       "      <td>6</td>\n",
       "      <td>468600.0</td>\n",
       "      <td>1171.500000</td>\n",
       "      <td>400.0</td>\n",
       "    </tr>\n",
       "    <tr>\n",
       "      <th>114036</th>\n",
       "      <td>2510 ESSEX PL</td>\n",
       "      <td>2</td>\n",
       "      <td>1300000.0</td>\n",
       "      <td>1168.014376</td>\n",
       "      <td>1113.0</td>\n",
       "    </tr>\n",
       "  </tbody>\n",
       "</table>\n",
       "</div>"
      ],
      "text/plain": [
       "                       Location Zone  Sale Price          PPS  \\\n",
       "190760    1221 OLD HICKORY BLVD    2    960000.0  1290.322581   \n",
       "77176           1701 RUSSELL ST    6    730000.0  1276.223776   \n",
       "75808             122 S 12TH ST    6   1135000.0  1266.741071   \n",
       "116428        2310 BELMONT BLVD    2    865000.0  1259.097525   \n",
       "118882         2037 ELLIOTT AVE    2    745000.0  1258.445946   \n",
       "279745  515 CHURCH ST Unit 4502    9   5500000.0  1257.142857   \n",
       "73958          1020 MAXWELL AVE    6    685000.0  1254.578755   \n",
       "135423           1014 PARIS AVE    2    739000.0  1248.310811   \n",
       "75746          1408 WOODLAND ST    6    945000.0  1217.783505   \n",
       "107225           216 54TH AVE N    2    430000.0  1194.444444   \n",
       "70629        945 A MANSFIELD ST    6    685000.0  1189.236111   \n",
       "117804          1000 ARGYLE AVE    2    285000.0  1187.500000   \n",
       "136371         1007 CLAYTON AVE    2    573000.0  1179.012346   \n",
       "73295            1405 PORTER RD    6    468600.0  1171.500000   \n",
       "114036            2510 ESSEX PL    2   1300000.0  1168.014376   \n",
       "\n",
       "        Square Footage Improved  \n",
       "190760                    744.0  \n",
       "77176                     572.0  \n",
       "75808                     896.0  \n",
       "116428                    687.0  \n",
       "118882                    592.0  \n",
       "279745                   4375.0  \n",
       "73958                     546.0  \n",
       "135423                    592.0  \n",
       "75746                     776.0  \n",
       "107225                    360.0  \n",
       "70629                     576.0  \n",
       "117804                    240.0  \n",
       "136371                    486.0  \n",
       "73295                     400.0  \n",
       "114036                   1113.0  "
      ]
     },
     "execution_count": 60,
     "metadata": {},
     "output_type": "execute_result"
    }
   ],
   "source": [
    "df.nlargest(15, 'PPS')[['Location', 'Zone', 'Sale Price', 'PPS', 'Square Footage Improved']]"
   ]
  },
  {
   "cell_type": "code",
   "execution_count": 68,
   "metadata": {},
   "outputs": [
    {
     "data": {
      "text/plain": [
       "<matplotlib.axes._subplots.AxesSubplot at 0x1d436608f98>"
      ]
     },
     "execution_count": 68,
     "metadata": {},
     "output_type": "execute_result"
    },
    {
     "data": {
      "image/png": "[encoded data removed]",
      "text/plain": [
       "<Figure size 432x288 with 1 Axes>"
      ]
     },
     "metadata": {
      "needs_background": "light"
     },
     "output_type": "display_data"
    }
   ],
   "source": [
    "df=df[df.PPS <= 1200]\n",
    "sns.distplot(df['PPS'].dropna())"
   ]
  },
  {
   "cell_type": "code",
   "execution_count": 69,
   "metadata": {},
   "outputs": [
    {
     "data": {
      "text/plain": [
       "<matplotlib.axes._subplots.AxesSubplot at 0x1d43699e390>"
      ]
     },
     "execution_count": 69,
     "metadata": {},
     "output_type": "execute_result"
    },
    {
     "data": {
      "image/png": "[encoded data removed]",
      "text/plain": [
       "<Figure size 432x288 with 1 Axes>"
      ]
     },
     "metadata": {
      "needs_background": "light"
     },
     "output_type": "display_data"
    }
   ],
   "source": [
    "df['Log Assessment']= df['Assessment Land Improved'].map(lambda x: np.log(x) if (pd.notnull(x) and x != 0) else None)\n",
    "df['Log Assessment']=df['Log Assessment'].replace(np.inf, np.nan)\n",
    "sns.distplot(df['Log Assessment'].dropna())"
   ]
  },
  {
   "cell_type": "code",
   "execution_count": 70,
   "metadata": {},
   "outputs": [
    {
     "data": {
      "text/plain": [
       "<matplotlib.axes._subplots.AxesSubplot at 0x1d436a1b390>"
      ]
     },
     "execution_count": 70,
     "metadata": {},
     "output_type": "execute_result"
    },
    {
     "data": {
      "image/png": "[encoded data removed]",
      "text/plain": [
       "<Figure size 432x288 with 1 Axes>"
      ]
     },
     "metadata": {
      "needs_background": "light"
     },
     "output_type": "display_data"
    }
   ],
   "source": [
    "df['Log Fixtures']= df['Fixtures'].map(lambda x: np.log(x) if (pd.notnull(x) and x != 0) else None)\n",
    "df['Log Fixtures']=df['Log Fixtures'].replace(np.inf, np.nan)\n",
    "sns.distplot(df['Log Fixtures'].dropna())"
   ]
  },
  {
   "cell_type": "code",
   "execution_count": 8,
   "metadata": {},
   "outputs": [
    {
     "data": {
      "text/plain": [
       "<matplotlib.axes._subplots.AxesSubplot at 0x1eecf304ac8>"
      ]
     },
     "execution_count": 8,
     "metadata": {},
     "output_type": "execute_result"
    },
    {
     "data": {
      "image/png": "[encoded data removed]",
      "text/plain": [
       "<Figure size 432x288 with 1 Axes>"
      ]
     },
     "metadata": {
      "needs_background": "light"
     },
     "output_type": "display_data"
    }
   ],
   "source": [
    "sns.distplot(df['Fixtures'].dropna())"
   ]
  },
  {
   "cell_type": "code",
   "execution_count": 9,
   "metadata": {},
   "outputs": [
    {
     "data": {
      "text/plain": [
       "89.58656452443442"
      ]
     },
     "execution_count": 9,
     "metadata": {},
     "output_type": "execute_result"
    }
   ],
   "source": [
    "np.std(df.PPS)"
   ]
  },
  {
   "cell_type": "code",
   "execution_count": 72,
   "metadata": {},
   "outputs": [
    {
     "data": {
      "text/plain": [
       "<matplotlib.axes._subplots.AxesSubplot at 0x1d436c1c5f8>"
      ]
     },
     "execution_count": 72,
     "metadata": {},
     "output_type": "execute_result"
    },
    {
     "data": {
      "image/png": "[encoded data removed]",
      "text/plain": [
       "<Figure size 432x288 with 1 Axes>"
      ]
     },
     "metadata": {
      "needs_background": "light"
     },
     "output_type": "display_data"
    }
   ],
   "source": [
    "df['Log SqFt']= df['Square Footage Improved'].map(lambda x: np.log(x) if (pd.notnull(x) and x != 0) else None)\n",
    "df['Log SqFt']=df['Log SqFt'].replace(np.inf, np.nan)\n",
    "sns.distplot(df['Log SqFt'].dropna())"
   ]
  },
  {
   "cell_type": "code",
   "execution_count": 73,
   "metadata": {},
   "outputs": [
    {
     "data": {
      "text/plain": [
       "<matplotlib.axes._subplots.AxesSubplot at 0x1d436cd4ac8>"
      ]
     },
     "execution_count": 73,
     "metadata": {},
     "output_type": "execute_result"
    },
    {
     "data": {
      "image/png": "[encoded data removed]",
      "text/plain": [
       "<Figure size 432x288 with 1 Axes>"
      ]
     },
     "metadata": {
      "needs_background": "light"
     },
     "output_type": "display_data"
    }
   ],
   "source": [
    "df['Log PPS']= df['PPS'].map(lambda x: np.log(x) if (pd.notnull(x) and x != 0) else None)\n",
    "df['Log PPS']=df['Log PPS'].replace(np.inf, np.nan)\n",
    "sns.distplot(df['Log PPS'].dropna())"
   ]
  },
  {
   "cell_type": "code",
   "execution_count": 12,
   "metadata": {},
   "outputs": [],
   "source": [
    "from sklearn.metrics import mean_squared_error as MSE\n",
    "from sklearn.tree import DecisionTreeRegressor as DTR\n",
    "from sklearn.model_selection import train_test_split"
   ]
  },
  {
   "cell_type": "code",
   "execution_count": 74,
   "metadata": {},
   "outputs": [],
   "source": [
    "df2 = df[['Exterior Wall','Building Grade','Log Fixtures', 'Log SqFt','Nbhd Ratio', 'NeighborhoodPPS', 'Log PPS', 'Log Assessment', 'Quarter']].dropna()\n",
    "X= pd.get_dummies(df2[['Exterior Wall','Building Grade', 'NeighborhoodPPS','Log Fixtures','Nbhd Ratio','Log SqFt', 'Log Assessment', 'Quarter']])\n",
    "y=df2['Log PPS']\n",
    "X_train, X_test, y_train, y_test = train_test_split(X, y, test_size=0.28, random_state=42)"
   ]
  },
  {
   "cell_type": "code",
   "execution_count": 50,
   "metadata": {},
   "outputs": [
    {
     "data": {
      "text/plain": [
       "(54138, 9)"
      ]
     },
     "execution_count": 50,
     "metadata": {},
     "output_type": "execute_result"
    }
   ],
   "source": [
    "df2.shape"
   ]
  },
  {
   "cell_type": "code",
   "execution_count": 75,
   "metadata": {},
   "outputs": [
    {
     "name": "stdout",
     "output_type": "stream",
     "text": [
      "91.94129971841934\n"
     ]
    }
   ],
   "source": [
    "from sklearn.dummy import DummyRegressor as DR\n",
    "model = DR(strategy='median')\n",
    "dr=model.fit(X_train, y_train)\n",
    "y_pred= dr.predict(X_test)\n",
    "print(MSE(np.exp(y_pred), np.exp(y_test))**0.5)"
   ]
  },
  {
   "cell_type": "code",
   "execution_count": 76,
   "metadata": {},
   "outputs": [
    {
     "name": "stdout",
     "output_type": "stream",
     "text": [
      "55.03710201372207\n"
     ]
    }
   ],
   "source": [
    "model = DTR()\n",
    "dtr=model.fit(X_train, y_train)\n",
    "y_pred= dtr.predict(X_test)\n",
    "print(MSE(np.exp(y_pred), np.exp(y_test))**0.5)"
   ]
  },
  {
   "cell_type": "code",
   "execution_count": 29,
   "metadata": {},
   "outputs": [
    {
     "data": {
      "text/plain": [
       "170.19746557132845"
      ]
     },
     "execution_count": 29,
     "metadata": {},
     "output_type": "execute_result"
    }
   ],
   "source": [
    "np.exp(y_test).mean()"
   ]
  },
  {
   "cell_type": "code",
   "execution_count": 57,
   "metadata": {},
   "outputs": [
    {
     "data": {
      "text/plain": [
       "149.57812500000003"
      ]
     },
     "execution_count": 57,
     "metadata": {},
     "output_type": "execute_result"
    }
   ],
   "source": [
    "np.exp(y_test).median()"
   ]
  },
  {
   "cell_type": "code",
   "execution_count": 77,
   "metadata": {},
   "outputs": [
    {
     "name": "stderr",
     "output_type": "stream",
     "text": [
      "C:\\Users\\alehe\\Anaconda3\\lib\\site-packages\\sklearn\\ensemble\\forest.py:245: FutureWarning: The default value of n_estimators will change from 10 in version 0.20 to 100 in 0.22.\n",
      "  \"10 in version 0.20 to 100 in 0.22.\", FutureWarning)\n"
     ]
    },
    {
     "name": "stdout",
     "output_type": "stream",
     "text": [
      "43.88741610455989\n"
     ]
    }
   ],
   "source": [
    "from sklearn.ensemble import RandomForestRegressor as RFR\n",
    "model = RFR(random_state=42)\n",
    "rfr=model.fit(X_train,y_train)\n",
    "y_pred=rfr.predict(X_test)\n",
    "print(MSE(np.exp(y_pred), np.exp(y_test))**0.5)"
   ]
  },
  {
   "cell_type": "code",
   "execution_count": 78,
   "metadata": {},
   "outputs": [
    {
     "name": "stdout",
     "output_type": "stream",
     "text": [
      "41.87549400179334\n"
     ]
    }
   ],
   "source": [
    "from xgboost import XGBRegressor as XGBR\n",
    "\n",
    "model = XGBR(colsample_bytree=0.4, gamma=0, learning_rate=0.07, \n",
    "             max_depth=4, min_child_weight=1.5, n_estimators=2000,                                                                    \n",
    "             reg_alpha=0.75, reg_lambda=0.45, subsample=0.6, seed=42)\n",
    "\n",
    "xgbr=model.fit(X_train,y_train)\n",
    "y_pred=xgbr.predict(X_test)\n",
    "print(MSE(np.exp(y_pred), np.exp(y_test))**0.5)"
   ]
  },
  {
   "cell_type": "code",
   "execution_count": null,
   "metadata": {},
   "outputs": [],
   "source": [
    "#Best score so far\n",
    "colsample_bytree=0.4, gamma=0, learning_rate=0.07, \n",
    "             max_depth=5, min_child_weight=1.5, n_estimators=2000,                                                                    \n",
    "             reg_alpha=0.75, reg_lambda=0.45, subsample=0.6, seed=42"
   ]
  },
  {
   "cell_type": "code",
   "execution_count": null,
   "metadata": {},
   "outputs": [],
   "source": [
    "#Import SVR"
   ]
  },
  {
   "cell_type": "markdown",
   "metadata": {},
   "source": [
    "### GridSearchCV didn't get as good results as untuned RandomForest."
   ]
  },
  {
   "cell_type": "code",
   "execution_count": 16,
   "metadata": {},
   "outputs": [],
   "source": [
    "# Number of trees in random forest\n",
    "n_estimators = [100,150]\n",
    "# Number of features to consider at every split\n",
    "max_features = ['auto', 'sqrt']\n",
    "# Maximum number of levels in tree\n",
    "max_depth = [6,7,8]\n",
    "# Minimum number of samples required to split a node\n",
    "min_samples_split = [2,3,4]\n",
    "# Minimum number of samples required at each leaf node\n",
    "min_samples_leaf = [1,2,3]\n",
    "\n",
    "random_grid = {'n_estimators': n_estimators,\n",
    "#                'max_features': max_features,\n",
    "               'max_depth': max_depth,\n",
    "               'min_samples_split': min_samples_split,\n",
    "               'min_samples_leaf': min_samples_leaf,\n",
    "               }"
   ]
  },
  {
   "cell_type": "code",
   "execution_count": null,
   "metadata": {},
   "outputs": [
    {
     "name": "stdout",
     "output_type": "stream",
     "text": [
      "Fitting 3 folds for each of 54 candidates, totalling 162 fits\n"
     ]
    },
    {
     "name": "stderr",
     "output_type": "stream",
     "text": [
      "[Parallel(n_jobs=-1)]: Using backend LokyBackend with 4 concurrent workers.\n",
      "[Parallel(n_jobs=-1)]: Done  33 tasks      | elapsed: 11.4min\n"
     ]
    }
   ],
   "source": [
    "from sklearn.model_selection import GridSearchCV\n",
    "rfgrid = GridSearchCV(estimator = model, param_grid = random_grid, cv = 3, verbose=2, n_jobs = -1)\n",
    "# Fit the random search model\n",
    "rf_r = rfgrid.fit(X_train, y_train)"
   ]
  },
  {
   "cell_type": "code",
   "execution_count": null,
   "metadata": {
    "scrolled": true
   },
   "outputs": [],
   "source": [
    "rfgrid.best_params_"
   ]
  },
  {
   "cell_type": "code",
   "execution_count": null,
   "metadata": {},
   "outputs": [],
   "source": [
    "rfgrid.best_score_ "
   ]
  },
  {
   "cell_type": "code",
   "execution_count": null,
   "metadata": {},
   "outputs": [],
   "source": [
    "np.exp(rfgrid.best_score_ )"
   ]
  }
 ],
 "metadata": {
  "kernelspec": {
   "display_name": "Python 3",
   "language": "python",
   "name": "python3"
  },
  "language_info": {
   "codemirror_mode": {
    "name": "ipython",
    "version": 3
   },
   "file_extension": ".py",
   "mimetype": "text/x-python",
   "name": "python",
   "nbconvert_exporter": "python",
   "pygments_lexer": "ipython3",
   "version": "3.6.8"
  }
 },
 "nbformat": 4,
 "nbformat_minor": 2
}
