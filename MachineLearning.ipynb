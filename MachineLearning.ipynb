{
 "cells": [
  {
   "cell_type": "markdown",
   "metadata": {},
   "source": [
    "## Observations\n",
    "\n",
    "Month is not a useful variable. Try Quarter.\n",
    "Best result so far is decision tree with df[['Exterior Wall', 'Fixtures', 'Neighborhood', 'Story Height', 'Assessment Ratio', 'Building Grade', 'Quarter']]\n",
    "\n",
    "Lots of outliers here, try RandomForest\n",
    "\n",
    "With LightGBM, untuned, got to 33.7\n",
    "\n",
    "## Next step: incorporate data from full dataframe.\n",
    "\n",
    "Possibly: average fixtures per house in the neighborhood?"
   ]
  },
  {
   "cell_type": "code",
   "execution_count": 8,
   "metadata": {},
   "outputs": [],
   "source": [
    "import matplotlib.pyplot as plt\n",
    "import numpy as np\n",
    "import seaborn as sns\n",
    "import pandas as pd \n",
    "%matplotlib inline\n",
    "sns.set(style='darkgrid')"
   ]
  },
  {
   "cell_type": "code",
   "execution_count": 9,
   "metadata": {},
   "outputs": [
    {
     "name": "stderr",
     "output_type": "stream",
     "text": [
      "/home/drew/anaconda3/lib/python3.7/site-packages/IPython/core/interactiveshell.py:3049: DtypeWarning: Columns (49) have mixed types. Specify dtype option on import or set low_memory=False.\n",
      "  interactivity=interactivity, compiler=compiler, result=result)\n"
     ]
    }
   ],
   "source": [
    "df1=pd.read_csv('nashville_20190827200234.csv', parse_dates = ['Most Recent Sale Date', 'Sale Date'], dtype={'Zone': str, 'Neighborhood': str})"
   ]
  },
  {
   "cell_type": "code",
   "execution_count": 10,
   "metadata": {
    "scrolled": true
   },
   "outputs": [],
   "source": [
    "#Correcting badly-entered data\n",
    "df1.loc[176025, 'Sale Price'] = 37000\n",
    "df1.loc[27056, 'Sale Price'] = 161000\n",
    "df1.loc[191004, 'Sale Price'] = 810000\n",
    "df1.loc[239278, 'Sale Price'] = 280395\n",
    "df1.loc[138891, 'Sale Price'] = 200000\n",
    "df1.loc[241961, 'Sale Date'] = '2019-03-04'\n",
    "df1.loc[241961, 'Sale Date'] = pd.to_datetime(df1.loc[241961, 'Sale Date'])\n",
    "df1.loc[241961, 'Sale Price'] = 370000\n",
    "df1.loc[230115, 'Sale Price'] = 325000\n",
    "df1.loc[53151, 'Sale Price'] = 310900\n",
    "df1.loc[259815, 'Sale Price'] = 1513142\n",
    "df1.loc[129682, 'Sale Price'] = 1300000\n",
    "df1.loc[154271, 'Square Footage Improved'] = 10094\n",
    "df1.drop(190142, inplace=True) #Has a massive ADU ~4 times the size of the 'main' structure. Main struct is low-grade, ADU is luxury.\n",
    "df1.drop(128094, inplace=True) #Can't find out anything about this house. Improbably large sqft and acreage, low price."
   ]
  },
  {
   "cell_type": "code",
   "execution_count": 11,
   "metadata": {},
   "outputs": [],
   "source": [
    "#Creating new dataframe without duplicate entires\n",
    "df=df1.sort_values(by='Sale Date').drop_duplicates(subset='Map & Parcel', keep = 'last')\n",
    "#Dropping parcels that were involved in multi-parcel sales\n",
    "df=df[df['Multiple Parcels Involved in Sale'] == 'No']\n",
    "#Want to create a new column which is the mean sale price per square foot of a parcel in that neighborhood\n",
    "df['PPS']=df['Sale Price']/df['Square Footage Improved']\n",
    "df['PPS']=df['PPS'].replace(np.inf, np.nan)\n",
    "meanpps=df.groupby('Neighborhood')['PPS'].mean().to_frame().rename(columns={'PPS':'NeighborhoodPPS'})\n",
    "df=df.merge(meanpps, how='left', left_on = 'Neighborhood',right_index=True)\n",
    "#Testing the averaged assessment ratio idea.\n",
    "df['Assessment Ratio'] = df['Assessment Land Improved'] / df['Total Appraisal Value Improved']\n",
    "nbhdratio=df.groupby('Neighborhood')['Assessment Ratio'].mean().to_frame().rename(columns={'Assessment Ratio':'Nbhd Ratio'})\n",
    "df=df.merge(nbhdratio, how='left', left_on = 'Neighborhood',right_index=True)\n",
    "df['Month']= df['Sale Date'].dt.month\n",
    "df['Quarter'] = df['Sale Date'].dt.quarter\n",
    "df['Year'] = df['Sale Date'].dt.year\n",
    "#df = df[(df.Neighborhood != '9527') & (df.Neighborhood != '9026')]\n",
    "df['Building Grade']= df['Building Grade'].str.replace(r'\\w\\w\\w', '').dropna()\n",
    "#Dropping a few outliers\n",
    "df=df[df.Fixtures <=23]\n",
    "df=df[df['Land Area Acres'] <=8]\n",
    "df=df[df.PPS <= 750]"
   ]
  },
  {
   "cell_type": "code",
   "execution_count": 12,
   "metadata": {},
   "outputs": [],
   "source": [
    "TYPEDICT = {'HIGHRISE APT': 'HRISE', 'APARTMENT': 'CONDO', 'HRISE CONDO': 'HRISE',\n",
    "            'RESD CONDO': 'CONDO', 'RW SING FAM': 'SINGLE FAM', 'SINGLE FAM': 'SINGLE FAM',\n",
    "            'RZ SING FAM': 'SINGLE FAM', 'RH SING FAM': 'SINGLE FAM',\n",
    "            'RY SING FAM': 'SINGLE FAM', 'MODULAR HOME': 'SINGLE FAM',\n",
    "            'SING FAM': 'SINGLE FAM', 'RESD TRIPLEX': 'PLEX', 'RESD QUADPLX': 'PLEX',\n",
    "            'R1 DUPLEX': 'PLEX', 'RES DUPLEX': 'PLEX', 'LODGE/FRAT\\'L': 'THIRD',\n",
    "            'CHURCH': 'THIRD', 'HEALTH CLUB': 'COMM', 'GROCERY/SMKT': 'COMM',\n",
    "            'RETAIL/SHPG': 'COMM', 'DAYCARE': 'COMM', 'MARKET': 'COMM',\n",
    "            'REST/BAR': 'COMM', 'OFFICE': 'COMM', 'WAREHOUSE': 'COMM',\n",
    "            'EQUIP SHED': 'COMM', 'SERV GARAGE': 'COMM', 'TRUCK TERM': 'COMM',\n",
    "            'ZERO LOT': 'VACANT', 'CAR WASH': 'COMM', 'MED OFC': 'COMM',\n",
    "            'LAUNDRY': 'COMM', 'AUDITORIUM': 'THIRD', 'BANK': 'COMM', 'BOWLING': 'COMM',\n",
    "            'BUSINESS CTR': 'COMM', 'CINEMA': 'COMM', 'CLUB/UNION': \"THIRD\",\n",
    "            \"COMM GRNHSE\": \"COMM\", 'WHSE RETAIL': 'COMM', 'ENG/RESEARCH': 'COMM',\n",
    "            'COUNTRY CLUB': 'THIRD', 'DEPT STORE': 'COMM', 'TENNIS': 'THIRD',\n",
    "            'WALKUP APT': 'CONDO', 'DRUG STORE': 'COMM', 'DISC STORE': 'COMM',\n",
    "            'ELDERLY HSG': 'CONDO', \"FUNERAL HM\": \"THIRD\", 'SALES SHOWRM': 'COMM',\n",
    "            'LUMBER': 'COMM', 'MANF PLANT': 'COMM', 'MAINT HANGER': 'COMM',\n",
    "            'MOTEL': 'COMM', 'MINI-LUBE': 'COMM', 'MINI-WAREHSE': 'COMM',\n",
    "            'FAST FOOD': 'COMM', 'HOTEL': 'COMM', 'NURSING HOME': 'CONDO', \"PARK'G GAR\": 'COMM',\n",
    "            'SERV STATION': 'COMM', 'INDOOR WP': 'COMM', 'HOSPITAL': 'THIRD', 'T-HANGER': 'COMM'\n",
    "            }\n",
    "\n",
    "df['Building Type Custom']=df['Building Type'].map(lambda x: TYPEDICT[x] if (x != '' and not pd.isnull(x)) else None)"
   ]
  },
  {
   "cell_type": "code",
   "execution_count": 13,
   "metadata": {},
   "outputs": [],
   "source": [
    "df['Log Assessment']= df['Assessment Land Improved'].map(lambda x: np.log(x) if (pd.notnull(x) and x != 0) else None)\n",
    "df['Log Assessment']=df['Log Assessment'].replace(np.inf, np.nan)\n",
    "df['Log Fixtures']= df['Fixtures'].map(lambda x: np.log(x) if (pd.notnull(x) and x != 0) else None)\n",
    "df['Log Fixtures']=df['Log Fixtures'].replace(np.inf, np.nan)\n",
    "df['Log SqFt']= df['Square Footage Improved'].map(lambda x: np.log(x) if (pd.notnull(x) and x != 0) else None)\n",
    "df['Log SqFt']=df['Log SqFt'].replace(np.inf, np.nan)\n",
    "df['Log PPS']= df['PPS'].map(lambda x: np.log(x) if (pd.notnull(x) and x != 0) else None)\n",
    "df['Log PPS']=df['Log PPS'].replace(np.inf, np.nan)\n",
    "df['Log Land']= df['Land Area Acres'].map(lambda x: np.log(x) if (pd.notnull(x) and x != 0) else None)\n",
    "df.Quarter= df.Quarter.map(lambda x: str(x) if pd.notnull(x) else '')\n",
    "df.Year= df.Year.map(lambda x: str(x) if pd.notnull(x) else '')"
   ]
  },
  {
   "cell_type": "code",
   "execution_count": 14,
   "metadata": {},
   "outputs": [
    {
     "data": {
      "text/html": [
       "<div>\n",
       "<style scoped>\n",
       "    .dataframe tbody tr th:only-of-type {\n",
       "        vertical-align: middle;\n",
       "    }\n",
       "\n",
       "    .dataframe tbody tr th {\n",
       "        vertical-align: top;\n",
       "    }\n",
       "\n",
       "    .dataframe thead th {\n",
       "        text-align: right;\n",
       "    }\n",
       "</style>\n",
       "<table border=\"1\" class=\"dataframe\">\n",
       "  <thead>\n",
       "    <tr style=\"text-align: right;\">\n",
       "      <th></th>\n",
       "      <th>Location</th>\n",
       "      <th>Zone</th>\n",
       "      <th>Sale Price</th>\n",
       "      <th>PPS</th>\n",
       "      <th>Square Footage Improved</th>\n",
       "      <th>Building Type Custom</th>\n",
       "      <th>Building Condition</th>\n",
       "    </tr>\n",
       "  </thead>\n",
       "  <tbody>\n",
       "    <tr>\n",
       "      <th>117379</th>\n",
       "      <td>31 N HILL ST</td>\n",
       "      <td>1</td>\n",
       "      <td>10001.0</td>\n",
       "      <td>4.857212</td>\n",
       "      <td>2059.0</td>\n",
       "      <td>SINGLE FAM</td>\n",
       "      <td>Average</td>\n",
       "    </tr>\n",
       "    <tr>\n",
       "      <th>87022</th>\n",
       "      <td>5801 MACKIE PL</td>\n",
       "      <td>3</td>\n",
       "      <td>10000.0</td>\n",
       "      <td>6.635700</td>\n",
       "      <td>1507.0</td>\n",
       "      <td>SINGLE FAM</td>\n",
       "      <td>Average</td>\n",
       "    </tr>\n",
       "    <tr>\n",
       "      <th>266262</th>\n",
       "      <td>6582 SUNNYWOOD DR</td>\n",
       "      <td>1</td>\n",
       "      <td>15000.0</td>\n",
       "      <td>6.934813</td>\n",
       "      <td>2163.0</td>\n",
       "      <td>SINGLE FAM</td>\n",
       "      <td>Average</td>\n",
       "    </tr>\n",
       "    <tr>\n",
       "      <th>210028</th>\n",
       "      <td>4839 JONQUIL DR</td>\n",
       "      <td>1</td>\n",
       "      <td>30000.0</td>\n",
       "      <td>7.812500</td>\n",
       "      <td>3840.0</td>\n",
       "      <td>SINGLE FAM</td>\n",
       "      <td>Average</td>\n",
       "    </tr>\n",
       "    <tr>\n",
       "      <th>244774</th>\n",
       "      <td>909 MULBERRY HILL PL</td>\n",
       "      <td>8</td>\n",
       "      <td>28000.0</td>\n",
       "      <td>8.158508</td>\n",
       "      <td>3432.0</td>\n",
       "      <td>SINGLE FAM</td>\n",
       "      <td>Average</td>\n",
       "    </tr>\n",
       "  </tbody>\n",
       "</table>\n",
       "</div>"
      ],
      "text/plain": [
       "                    Location Zone  Sale Price       PPS  \\\n",
       "117379          31 N HILL ST    1     10001.0  4.857212   \n",
       "87022         5801 MACKIE PL    3     10000.0  6.635700   \n",
       "266262     6582 SUNNYWOOD DR    1     15000.0  6.934813   \n",
       "210028       4839 JONQUIL DR    1     30000.0  7.812500   \n",
       "244774  909 MULBERRY HILL PL    8     28000.0  8.158508   \n",
       "\n",
       "        Square Footage Improved Building Type Custom Building Condition  \n",
       "117379                   2059.0           SINGLE FAM            Average  \n",
       "87022                    1507.0           SINGLE FAM            Average  \n",
       "266262                   2163.0           SINGLE FAM            Average  \n",
       "210028                   3840.0           SINGLE FAM            Average  \n",
       "244774                   3432.0           SINGLE FAM            Average  "
      ]
     },
     "execution_count": 14,
     "metadata": {},
     "output_type": "execute_result"
    }
   ],
   "source": [
    "df.nsmallest(5, 'PPS')[['Location', 'Zone', 'Sale Price', 'PPS', 'Square Footage Improved', 'Building Type Custom', 'Building Condition']]"
   ]
  },
  {
   "cell_type": "code",
   "execution_count": 15,
   "metadata": {},
   "outputs": [
    {
     "data": {
      "text/html": [
       "<div>\n",
       "<style scoped>\n",
       "    .dataframe tbody tr th:only-of-type {\n",
       "        vertical-align: middle;\n",
       "    }\n",
       "\n",
       "    .dataframe tbody tr th {\n",
       "        vertical-align: top;\n",
       "    }\n",
       "\n",
       "    .dataframe thead th {\n",
       "        text-align: right;\n",
       "    }\n",
       "</style>\n",
       "<table border=\"1\" class=\"dataframe\">\n",
       "  <thead>\n",
       "    <tr style=\"text-align: right;\">\n",
       "      <th></th>\n",
       "      <th>Neighborhood</th>\n",
       "      <th>NeighborhoodPPS</th>\n",
       "    </tr>\n",
       "  </thead>\n",
       "  <tbody>\n",
       "    <tr>\n",
       "      <th>279631</th>\n",
       "      <td>6264</td>\n",
       "      <td>752.879821</td>\n",
       "    </tr>\n",
       "    <tr>\n",
       "      <th>279659</th>\n",
       "      <td>6264</td>\n",
       "      <td>752.879821</td>\n",
       "    </tr>\n",
       "    <tr>\n",
       "      <th>279602</th>\n",
       "      <td>6264</td>\n",
       "      <td>752.879821</td>\n",
       "    </tr>\n",
       "    <tr>\n",
       "      <th>279632</th>\n",
       "      <td>6264</td>\n",
       "      <td>752.879821</td>\n",
       "    </tr>\n",
       "    <tr>\n",
       "      <th>279617</th>\n",
       "      <td>6264</td>\n",
       "      <td>752.879821</td>\n",
       "    </tr>\n",
       "  </tbody>\n",
       "</table>\n",
       "</div>"
      ],
      "text/plain": [
       "       Neighborhood  NeighborhoodPPS\n",
       "279631         6264       752.879821\n",
       "279659         6264       752.879821\n",
       "279602         6264       752.879821\n",
       "279632         6264       752.879821\n",
       "279617         6264       752.879821"
      ]
     },
     "execution_count": 15,
     "metadata": {},
     "output_type": "execute_result"
    }
   ],
   "source": [
    "df.nlargest(5,'NeighborhoodPPS')[['Neighborhood','NeighborhoodPPS']]"
   ]
  },
  {
   "cell_type": "code",
   "execution_count": null,
   "metadata": {},
   "outputs": [],
   "source": [
    "sns.distplot(df['NeighborhoodPPS'].dropna())"
   ]
  },
  {
   "cell_type": "code",
   "execution_count": null,
   "metadata": {},
   "outputs": [],
   "source": [
    "# df['Log Assessment']= df['Land Value Improved'].map(lambda x: np.log(x) if (pd.notnull(x) and x != 0) else None)\n",
    "# df['Log Assessment']=df['Log Assessment'].replace(np.inf, np.nan)\n",
    "sns.distplot(df['Log Assessment'].dropna())"
   ]
  },
  {
   "cell_type": "code",
   "execution_count": 18,
   "metadata": {},
   "outputs": [
    {
     "data": {
      "text/plain": [
       "<matplotlib.axes._subplots.AxesSubplot at 0x7efe9d4d8860>"
      ]
     },
     "execution_count": 18,
     "metadata": {},
     "output_type": "execute_result"
    },
    {
     "data": {
      "image/png": "[encoded data removed]",
      "text/plain": [
       "<Figure size 432x288 with 1 Axes>"
      ]
     },
     "metadata": {},
     "output_type": "display_data"
    }
   ],
   "source": [
    "sns.distplot(df['Fixtures'].dropna())"
   ]
  },
  {
   "cell_type": "code",
   "execution_count": 70,
   "metadata": {},
   "outputs": [
    {
     "data": {
      "text/plain": [
       "<matplotlib.axes._subplots.AxesSubplot at 0x7efe9e0d45c0>"
      ]
     },
     "execution_count": 70,
     "metadata": {},
     "output_type": "execute_result"
    },
    {
     "data": {
      "image/png": "[encoded data removed]",
      "text/plain": [
       "<Figure size 432x288 with 1 Axes>"
      ]
     },
     "metadata": {},
     "output_type": "display_data"
    }
   ],
   "source": [
    "df['Log Fixtures']= df['Fixtures'].map(lambda x: np.log(x) if (pd.notnull(x) and x != 0) else None)\n",
    "df['Log Fixtures']=df['Log Fixtures'].replace(np.inf, np.nan)\n",
    "sns.distplot(df['Log Fixtures'].dropna())"
   ]
  },
  {
   "cell_type": "code",
   "execution_count": 20,
   "metadata": {},
   "outputs": [
    {
     "data": {
      "text/html": [
       "<div>\n",
       "<style scoped>\n",
       "    .dataframe tbody tr th:only-of-type {\n",
       "        vertical-align: middle;\n",
       "    }\n",
       "\n",
       "    .dataframe tbody tr th {\n",
       "        vertical-align: top;\n",
       "    }\n",
       "\n",
       "    .dataframe thead th {\n",
       "        text-align: right;\n",
       "    }\n",
       "</style>\n",
       "<table border=\"1\" class=\"dataframe\">\n",
       "  <thead>\n",
       "    <tr style=\"text-align: right;\">\n",
       "      <th></th>\n",
       "      <th>Assessment Classification*</th>\n",
       "      <th>Assessment Improvement</th>\n",
       "      <th>Assessment Land</th>\n",
       "      <th>Assessment Total</th>\n",
       "      <th>Assessment Year</th>\n",
       "      <th>Baths</th>\n",
       "      <th>Beds2</th>\n",
       "      <th>Building Condition</th>\n",
       "      <th>Building Condition2</th>\n",
       "      <th>Building Grade</th>\n",
       "      <th>...</th>\n",
       "      <th>Assessment Ratio</th>\n",
       "      <th>Nbhd Ratio</th>\n",
       "      <th>Month</th>\n",
       "      <th>Quarter</th>\n",
       "      <th>Year</th>\n",
       "      <th>Log Assessment</th>\n",
       "      <th>Log Fixtures</th>\n",
       "      <th>Log SqFt</th>\n",
       "      <th>Log PPS</th>\n",
       "      <th>Log Land</th>\n",
       "    </tr>\n",
       "  </thead>\n",
       "  <tbody>\n",
       "    <tr>\n",
       "      <th>80374</th>\n",
       "      <td>RES</td>\n",
       "      <td>$34,425</td>\n",
       "      <td>$31,175</td>\n",
       "      <td>$65,600</td>\n",
       "      <td>2019.0</td>\n",
       "      <td>2.0</td>\n",
       "      <td>3.0</td>\n",
       "      <td>Average</td>\n",
       "      <td>Average</td>\n",
       "      <td>C</td>\n",
       "      <td>...</td>\n",
       "      <td>0.118807</td>\n",
       "      <td>0.054005</td>\n",
       "      <td>10</td>\n",
       "      <td>4</td>\n",
       "      <td>2017</td>\n",
       "      <td>10.347372</td>\n",
       "      <td>2.302585</td>\n",
       "      <td>7.877397</td>\n",
       "      <td>5.358295</td>\n",
       "      <td>2.076938</td>\n",
       "    </tr>\n",
       "    <tr>\n",
       "      <th>201384</th>\n",
       "      <td>RES</td>\n",
       "      <td>$4,025</td>\n",
       "      <td>$24,575</td>\n",
       "      <td>$28,600</td>\n",
       "      <td>2019.0</td>\n",
       "      <td>1.0</td>\n",
       "      <td>NaN</td>\n",
       "      <td>Very Poor</td>\n",
       "      <td>NaN</td>\n",
       "      <td>D</td>\n",
       "      <td>...</td>\n",
       "      <td>0.214816</td>\n",
       "      <td>0.138705</td>\n",
       "      <td>8</td>\n",
       "      <td>3</td>\n",
       "      <td>2015</td>\n",
       "      <td>10.109485</td>\n",
       "      <td>1.609438</td>\n",
       "      <td>6.740519</td>\n",
       "      <td>4.937921</td>\n",
       "      <td>2.046402</td>\n",
       "    </tr>\n",
       "    <tr>\n",
       "      <th>125549</th>\n",
       "      <td>RES</td>\n",
       "      <td>$12,025</td>\n",
       "      <td>$36,925</td>\n",
       "      <td>$48,950</td>\n",
       "      <td>2019.0</td>\n",
       "      <td>1.0</td>\n",
       "      <td>NaN</td>\n",
       "      <td>Fair</td>\n",
       "      <td>NaN</td>\n",
       "      <td>D</td>\n",
       "      <td>...</td>\n",
       "      <td>0.188585</td>\n",
       "      <td>0.111009</td>\n",
       "      <td>9</td>\n",
       "      <td>3</td>\n",
       "      <td>2017</td>\n",
       "      <td>10.516644</td>\n",
       "      <td>1.609438</td>\n",
       "      <td>7.069874</td>\n",
       "      <td>5.237265</td>\n",
       "      <td>2.030776</td>\n",
       "    </tr>\n",
       "    <tr>\n",
       "      <th>104137</th>\n",
       "      <td>RES</td>\n",
       "      <td>$37,000</td>\n",
       "      <td>$43,050</td>\n",
       "      <td>$80,050</td>\n",
       "      <td>2019.0</td>\n",
       "      <td>1.0</td>\n",
       "      <td>NaN</td>\n",
       "      <td>Average</td>\n",
       "      <td>NaN</td>\n",
       "      <td>C</td>\n",
       "      <td>...</td>\n",
       "      <td>0.134447</td>\n",
       "      <td>0.059828</td>\n",
       "      <td>12</td>\n",
       "      <td>4</td>\n",
       "      <td>2016</td>\n",
       "      <td>10.670118</td>\n",
       "      <td>1.945910</td>\n",
       "      <td>7.344073</td>\n",
       "      <td>5.421616</td>\n",
       "      <td>2.029463</td>\n",
       "    </tr>\n",
       "    <tr>\n",
       "      <th>104114</th>\n",
       "      <td>RES</td>\n",
       "      <td>$33,125</td>\n",
       "      <td>$41,250</td>\n",
       "      <td>$74,375</td>\n",
       "      <td>2019.0</td>\n",
       "      <td>1.0</td>\n",
       "      <td>NaN</td>\n",
       "      <td>Fair</td>\n",
       "      <td>NaN</td>\n",
       "      <td>C</td>\n",
       "      <td>...</td>\n",
       "      <td>0.138655</td>\n",
       "      <td>0.059828</td>\n",
       "      <td>5</td>\n",
       "      <td>2</td>\n",
       "      <td>2017</td>\n",
       "      <td>10.627406</td>\n",
       "      <td>1.945910</td>\n",
       "      <td>7.832014</td>\n",
       "      <td>4.821944</td>\n",
       "      <td>1.981001</td>\n",
       "    </tr>\n",
       "    <tr>\n",
       "      <th>144627</th>\n",
       "      <td>RES</td>\n",
       "      <td>$105,425</td>\n",
       "      <td>$44,200</td>\n",
       "      <td>$149,625</td>\n",
       "      <td>2019.0</td>\n",
       "      <td>3.0</td>\n",
       "      <td>NaN</td>\n",
       "      <td>Average</td>\n",
       "      <td>NaN</td>\n",
       "      <td>B</td>\n",
       "      <td>...</td>\n",
       "      <td>0.073851</td>\n",
       "      <td>0.075735</td>\n",
       "      <td>3</td>\n",
       "      <td>1</td>\n",
       "      <td>2015</td>\n",
       "      <td>10.696480</td>\n",
       "      <td>2.397895</td>\n",
       "      <td>8.221210</td>\n",
       "      <td>5.085140</td>\n",
       "      <td>1.951608</td>\n",
       "    </tr>\n",
       "    <tr>\n",
       "      <th>229502</th>\n",
       "      <td>RES</td>\n",
       "      <td>$25,250</td>\n",
       "      <td>$63,000</td>\n",
       "      <td>$88,250</td>\n",
       "      <td>2019.0</td>\n",
       "      <td>2.0</td>\n",
       "      <td>NaN</td>\n",
       "      <td>Average</td>\n",
       "      <td>NaN</td>\n",
       "      <td>E</td>\n",
       "      <td>...</td>\n",
       "      <td>0.178470</td>\n",
       "      <td>0.054005</td>\n",
       "      <td>7</td>\n",
       "      <td>3</td>\n",
       "      <td>2017</td>\n",
       "      <td>11.050890</td>\n",
       "      <td>2.302585</td>\n",
       "      <td>7.731931</td>\n",
       "      <td>4.994423</td>\n",
       "      <td>1.948763</td>\n",
       "    </tr>\n",
       "    <tr>\n",
       "      <th>190678</th>\n",
       "      <td>RES</td>\n",
       "      <td>$253,125</td>\n",
       "      <td>$210,500</td>\n",
       "      <td>$463,625</td>\n",
       "      <td>2019.0</td>\n",
       "      <td>6.0</td>\n",
       "      <td>NaN</td>\n",
       "      <td>Average</td>\n",
       "      <td>NaN</td>\n",
       "      <td>X</td>\n",
       "      <td>...</td>\n",
       "      <td>0.113508</td>\n",
       "      <td>0.129040</td>\n",
       "      <td>11</td>\n",
       "      <td>4</td>\n",
       "      <td>2016</td>\n",
       "      <td>12.257241</td>\n",
       "      <td>3.135494</td>\n",
       "      <td>8.976641</td>\n",
       "      <td>5.426656</td>\n",
       "      <td>1.919859</td>\n",
       "    </tr>\n",
       "    <tr>\n",
       "      <th>146606</th>\n",
       "      <td>RES</td>\n",
       "      <td>$152,875</td>\n",
       "      <td>$140,825</td>\n",
       "      <td>$293,700</td>\n",
       "      <td>2019.0</td>\n",
       "      <td>4.0</td>\n",
       "      <td>NaN</td>\n",
       "      <td>Average</td>\n",
       "      <td>NaN</td>\n",
       "      <td>X</td>\n",
       "      <td>...</td>\n",
       "      <td>0.119871</td>\n",
       "      <td>0.110185</td>\n",
       "      <td>6</td>\n",
       "      <td>2</td>\n",
       "      <td>2015</td>\n",
       "      <td>11.855273</td>\n",
       "      <td>2.772589</td>\n",
       "      <td>8.797700</td>\n",
       "      <td>5.260757</td>\n",
       "      <td>1.912501</td>\n",
       "    </tr>\n",
       "    <tr>\n",
       "      <th>128812</th>\n",
       "      <td>RES</td>\n",
       "      <td>$302,600</td>\n",
       "      <td>$525,300</td>\n",
       "      <td>$827,900</td>\n",
       "      <td>2019.0</td>\n",
       "      <td>7.0</td>\n",
       "      <td>1.0</td>\n",
       "      <td>Fair</td>\n",
       "      <td>Fair</td>\n",
       "      <td>X</td>\n",
       "      <td>...</td>\n",
       "      <td>0.158624</td>\n",
       "      <td>0.136330</td>\n",
       "      <td>1</td>\n",
       "      <td>1</td>\n",
       "      <td>2015</td>\n",
       "      <td>13.171725</td>\n",
       "      <td>3.135494</td>\n",
       "      <td>8.966229</td>\n",
       "      <td>5.980684</td>\n",
       "      <td>1.902108</td>\n",
       "    </tr>\n",
       "  </tbody>\n",
       "</table>\n",
       "<p>10 rows × 78 columns</p>\n",
       "</div>"
      ],
      "text/plain": [
       "       Assessment Classification* Assessment Improvement Assessment Land  \\\n",
       "80374                         RES               $34,425         $31,175    \n",
       "201384                        RES                $4,025         $24,575    \n",
       "125549                        RES               $12,025         $36,925    \n",
       "104137                        RES               $37,000         $43,050    \n",
       "104114                        RES               $33,125         $41,250    \n",
       "144627                        RES              $105,425         $44,200    \n",
       "229502                        RES               $25,250         $63,000    \n",
       "190678                        RES              $253,125        $210,500    \n",
       "146606                        RES              $152,875        $140,825    \n",
       "128812                        RES              $302,600        $525,300    \n",
       "\n",
       "       Assessment Total  Assessment Year  Baths  Beds2 Building Condition  \\\n",
       "80374          $65,600            2019.0    2.0    3.0            Average   \n",
       "201384         $28,600            2019.0    1.0    NaN          Very Poor   \n",
       "125549         $48,950            2019.0    1.0    NaN               Fair   \n",
       "104137         $80,050            2019.0    1.0    NaN            Average   \n",
       "104114         $74,375            2019.0    1.0    NaN               Fair   \n",
       "144627        $149,625            2019.0    3.0    NaN            Average   \n",
       "229502         $88,250            2019.0    2.0    NaN            Average   \n",
       "190678        $463,625            2019.0    6.0    NaN            Average   \n",
       "146606        $293,700            2019.0    4.0    NaN            Average   \n",
       "128812        $827,900            2019.0    7.0    1.0               Fair   \n",
       "\n",
       "       Building Condition2 Building Grade  ... Assessment Ratio Nbhd Ratio  \\\n",
       "80374              Average              C  ...         0.118807   0.054005   \n",
       "201384                 NaN              D  ...         0.214816   0.138705   \n",
       "125549                 NaN              D  ...         0.188585   0.111009   \n",
       "104137                 NaN              C  ...         0.134447   0.059828   \n",
       "104114                 NaN              C  ...         0.138655   0.059828   \n",
       "144627                 NaN              B  ...         0.073851   0.075735   \n",
       "229502                 NaN              E  ...         0.178470   0.054005   \n",
       "190678                 NaN              X  ...         0.113508   0.129040   \n",
       "146606                 NaN              X  ...         0.119871   0.110185   \n",
       "128812                Fair              X  ...         0.158624   0.136330   \n",
       "\n",
       "       Month Quarter  Year Log Assessment Log Fixtures  Log SqFt   Log PPS  \\\n",
       "80374     10       4  2017      10.347372     2.302585  7.877397  5.358295   \n",
       "201384     8       3  2015      10.109485     1.609438  6.740519  4.937921   \n",
       "125549     9       3  2017      10.516644     1.609438  7.069874  5.237265   \n",
       "104137    12       4  2016      10.670118     1.945910  7.344073  5.421616   \n",
       "104114     5       2  2017      10.627406     1.945910  7.832014  4.821944   \n",
       "144627     3       1  2015      10.696480     2.397895  8.221210  5.085140   \n",
       "229502     7       3  2017      11.050890     2.302585  7.731931  4.994423   \n",
       "190678    11       4  2016      12.257241     3.135494  8.976641  5.426656   \n",
       "146606     6       2  2015      11.855273     2.772589  8.797700  5.260757   \n",
       "128812     1       1  2015      13.171725     3.135494  8.966229  5.980684   \n",
       "\n",
       "        Log Land  \n",
       "80374   2.076938  \n",
       "201384  2.046402  \n",
       "125549  2.030776  \n",
       "104137  2.029463  \n",
       "104114  1.981001  \n",
       "144627  1.951608  \n",
       "229502  1.948763  \n",
       "190678  1.919859  \n",
       "146606  1.912501  \n",
       "128812  1.902108  \n",
       "\n",
       "[10 rows x 78 columns]"
      ]
     },
     "execution_count": 20,
     "metadata": {},
     "output_type": "execute_result"
    }
   ],
   "source": [
    "df.nlargest(10, 'Land Area Acres')"
   ]
  },
  {
   "cell_type": "code",
   "execution_count": null,
   "metadata": {},
   "outputs": [],
   "source": [
    "df.nlargest(10,'Fixtures')[['Fixtures', 'PPS']]"
   ]
  },
  {
   "cell_type": "code",
   "execution_count": 21,
   "metadata": {},
   "outputs": [
    {
     "data": {
      "text/plain": [
       "79.38414357246178"
      ]
     },
     "execution_count": 21,
     "metadata": {},
     "output_type": "execute_result"
    }
   ],
   "source": [
    "np.std(df.PPS)"
   ]
  },
  {
   "cell_type": "code",
   "execution_count": 22,
   "metadata": {},
   "outputs": [
    {
     "data": {
      "text/plain": [
       "<matplotlib.axes._subplots.AxesSubplot at 0x7efea06766d8>"
      ]
     },
     "execution_count": 22,
     "metadata": {},
     "output_type": "execute_result"
    },
    {
     "data": {
      "image/png": "[encoded data removed]",
      "text/plain": [
       "<Figure size 432x288 with 1 Axes>"
      ]
     },
     "metadata": {},
     "output_type": "display_data"
    }
   ],
   "source": [
    "df['Log SqFt']= df['Square Footage Improved'].map(lambda x: np.log(x) if (pd.notnull(x) and x != 0) else None)\n",
    "df['Log SqFt']=df['Log SqFt'].replace(np.inf, np.nan)\n",
    "sns.distplot(df['Log SqFt'].dropna())"
   ]
  },
  {
   "cell_type": "code",
   "execution_count": 23,
   "metadata": {},
   "outputs": [
    {
     "data": {
      "text/plain": [
       "<matplotlib.axes._subplots.AxesSubplot at 0x7efea0a4d6d8>"
      ]
     },
     "execution_count": 23,
     "metadata": {},
     "output_type": "execute_result"
    },
    {
     "data": {
      "image/png": "[encoded data removed]",
      "text/plain": [
       "<Figure size 432x288 with 1 Axes>"
      ]
     },
     "metadata": {},
     "output_type": "display_data"
    }
   ],
   "source": [
    "df['Log Land']= df['Land Area Acres'].map(lambda x: np.log(x) if (pd.notnull(x) and x != 0) else None)\n",
    "sns.distplot(df['Log Land'].dropna())"
   ]
  },
  {
   "cell_type": "code",
   "execution_count": 24,
   "metadata": {},
   "outputs": [
    {
     "data": {
      "image/png": "[encoded data removed]",
      "text/plain": [
       "<Figure size 432x288 with 1 Axes>"
      ]
     },
     "metadata": {},
     "output_type": "display_data"
    }
   ],
   "source": [
    "sns.distplot(df['Nbhd Ratio'].dropna())\n",
    "df=df[df['Nbhd Ratio'] <= 0.3]"
   ]
  },
  {
   "cell_type": "code",
   "execution_count": 25,
   "metadata": {},
   "outputs": [
    {
     "data": {
      "text/plain": [
       "203808    4015\n",
       "82509     6213\n",
       "112819    2211\n",
       "180687    6011\n",
       "159814    6011\n",
       "143683    6011\n",
       "153896    9528\n",
       "137965    9528\n",
       "153549    9528\n",
       "153568    9528\n",
       "Name: Neighborhood, dtype: object"
      ]
     },
     "execution_count": 25,
     "metadata": {},
     "output_type": "execute_result"
    }
   ],
   "source": [
    "df.nlargest(10, 'Nbhd Ratio')['Neighborhood']"
   ]
  },
  {
   "cell_type": "code",
   "execution_count": 26,
   "metadata": {},
   "outputs": [
    {
     "data": {
      "text/plain": [
       "<matplotlib.axes._subplots.AxesSubplot at 0x7efea05d2940>"
      ]
     },
     "execution_count": 26,
     "metadata": {},
     "output_type": "execute_result"
    },
    {
     "data": {
      "image/png": "[encoded data removed]",
      "text/plain": [
       "<Figure size 432x288 with 1 Axes>"
      ]
     },
     "metadata": {},
     "output_type": "display_data"
    }
   ],
   "source": [
    "df['Log NbhdRatio']= df['Nbhd Ratio'].map(lambda x: np.log(x) if (pd.notnull(x) and x != 0) else None)\n",
    "df['Log NbhdRatio']=df['Log NbhdRatio'].replace(np.inf, np.nan)\n",
    "sns.distplot(df['Log NbhdRatio'].dropna())"
   ]
  },
  {
   "cell_type": "code",
   "execution_count": null,
   "metadata": {},
   "outputs": [],
   "source": [
    "meanpps.nlargest(20,'NeighborhoodPPS')"
   ]
  },
  {
   "cell_type": "code",
   "execution_count": null,
   "metadata": {},
   "outputs": [],
   "source": [
    "df.loc[252586]"
   ]
  },
  {
   "cell_type": "code",
   "execution_count": 27,
   "metadata": {},
   "outputs": [
    {
     "data": {
      "image/png": "[encoded data removed]",
      "text/plain": [
       "<Figure size 432x288 with 1 Axes>"
      ]
     },
     "metadata": {},
     "output_type": "display_data"
    }
   ],
   "source": [
    "sns.distplot(df['NeighborhoodPPS'].dropna())\n",
    "df=df[df.NeighborhoodPPS<=2000]"
   ]
  },
  {
   "cell_type": "code",
   "execution_count": 28,
   "metadata": {},
   "outputs": [
    {
     "data": {
      "text/plain": [
       "<matplotlib.axes._subplots.AxesSubplot at 0x7efea0528748>"
      ]
     },
     "execution_count": 28,
     "metadata": {},
     "output_type": "execute_result"
    },
    {
     "data": {
      "image/png": "[encoded data removed]",
      "text/plain": [
       "<Figure size 432x288 with 1 Axes>"
      ]
     },
     "metadata": {},
     "output_type": "display_data"
    }
   ],
   "source": [
    "df['Log NbhdPPS']= df['NeighborhoodPPS'].map(lambda x: np.log(x) if (pd.notnull(x) and x != 0) else None)\n",
    "df['Log NbhdPPS']=df['Log NbhdPPS'].replace(np.inf, np.nan)\n",
    "sns.distplot(df['Log NbhdPPS'].dropna())"
   ]
  },
  {
   "cell_type": "code",
   "execution_count": 30,
   "metadata": {},
   "outputs": [],
   "source": [
    "from sklearn.metrics import mean_squared_error as MSE\n",
    "from sklearn.metrics import median_absolute_error as MAE\n",
    "from sklearn.tree import DecisionTreeRegressor as DTR\n",
    "from sklearn.metrics import mean_absolute_error\n",
    "import lightgbm as lgb"
   ]
  },
  {
   "cell_type": "code",
   "execution_count": 60,
   "metadata": {},
   "outputs": [],
   "source": [
    "df2 = df[['Log NbhdRatio','Building Condition','Log SqFt','Log Fixtures','Building Type Custom','Building Grade','Exterior Wall','Year','Log NbhdPPS', 'PPS', 'Quarter', 'Log Assessment', 'Year Built']]\n",
    "df2=df2.dropna()"
   ]
  },
  {
   "cell_type": "code",
   "execution_count": 61,
   "metadata": {},
   "outputs": [],
   "source": [
    "from sklearn.model_selection import train_test_split\n",
    "X= pd.get_dummies(df2[['Log NbhdPPS','Building Grade','Log SqFt','Year', 'Log Assessment','Log Fixtures','Exterior Wall', 'Year Built']])\n",
    "y=df2['PPS']\n",
    "X_train, X_test, y_train, y_test = train_test_split(X, y, test_size=0.28, random_state=42)"
   ]
  },
  {
   "cell_type": "code",
   "execution_count": 62,
   "metadata": {},
   "outputs": [
    {
     "name": "stdout",
     "output_type": "stream",
     "text": [
      "(53911, 80)\n",
      "(53833, 13)\n"
     ]
    }
   ],
   "source": [
    "print(df.shape)\n",
    "print(df2.shape)"
   ]
  },
  {
   "cell_type": "code",
   "execution_count": 63,
   "metadata": {},
   "outputs": [
    {
     "name": "stdout",
     "output_type": "stream",
     "text": [
      "81.16381413563455\n"
     ]
    }
   ],
   "source": [
    "from sklearn.dummy import DummyRegressor as DR\n",
    "model = DR(strategy='median')\n",
    "dr=model.fit(X_train, y_train)\n",
    "y_pred= dr.predict(X_test)\n",
    "# print(MSE(np.exp(y_pred), np.exp(y_test))**0.5)\n",
    "print(MSE(y_pred, y_test)**0.5)"
   ]
  },
  {
   "cell_type": "code",
   "execution_count": 64,
   "metadata": {},
   "outputs": [
    {
     "name": "stdout",
     "output_type": "stream",
     "text": [
      "40.54999840844701\n"
     ]
    }
   ],
   "source": [
    "model = DTR()\n",
    "dtr=model.fit(X_train, y_train)\n",
    "y_pred= dtr.predict(X_test)\n",
    "# print(MSE(np.exp(y_pred), np.exp(y_test))**0.5)\n",
    "print(MSE(y_pred, y_test)**0.5)"
   ]
  },
  {
   "cell_type": "code",
   "execution_count": 65,
   "metadata": {},
   "outputs": [
    {
     "name": "stderr",
     "output_type": "stream",
     "text": [
      "/home/drew/anaconda3/lib/python3.7/site-packages/sklearn/ensemble/forest.py:246: FutureWarning: The default value of n_estimators will change from 10 in version 0.20 to 100 in 0.22.\n",
      "  \"10 in version 0.20 to 100 in 0.22.\", FutureWarning)\n"
     ]
    },
    {
     "name": "stdout",
     "output_type": "stream",
     "text": [
      "31.835844196123745\n"
     ]
    }
   ],
   "source": [
    "from sklearn.ensemble import RandomForestRegressor as RFR\n",
    "model = RFR(random_state=42)\n",
    "rfr=model.fit(X_train,y_train)\n",
    "y_pred=rfr.predict(X_test)\n",
    "# print(MSE(np.exp(y_pred), np.exp(y_test))**0.5)\n",
    "print(MSE(y_pred, y_test)**0.5)"
   ]
  },
  {
   "cell_type": "code",
   "execution_count": 69,
   "metadata": {},
   "outputs": [
    {
     "name": "stderr",
     "output_type": "stream",
     "text": [
      "/home/drew/anaconda3/lib/python3.7/site-packages/xgboost/core.py:587: FutureWarning: Series.base is deprecated and will be removed in a future version\n",
      "  if getattr(data, 'base', None) is not None and \\\n"
     ]
    },
    {
     "name": "stdout",
     "output_type": "stream",
     "text": [
      "[21:12:39] WARNING: /workspace/src/objective/regression_obj.cu:152: reg:linear is now deprecated in favor of reg:squarederror.\n",
      "29.956862358341137\n",
      "11.98992481121438\n",
      "19.155350941208503\n"
     ]
    }
   ],
   "source": [
    "from xgboost import XGBRegressor as XGBR\n",
    "#Best model parameters from GridSearchCV\n",
    "model = XGBR(base_score=0.5, booster='gbtree', colsample_bylevel=1,\n",
    "       colsample_bynode=1, colsample_bytree=0.4, gamma=0,\n",
    "       importance_type='gain', learning_rate=0.08, max_delta_step=0,\n",
    "       max_depth=6, min_child_weight=1.5, missing=None, n_estimators=600,\n",
    "       n_jobs=1, nthread=None, objective='reg:linear', random_state=0,\n",
    "       reg_alpha=0.75, reg_lambda=0.45, scale_pos_weight=1, seed=42,\n",
    "       silent=None, subsample=0.6, verbosity=1)\n",
    "\n",
    "xgbr=model.fit(X_train,y_train)\n",
    "y_predxg=xgbr.predict(X_test)\n",
    "# print(MSE(np.exp(y_pred), np.exp(y_test))**0.5)\n",
    "print(MSE(y_predxg, y_test)**0.5)\n",
    "print(MAE(y_predxg,y_test))\n",
    "print(mean_absolute_error(y_predxg,y_test))"
   ]
  },
  {
   "cell_type": "code",
   "execution_count": 40,
   "metadata": {},
   "outputs": [
    {
     "data": {
      "text/plain": [
       "<matplotlib.axes._subplots.AxesSubplot at 0x7efe9f2a5588>"
      ]
     },
     "execution_count": 40,
     "metadata": {},
     "output_type": "execute_result"
    },
    {
     "data": {
      "text/plain": [
       "<Figure size 648x648 with 0 Axes>"
      ]
     },
     "metadata": {},
     "output_type": "display_data"
    },
    {
     "data": {
      "image/png": "[encoded data removed]",
      "text/plain": [
       "<Figure size 432x288 with 1 Axes>"
      ]
     },
     "metadata": {},
     "output_type": "display_data"
    }
   ],
   "source": [
    "import xgboost as xgb\n",
    "plt.figure(figsize=(9,9))\n",
    "xgb.plot_importance(model)"
   ]
  },
  {
   "cell_type": "code",
   "execution_count": null,
   "metadata": {},
   "outputs": [],
   "source": [
    "from sklearn.model_selection import GridSearchCV\n",
    "params={'learning_rate':[.07,.08,.09]}\n",
    "rfgrid = GridSearchCV(estimator = xgbr,param_grid=params, cv = 5, verbose=2, n_jobs = -1)\n",
    "rfgrid.fit(X, y)"
   ]
  },
  {
   "cell_type": "code",
   "execution_count": null,
   "metadata": {},
   "outputs": [],
   "source": [
    "print(MSE(y_test, rfgrid.best_estimator_.predict(X_test))**0.5) \n",
    "print(MAE(y_test, rfgrid.best_estimator_.predict(X_test)))\n",
    "print(rfgrid.best_estimator_)"
   ]
  },
  {
   "cell_type": "code",
   "execution_count": null,
   "metadata": {},
   "outputs": [],
   "source": [
    "gbm = lgb.LGBMRegressor(num_leaves=80,\n",
    "                        learning_rate=0.25,\n",
    "                        n_estimators=325)\n",
    "gbm.fit(X_train, y_train,\n",
    "        eval_set=[(X_test, y_test)],\n",
    "        eval_metric='l2',\n",
    "        early_stopping_rounds=3)\n",
    "y_pred = gbm.predict(X_test, num_iteration=gbm.best_iteration_)"
   ]
  },
  {
   "cell_type": "code",
   "execution_count": null,
   "metadata": {},
   "outputs": [],
   "source": [
    "np.sqrt(857.215)"
   ]
  },
  {
   "cell_type": "code",
   "execution_count": null,
   "metadata": {},
   "outputs": [],
   "source": [
    "from sklearn.model_selection import GridSearchCV\n",
    "from sklearn.metrics import median_absolute_error as MAE\n",
    "estimator = lgb.LGBMRegressor()\n",
    "param_grid = {\n",
    "    'learning_rate': [0.18,0.21],\n",
    "    'n_estimators': [500],\n",
    "    'min_child_weight':[30,50],\n",
    "    'max_depth': [5],\n",
    "    'num_leaves': [350],\n",
    "}\n",
    "params={}\n",
    "gbm = GridSearchCV(estimator, param_grid, cv=5, scoring ='neg_mean_squared_error')\n",
    "gbm.fit(X_train, y_train)\n",
    "y_pred= gbm.predict(X_test)\n",
    "print('Best parameters found by grid search are:', gbm.best_params_)\n",
    "print(gbm.best_score_)\n",
    "print(MSE(y_pred,y_test)**0.5)\n",
    "print(MAE(y_pred,y_test))"
   ]
  },
  {
   "cell_type": "code",
   "execution_count": null,
   "metadata": {},
   "outputs": [],
   "source": [
    "gbm.best_estimator_"
   ]
  },
  {
   "cell_type": "code",
   "execution_count": null,
   "metadata": {},
   "outputs": [],
   "source": [
    "# from sklearn.model_selection import cross_val_score\n",
    "# scores = cross_val_score(gbm, y_train, y_test, cv=5)"
   ]
  },
  {
   "cell_type": "markdown",
   "metadata": {},
   "source": [
    "## Examining where it went wrong"
   ]
  },
  {
   "cell_type": "code",
   "execution_count": null,
   "metadata": {},
   "outputs": [],
   "source": [
    "copiedxg= X_test.copy()\n",
    "copiedxg['Actual']= y_test\n",
    "copiedxg['Predicted']= y_predxg\n",
    "copiedxg['Residual'] = np.absolute(copiedxg['Actual'] - copiedxg['Predicted'])"
   ]
  },
  {
   "cell_type": "code",
   "execution_count": null,
   "metadata": {},
   "outputs": [],
   "source": [
    "df.loc[235871]"
   ]
  },
  {
   "cell_type": "code",
   "execution_count": null,
   "metadata": {},
   "outputs": [],
   "source": [
    "#The pattern in my biggest flubs is, there's a big difference between the NeighborhoodPPS and the acutal PPS\n",
    "#However, adding NeighborhoodPPS to the model significantly increases performance.\n",
    "#So how can I tune it to accept NeighborhoodPPS while minimizing this error?\n",
    "copiedxg.nlargest(20,'Residual')[['Log NbhdPPS', 'Actual', 'Predicted', 'Residual']]"
   ]
  },
  {
   "cell_type": "code",
   "execution_count": null,
   "metadata": {},
   "outputs": [],
   "source": [
    "copied= X_test.copy()\n",
    "copied['Actual']= y_test\n",
    "copied['Predicted']= y_pred\n",
    "copied['Residual'] = np.absolute(copied['Actual'] - copied['Predicted'])"
   ]
  },
  {
   "cell_type": "code",
   "execution_count": null,
   "metadata": {},
   "outputs": [],
   "source": [
    "copied.nlargest(20, 'Residual')[['Actual','Predicted','Residual', 'Log NbhdPPS']]"
   ]
  },
  {
   "cell_type": "code",
   "execution_count": null,
   "metadata": {},
   "outputs": [],
   "source": [
    "plt.figure(figsize=(9,9))\n",
    "sns.distplot(copied.Residual.dropna())"
   ]
  },
  {
   "cell_type": "code",
   "execution_count": null,
   "metadata": {},
   "outputs": [],
   "source": [
    "df.loc[235871]"
   ]
  },
  {
   "cell_type": "code",
   "execution_count": null,
   "metadata": {},
   "outputs": [],
   "source": [
    "df.nlargest(15, 'PPS')[['Sale Price', 'Location', 'PPS', 'Square Footage Improved', 'Log Land']]"
   ]
  },
  {
   "cell_type": "code",
   "execution_count": null,
   "metadata": {},
   "outputs": [],
   "source": [
    "import statsmodels.sm\n",
    "test = pd.DataFrame({\"prediction\": pred, \"observed\": y_test.flatten()})\n",
    "\n",
    "lowess = sm.nonparametric.lowess\n",
    "\n",
    "z = lowess(pred.flatten(), y_test.flatten())\n",
    "\n",
    "\n",
    "test.plot(figsize = [14,8],\n",
    "          x =\"prediction\", y = \"observed\", kind = \"scatter\", color = 'darkred')\n",
    "\n",
    "plt.title(\"Extreme Gradient Boosting: Prediction Vs Test Data\", fontsize = 18, color = \"darkgreen\")\n",
    "\n",
    "plt.xlabel(\"Predicted Power Output\", fontsize = 18) \n",
    "\n",
    "plt.ylabel(\"Observed Power Output\", fontsize = 18)\n",
    "\n",
    "plt.plot(z[:,0], z[:,1], color = \"blue\", lw= 3)\n",
    "\n",
    "plt.show()"
   ]
  }
 ],
 "metadata": {
  "kernelspec": {
   "display_name": "Python 3",
   "language": "python",
   "name": "python3"
  },
  "language_info": {
   "codemirror_mode": {
    "name": "ipython",
    "version": 3
   },
   "file_extension": ".py",
   "mimetype": "text/x-python",
   "name": "python",
   "nbconvert_exporter": "python",
   "pygments_lexer": "ipython3",
   "version": "3.7.3"
  }
 },
 "nbformat": 4,
 "nbformat_minor": 2
}
