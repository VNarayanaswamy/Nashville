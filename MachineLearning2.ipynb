{
 "cells": [
  {
   "cell_type": "markdown",
   "metadata": {},
   "source": [
    "## Observations\n",
    "\n",
    "Month is not a useful variable. Try Quarter.\n",
    "Best result so far is decision tree with df[['Exterior Wall', 'Fixtures', 'Neighborhood', 'Story Height', 'Assessment Ratio', 'Building Grade', 'Quarter']]\n",
    "\n",
    "Lots of outliers here, try RandomForest\n",
    "\n",
    "With LightGBM, untuned, got to 33.7\n",
    "\n",
    "## Next step: incorporate data from full dataframe.\n",
    "\n",
    "Possibly: average fixtures per house in the neighborhood?"
   ]
  },
  {
   "cell_type": "code",
   "execution_count": 1,
   "metadata": {},
   "outputs": [],
   "source": [
    "import matplotlib.pyplot as plt\n",
    "import numpy as np\n",
    "import seaborn as sns\n",
    "import pandas as pd \n",
    "%matplotlib inline\n",
    "sns.set(style='darkgrid')"
   ]
  },
  {
   "cell_type": "code",
   "execution_count": 128,
   "metadata": {},
   "outputs": [
    {
     "name": "stderr",
     "output_type": "stream",
     "text": [
      "/home/drew/anaconda3/lib/python3.7/site-packages/IPython/core/interactiveshell.py:3049: DtypeWarning: Columns (49) have mixed types. Specify dtype option on import or set low_memory=False.\n",
      "  interactivity=interactivity, compiler=compiler, result=result)\n"
     ]
    }
   ],
   "source": [
    "df1=pd.read_csv('nashville_20190827200234.csv', parse_dates = ['Most Recent Sale Date', 'Sale Date'], dtype={'Zone': str, 'Neighborhood': str})"
   ]
  },
  {
   "cell_type": "code",
   "execution_count": 129,
   "metadata": {
    "scrolled": true
   },
   "outputs": [],
   "source": [
    "#Correcting badly-entered data\n",
    "df1.loc[176025, 'Sale Price'] = 37000\n",
    "df1.loc[27056, 'Sale Price'] = 161000\n",
    "df1.loc[191004, 'Sale Price'] = 810000\n",
    "df1.loc[239278, 'Sale Price'] = 280395\n",
    "df1.loc[138891, 'Sale Price'] = 200000\n",
    "df1.loc[241961, 'Sale Date'] = '2019-03-04'\n",
    "df1.loc[241961, 'Sale Date'] = pd.to_datetime(df1.loc[241961, 'Sale Date'])\n",
    "df1.loc[241961, 'Sale Price'] = 370000\n",
    "df1.loc[230115, 'Sale Price'] = 325000\n",
    "df1.loc[53151, 'Sale Price'] = 310900\n",
    "df1.loc[259815, 'Sale Price'] = 1513142\n",
    "df1.loc[129682, 'Sale Price'] = 1300000\n",
    "df1.loc[154271, 'Square Footage Improved'] = 10094\n",
    "df1.drop(190142, inplace=True) #Has a massive ADU ~4 times the size of the 'main' structure. Main struct is low-grade, ADU is luxury.\n",
    "df1.drop(128094, inplace=True) #Can't find out anything about this house. Improbably large sqft and acreage, low price."
   ]
  },
  {
   "cell_type": "code",
   "execution_count": 130,
   "metadata": {},
   "outputs": [],
   "source": [
    "#Creating new dataframe without duplicate entires\n",
    "df=df1.sort_values(by='Sale Date').drop_duplicates(subset='Map & Parcel', keep = 'last')\n",
    "#Dropping parcels that were involved in multi-parcel sales\n",
    "#Want to create a new column which is the mean sale price per square foot of a parcel in that neighborhood\n",
    "df['PPS']=df['Sale Price']/df['Square Footage Improved']\n",
    "df['PPS']=df['PPS'].replace(np.inf, np.nan)\n",
    "meanpps=df.groupby('Neighborhood')['PPS'].mean().to_frame().rename(columns={'PPS':'NeighborhoodPPS'})\n",
    "df=df.merge(meanpps, how='left', left_on = 'Neighborhood',right_index=True)\n",
    "df=df[df['Multiple Parcels Involved in Sale'] == 'No']\n",
    "#Testing the averaged assessment ratio idea.\n",
    "df['Assessment Ratio'] = df['Assessment Land Improved'] / df['Total Appraisal Value Improved']\n",
    "nbhdratio=df.groupby('Neighborhood')['Assessment Ratio'].mean().to_frame().rename(columns={'Assessment Ratio':'Nbhd Ratio'})\n",
    "df=df.merge(nbhdratio, how='left', left_on = 'Neighborhood',right_index=True)\n",
    "df['Month']= df['Sale Date'].dt.month\n",
    "df['Quarter'] = df['Sale Date'].dt.quarter\n",
    "df['Year'] = df['Sale Date'].dt.year\n",
    "#df = df[(df.Neighborhood != '9527') & (df.Neighborhood != '9026')]\n",
    "df['Building Grade']= df['Building Grade'].str.replace(r'\\w\\w\\w', '').dropna()\n",
    "#Dropping a few outliers\n",
    "df=df[df.Fixtures <=23]\n",
    "df=df[df['Land Area Acres'] <=10]\n",
    "df=df[df.PPS <= 1150]"
   ]
  },
  {
   "cell_type": "code",
   "execution_count": 131,
   "metadata": {},
   "outputs": [],
   "source": [
    "TYPEDICT = {'HIGHRISE APT': 'HRISE', 'APARTMENT': 'CONDO', 'HRISE CONDO': 'HRISE',\n",
    "            'RESD CONDO': 'CONDO', 'RW SING FAM': 'SINGLE FAM', 'SINGLE FAM': 'SINGLE FAM',\n",
    "            'RZ SING FAM': 'SINGLE FAM', 'RH SING FAM': 'SINGLE FAM',\n",
    "            'RY SING FAM': 'SINGLE FAM', 'MODULAR HOME': 'SINGLE FAM',\n",
    "            'SING FAM': 'SINGLE FAM', 'RESD TRIPLEX': 'PLEX', 'RESD QUADPLX': 'PLEX',\n",
    "            'R1 DUPLEX': 'PLEX', 'RES DUPLEX': 'PLEX', 'LODGE/FRAT\\'L': 'THIRD',\n",
    "            'CHURCH': 'THIRD', 'HEALTH CLUB': 'COMM', 'GROCERY/SMKT': 'COMM',\n",
    "            'RETAIL/SHPG': 'COMM', 'DAYCARE': 'COMM', 'MARKET': 'COMM',\n",
    "            'REST/BAR': 'COMM', 'OFFICE': 'COMM', 'WAREHOUSE': 'COMM',\n",
    "            'EQUIP SHED': 'COMM', 'SERV GARAGE': 'COMM', 'TRUCK TERM': 'COMM',\n",
    "            'ZERO LOT': 'VACANT', 'CAR WASH': 'COMM', 'MED OFC': 'COMM',\n",
    "            'LAUNDRY': 'COMM', 'AUDITORIUM': 'THIRD', 'BANK': 'COMM', 'BOWLING': 'COMM',\n",
    "            'BUSINESS CTR': 'COMM', 'CINEMA': 'COMM', 'CLUB/UNION': \"THIRD\",\n",
    "            \"COMM GRNHSE\": \"COMM\", 'WHSE RETAIL': 'COMM', 'ENG/RESEARCH': 'COMM',\n",
    "            'COUNTRY CLUB': 'THIRD', 'DEPT STORE': 'COMM', 'TENNIS': 'THIRD',\n",
    "            'WALKUP APT': 'CONDO', 'DRUG STORE': 'COMM', 'DISC STORE': 'COMM',\n",
    "            'ELDERLY HSG': 'CONDO', \"FUNERAL HM\": \"THIRD\", 'SALES SHOWRM': 'COMM',\n",
    "            'LUMBER': 'COMM', 'MANF PLANT': 'COMM', 'MAINT HANGER': 'COMM',\n",
    "            'MOTEL': 'COMM', 'MINI-LUBE': 'COMM', 'MINI-WAREHSE': 'COMM',\n",
    "            'FAST FOOD': 'COMM', 'HOTEL': 'COMM', 'NURSING HOME': 'CONDO', \"PARK'G GAR\": 'COMM',\n",
    "            'SERV STATION': 'COMM', 'INDOOR WP': 'COMM', 'HOSPITAL': 'THIRD', 'T-HANGER': 'COMM'\n",
    "            }\n",
    "\n",
    "df['Building Type Custom']=df['Building Type'].map(lambda x: TYPEDICT[x] if (x != '' and not pd.isnull(x)) else None)"
   ]
  },
  {
   "cell_type": "code",
   "execution_count": 134,
   "metadata": {},
   "outputs": [],
   "source": [
    "df['Log Assessment']= df['Assessment Land Improved'].map(lambda x: np.log(x) if (pd.notnull(x) and x != 0) else None)\n",
    "df['Log Assessment']=df['Log Assessment'].replace(np.inf, np.nan)\n",
    "df['Log Fixtures']= df['Fixtures'].map(lambda x: np.log(x) if (pd.notnull(x) and x != 0) else None)\n",
    "df['Log Fixtures']=df['Log Fixtures'].replace(np.inf, np.nan)\n",
    "df['Log SqFt']= df['Square Footage Improved'].map(lambda x: np.log(x) if (pd.notnull(x) and x != 0) else None)\n",
    "df['Log SqFt']=df['Log SqFt'].replace(np.inf, np.nan)\n",
    "df['Log PPS']= df['PPS'].map(lambda x: np.log(x) if (pd.notnull(x) and x != 0) else None)\n",
    "df['Log PPS']=df['Log PPS'].replace(np.inf, np.nan)\n",
    "df['Log Land']= df['Land Area Acres'].map(lambda x: np.log(x) if (pd.notnull(x) and x != 0) else None)\n",
    "df.Quarter= df.Quarter.map(lambda x: str(x) if pd.notnull(x) else '')\n",
    "df.Year= df.Year.map(lambda x: str(x) if pd.notnull(x) else '')"
   ]
  },
  {
   "cell_type": "code",
   "execution_count": 8,
   "metadata": {},
   "outputs": [
    {
     "data": {
      "text/html": [
       "<div>\n",
       "<style scoped>\n",
       "    .dataframe tbody tr th:only-of-type {\n",
       "        vertical-align: middle;\n",
       "    }\n",
       "\n",
       "    .dataframe tbody tr th {\n",
       "        vertical-align: top;\n",
       "    }\n",
       "\n",
       "    .dataframe thead th {\n",
       "        text-align: right;\n",
       "    }\n",
       "</style>\n",
       "<table border=\"1\" class=\"dataframe\">\n",
       "  <thead>\n",
       "    <tr style=\"text-align: right;\">\n",
       "      <th></th>\n",
       "      <th>Location</th>\n",
       "      <th>Zone</th>\n",
       "      <th>Sale Price</th>\n",
       "      <th>PPS</th>\n",
       "      <th>Square Footage Improved</th>\n",
       "      <th>Building Type Custom</th>\n",
       "      <th>Building Condition</th>\n",
       "    </tr>\n",
       "  </thead>\n",
       "  <tbody>\n",
       "    <tr>\n",
       "      <th>117379</th>\n",
       "      <td>31 N HILL ST</td>\n",
       "      <td>1</td>\n",
       "      <td>10001.0</td>\n",
       "      <td>4.857212</td>\n",
       "      <td>2059.0</td>\n",
       "      <td>SINGLE FAM</td>\n",
       "      <td>Average</td>\n",
       "    </tr>\n",
       "    <tr>\n",
       "      <th>87022</th>\n",
       "      <td>5801 MACKIE PL</td>\n",
       "      <td>3</td>\n",
       "      <td>10000.0</td>\n",
       "      <td>6.635700</td>\n",
       "      <td>1507.0</td>\n",
       "      <td>SINGLE FAM</td>\n",
       "      <td>Average</td>\n",
       "    </tr>\n",
       "    <tr>\n",
       "      <th>266262</th>\n",
       "      <td>6582 SUNNYWOOD DR</td>\n",
       "      <td>1</td>\n",
       "      <td>15000.0</td>\n",
       "      <td>6.934813</td>\n",
       "      <td>2163.0</td>\n",
       "      <td>SINGLE FAM</td>\n",
       "      <td>Average</td>\n",
       "    </tr>\n",
       "    <tr>\n",
       "      <th>210028</th>\n",
       "      <td>4839 JONQUIL DR</td>\n",
       "      <td>1</td>\n",
       "      <td>30000.0</td>\n",
       "      <td>7.812500</td>\n",
       "      <td>3840.0</td>\n",
       "      <td>SINGLE FAM</td>\n",
       "      <td>Average</td>\n",
       "    </tr>\n",
       "    <tr>\n",
       "      <th>244774</th>\n",
       "      <td>909 MULBERRY HILL PL</td>\n",
       "      <td>8</td>\n",
       "      <td>28000.0</td>\n",
       "      <td>8.158508</td>\n",
       "      <td>3432.0</td>\n",
       "      <td>SINGLE FAM</td>\n",
       "      <td>Average</td>\n",
       "    </tr>\n",
       "  </tbody>\n",
       "</table>\n",
       "</div>"
      ],
      "text/plain": [
       "                    Location Zone  Sale Price       PPS  \\\n",
       "117379          31 N HILL ST    1     10001.0  4.857212   \n",
       "87022         5801 MACKIE PL    3     10000.0  6.635700   \n",
       "266262     6582 SUNNYWOOD DR    1     15000.0  6.934813   \n",
       "210028       4839 JONQUIL DR    1     30000.0  7.812500   \n",
       "244774  909 MULBERRY HILL PL    8     28000.0  8.158508   \n",
       "\n",
       "        Square Footage Improved Building Type Custom Building Condition  \n",
       "117379                   2059.0           SINGLE FAM            Average  \n",
       "87022                    1507.0           SINGLE FAM            Average  \n",
       "266262                   2163.0           SINGLE FAM            Average  \n",
       "210028                   3840.0           SINGLE FAM            Average  \n",
       "244774                   3432.0           SINGLE FAM            Average  "
      ]
     },
     "execution_count": 8,
     "metadata": {},
     "output_type": "execute_result"
    }
   ],
   "source": [
    "df.nsmallest(5, 'PPS')[['Location', 'Zone', 'Sale Price', 'PPS', 'Square Footage Improved', 'Building Type Custom', 'Building Condition']]"
   ]
  },
  {
   "cell_type": "code",
   "execution_count": 8,
   "metadata": {},
   "outputs": [
    {
     "data": {
      "text/plain": [
       "<matplotlib.axes._subplots.AxesSubplot at 0x7f185712a978>"
      ]
     },
     "execution_count": 8,
     "metadata": {},
     "output_type": "execute_result"
    },
    {
     "data": {
      "image/png": "[encoded data removed]",
      "text/plain": [
       "<Figure size 432x288 with 1 Axes>"
      ]
     },
     "metadata": {
      "needs_background": "light"
     },
     "output_type": "display_data"
    }
   ],
   "source": [
    "sns.distplot(df['PPS'].dropna())"
   ]
  },
  {
   "cell_type": "code",
   "execution_count": 135,
   "metadata": {},
   "outputs": [
    {
     "data": {
      "text/plain": [
       "<matplotlib.axes._subplots.AxesSubplot at 0x7f8f8283de10>"
      ]
     },
     "execution_count": 135,
     "metadata": {},
     "output_type": "execute_result"
    },
    {
     "data": {
      "image/png": "[encoded data removed]",
      "text/plain": [
       "<Figure size 432x288 with 1 Axes>"
      ]
     },
     "metadata": {
      "needs_background": "light"
     },
     "output_type": "display_data"
    }
   ],
   "source": [
    "# df['Log Assessment']= df['Land Value Improved'].map(lambda x: np.log(x) if (pd.notnull(x) and x != 0) else None)\n",
    "# df['Log Assessment']=df['Log Assessment'].replace(np.inf, np.nan)\n",
    "sns.distplot(df['Log Assessment'].dropna())"
   ]
  },
  {
   "cell_type": "code",
   "execution_count": 153,
   "metadata": {},
   "outputs": [
    {
     "data": {
      "text/plain": [
       "<matplotlib.axes._subplots.AxesSubplot at 0x7f8f7abf8ef0>"
      ]
     },
     "execution_count": 153,
     "metadata": {},
     "output_type": "execute_result"
    },
    {
     "data": {
      "image/png": "[encoded data removed]",
      "text/plain": [
       "<Figure size 432x288 with 1 Axes>"
      ]
     },
     "metadata": {
      "needs_background": "light"
     },
     "output_type": "display_data"
    }
   ],
   "source": [
    "sns.distplot(df['Fixtures'].dropna())"
   ]
  },
  {
   "cell_type": "code",
   "execution_count": 143,
   "metadata": {},
   "outputs": [
    {
     "data": {
      "text/plain": [
       "<matplotlib.axes._subplots.AxesSubplot at 0x7f169206dac8>"
      ]
     },
     "execution_count": 143,
     "metadata": {},
     "output_type": "execute_result"
    },
    {
     "data": {
      "image/png": "[encoded data removed]",
      "text/plain": [
       "<Figure size 432x288 with 1 Axes>"
      ]
     },
     "metadata": {
      "needs_background": "light"
     },
     "output_type": "display_data"
    }
   ],
   "source": [
    "df['Log Fixtures']= df['Fixtures'].map(lambda x: np.log(x) if (pd.notnull(x) and x != 0) else None)\n",
    "df['Log Fixtures']=df['Log Fixtures'].replace(np.inf, np.nan)\n",
    "sns.distplot(df['Log Fixtures'].dropna())"
   ]
  },
  {
   "cell_type": "code",
   "execution_count": 10,
   "metadata": {},
   "outputs": [
    {
     "data": {
      "text/html": [
       "<div>\n",
       "<style scoped>\n",
       "    .dataframe tbody tr th:only-of-type {\n",
       "        vertical-align: middle;\n",
       "    }\n",
       "\n",
       "    .dataframe tbody tr th {\n",
       "        vertical-align: top;\n",
       "    }\n",
       "\n",
       "    .dataframe thead th {\n",
       "        text-align: right;\n",
       "    }\n",
       "</style>\n",
       "<table border=\"1\" class=\"dataframe\">\n",
       "  <thead>\n",
       "    <tr style=\"text-align: right;\">\n",
       "      <th></th>\n",
       "      <th>Assessment Classification*</th>\n",
       "      <th>Assessment Improvement</th>\n",
       "      <th>Assessment Land</th>\n",
       "      <th>Assessment Total</th>\n",
       "      <th>Assessment Year</th>\n",
       "      <th>Baths</th>\n",
       "      <th>Beds2</th>\n",
       "      <th>Building Condition</th>\n",
       "      <th>Building Condition2</th>\n",
       "      <th>Building Grade</th>\n",
       "      <th>...</th>\n",
       "      <th>Assessment Ratio</th>\n",
       "      <th>Nbhd Ratio</th>\n",
       "      <th>Month</th>\n",
       "      <th>Quarter</th>\n",
       "      <th>Year</th>\n",
       "      <th>Log Assessment</th>\n",
       "      <th>Log Fixtures</th>\n",
       "      <th>Log SqFt</th>\n",
       "      <th>Log PPS</th>\n",
       "      <th>Log Land</th>\n",
       "    </tr>\n",
       "  </thead>\n",
       "  <tbody>\n",
       "    <tr>\n",
       "      <th>206093</th>\n",
       "      <td>RES</td>\n",
       "      <td>$54,825</td>\n",
       "      <td>$28,825</td>\n",
       "      <td>$83,650</td>\n",
       "      <td>2019.0</td>\n",
       "      <td>2.0</td>\n",
       "      <td>NaN</td>\n",
       "      <td>Average</td>\n",
       "      <td>NaN</td>\n",
       "      <td>C</td>\n",
       "      <td>...</td>\n",
       "      <td>0.086148</td>\n",
       "      <td>0.047750</td>\n",
       "      <td>7</td>\n",
       "      <td>3</td>\n",
       "      <td>2015</td>\n",
       "      <td>10.268998</td>\n",
       "      <td>2.079442</td>\n",
       "      <td>7.557995</td>\n",
       "      <td>5.163891</td>\n",
       "      <td>2.302585</td>\n",
       "    </tr>\n",
       "    <tr>\n",
       "      <th>5002</th>\n",
       "      <td>RES</td>\n",
       "      <td>$101,950</td>\n",
       "      <td>$27,200</td>\n",
       "      <td>$129,150</td>\n",
       "      <td>2019.0</td>\n",
       "      <td>4.0</td>\n",
       "      <td>NaN</td>\n",
       "      <td>Average</td>\n",
       "      <td>NaN</td>\n",
       "      <td>B</td>\n",
       "      <td>...</td>\n",
       "      <td>0.052652</td>\n",
       "      <td>0.068667</td>\n",
       "      <td>2</td>\n",
       "      <td>1</td>\n",
       "      <td>2017</td>\n",
       "      <td>10.210972</td>\n",
       "      <td>2.772589</td>\n",
       "      <td>7.986165</td>\n",
       "      <td>5.166334</td>\n",
       "      <td>2.291524</td>\n",
       "    </tr>\n",
       "    <tr>\n",
       "      <th>1511</th>\n",
       "      <td>RES</td>\n",
       "      <td>$70,625</td>\n",
       "      <td>$22,525</td>\n",
       "      <td>$93,150</td>\n",
       "      <td>2019.0</td>\n",
       "      <td>4.0</td>\n",
       "      <td>NaN</td>\n",
       "      <td>Average</td>\n",
       "      <td>NaN</td>\n",
       "      <td>A</td>\n",
       "      <td>...</td>\n",
       "      <td>0.060454</td>\n",
       "      <td>0.056145</td>\n",
       "      <td>2</td>\n",
       "      <td>1</td>\n",
       "      <td>2019</td>\n",
       "      <td>10.022381</td>\n",
       "      <td>2.833213</td>\n",
       "      <td>8.091627</td>\n",
       "      <td>5.194554</td>\n",
       "      <td>2.260721</td>\n",
       "    </tr>\n",
       "    <tr>\n",
       "      <th>201393</th>\n",
       "      <td>RES</td>\n",
       "      <td>$35,625</td>\n",
       "      <td>$40,750</td>\n",
       "      <td>$76,375</td>\n",
       "      <td>2019.0</td>\n",
       "      <td>3.0</td>\n",
       "      <td>NaN</td>\n",
       "      <td>Average</td>\n",
       "      <td>NaN</td>\n",
       "      <td>C</td>\n",
       "      <td>...</td>\n",
       "      <td>0.133388</td>\n",
       "      <td>0.138705</td>\n",
       "      <td>5</td>\n",
       "      <td>2</td>\n",
       "      <td>2016</td>\n",
       "      <td>10.615211</td>\n",
       "      <td>2.397895</td>\n",
       "      <td>7.716906</td>\n",
       "      <td>4.874429</td>\n",
       "      <td>2.230014</td>\n",
       "    </tr>\n",
       "    <tr>\n",
       "      <th>1513</th>\n",
       "      <td>RES</td>\n",
       "      <td>$93,275</td>\n",
       "      <td>$19,725</td>\n",
       "      <td>$113,000</td>\n",
       "      <td>2019.0</td>\n",
       "      <td>5.0</td>\n",
       "      <td>NaN</td>\n",
       "      <td>Average</td>\n",
       "      <td>NaN</td>\n",
       "      <td>B</td>\n",
       "      <td>...</td>\n",
       "      <td>0.043639</td>\n",
       "      <td>0.056145</td>\n",
       "      <td>5</td>\n",
       "      <td>2</td>\n",
       "      <td>2016</td>\n",
       "      <td>9.889642</td>\n",
       "      <td>2.890372</td>\n",
       "      <td>8.493310</td>\n",
       "      <td>4.489791</td>\n",
       "      <td>2.218116</td>\n",
       "    </tr>\n",
       "    <tr>\n",
       "      <th>1512</th>\n",
       "      <td>RES</td>\n",
       "      <td>$86,800</td>\n",
       "      <td>$17,000</td>\n",
       "      <td>$103,800</td>\n",
       "      <td>2019.0</td>\n",
       "      <td>3.0</td>\n",
       "      <td>NaN</td>\n",
       "      <td>Average</td>\n",
       "      <td>NaN</td>\n",
       "      <td>B</td>\n",
       "      <td>...</td>\n",
       "      <td>0.040944</td>\n",
       "      <td>0.056145</td>\n",
       "      <td>12</td>\n",
       "      <td>4</td>\n",
       "      <td>2017</td>\n",
       "      <td>9.740969</td>\n",
       "      <td>2.397895</td>\n",
       "      <td>8.029107</td>\n",
       "      <td>5.113059</td>\n",
       "      <td>2.193886</td>\n",
       "    </tr>\n",
       "    <tr>\n",
       "      <th>149664</th>\n",
       "      <td>RES</td>\n",
       "      <td>$713,575</td>\n",
       "      <td>$611,100</td>\n",
       "      <td>$1,324,675</td>\n",
       "      <td>2019.0</td>\n",
       "      <td>7.0</td>\n",
       "      <td>NaN</td>\n",
       "      <td>Average</td>\n",
       "      <td>NaN</td>\n",
       "      <td>X</td>\n",
       "      <td>...</td>\n",
       "      <td>0.115330</td>\n",
       "      <td>0.136330</td>\n",
       "      <td>11</td>\n",
       "      <td>4</td>\n",
       "      <td>2016</td>\n",
       "      <td>13.323016</td>\n",
       "      <td>3.044522</td>\n",
       "      <td>9.417517</td>\n",
       "      <td>6.056222</td>\n",
       "      <td>2.186051</td>\n",
       "    </tr>\n",
       "    <tr>\n",
       "      <th>1516</th>\n",
       "      <td>RES</td>\n",
       "      <td>$46,825</td>\n",
       "      <td>$21,850</td>\n",
       "      <td>$68,675</td>\n",
       "      <td>2019.0</td>\n",
       "      <td>2.0</td>\n",
       "      <td>NaN</td>\n",
       "      <td>Average</td>\n",
       "      <td>NaN</td>\n",
       "      <td>B</td>\n",
       "      <td>...</td>\n",
       "      <td>0.079541</td>\n",
       "      <td>0.056145</td>\n",
       "      <td>11</td>\n",
       "      <td>4</td>\n",
       "      <td>2017</td>\n",
       "      <td>9.991956</td>\n",
       "      <td>2.079442</td>\n",
       "      <td>7.726654</td>\n",
       "      <td>5.153638</td>\n",
       "      <td>2.169054</td>\n",
       "    </tr>\n",
       "    <tr>\n",
       "      <th>169807</th>\n",
       "      <td>RES</td>\n",
       "      <td>$25,600</td>\n",
       "      <td>$315,200</td>\n",
       "      <td>$340,800</td>\n",
       "      <td>2019.0</td>\n",
       "      <td>2.0</td>\n",
       "      <td>1.0</td>\n",
       "      <td>Average</td>\n",
       "      <td>Average</td>\n",
       "      <td>C</td>\n",
       "      <td>...</td>\n",
       "      <td>0.231221</td>\n",
       "      <td>0.129040</td>\n",
       "      <td>3</td>\n",
       "      <td>1</td>\n",
       "      <td>2018</td>\n",
       "      <td>12.660963</td>\n",
       "      <td>2.079442</td>\n",
       "      <td>7.638198</td>\n",
       "      <td>6.513785</td>\n",
       "      <td>2.140066</td>\n",
       "    </tr>\n",
       "    <tr>\n",
       "      <th>8193</th>\n",
       "      <td>RURAL</td>\n",
       "      <td>$80,700</td>\n",
       "      <td>$32,250</td>\n",
       "      <td>$112,950</td>\n",
       "      <td>2019.0</td>\n",
       "      <td>3.0</td>\n",
       "      <td>NaN</td>\n",
       "      <td>Average</td>\n",
       "      <td>NaN</td>\n",
       "      <td>C</td>\n",
       "      <td>...</td>\n",
       "      <td>0.071381</td>\n",
       "      <td>0.073556</td>\n",
       "      <td>12</td>\n",
       "      <td>4</td>\n",
       "      <td>2017</td>\n",
       "      <td>10.381273</td>\n",
       "      <td>2.484907</td>\n",
       "      <td>8.166500</td>\n",
       "      <td>4.705220</td>\n",
       "      <td>2.130610</td>\n",
       "    </tr>\n",
       "  </tbody>\n",
       "</table>\n",
       "<p>10 rows × 78 columns</p>\n",
       "</div>"
      ],
      "text/plain": [
       "       Assessment Classification* Assessment Improvement Assessment Land  \\\n",
       "206093                        RES               $54,825         $28,825    \n",
       "5002                          RES              $101,950         $27,200    \n",
       "1511                          RES               $70,625         $22,525    \n",
       "201393                        RES               $35,625         $40,750    \n",
       "1513                          RES               $93,275         $19,725    \n",
       "1512                          RES               $86,800         $17,000    \n",
       "149664                        RES              $713,575        $611,100    \n",
       "1516                          RES               $46,825         $21,850    \n",
       "169807                        RES               $25,600        $315,200    \n",
       "8193                        RURAL               $80,700         $32,250    \n",
       "\n",
       "       Assessment Total  Assessment Year  Baths  Beds2 Building Condition  \\\n",
       "206093         $83,650            2019.0    2.0    NaN            Average   \n",
       "5002          $129,150            2019.0    4.0    NaN            Average   \n",
       "1511           $93,150            2019.0    4.0    NaN            Average   \n",
       "201393         $76,375            2019.0    3.0    NaN            Average   \n",
       "1513          $113,000            2019.0    5.0    NaN            Average   \n",
       "1512          $103,800            2019.0    3.0    NaN            Average   \n",
       "149664      $1,324,675            2019.0    7.0    NaN            Average   \n",
       "1516           $68,675            2019.0    2.0    NaN            Average   \n",
       "169807        $340,800            2019.0    2.0    1.0            Average   \n",
       "8193          $112,950            2019.0    3.0    NaN            Average   \n",
       "\n",
       "       Building Condition2 Building Grade  ... Assessment Ratio Nbhd Ratio  \\\n",
       "206093                 NaN              C  ...         0.086148   0.047750   \n",
       "5002                   NaN              B  ...         0.052652   0.068667   \n",
       "1511                   NaN              A  ...         0.060454   0.056145   \n",
       "201393                 NaN              C  ...         0.133388   0.138705   \n",
       "1513                   NaN              B  ...         0.043639   0.056145   \n",
       "1512                   NaN              B  ...         0.040944   0.056145   \n",
       "149664                 NaN              X  ...         0.115330   0.136330   \n",
       "1516                   NaN              B  ...         0.079541   0.056145   \n",
       "169807             Average              C  ...         0.231221   0.129040   \n",
       "8193                   NaN              C  ...         0.071381   0.073556   \n",
       "\n",
       "       Month Quarter  Year Log Assessment Log Fixtures  Log SqFt   Log PPS  \\\n",
       "206093     7       3  2015      10.268998     2.079442  7.557995  5.163891   \n",
       "5002       2       1  2017      10.210972     2.772589  7.986165  5.166334   \n",
       "1511       2       1  2019      10.022381     2.833213  8.091627  5.194554   \n",
       "201393     5       2  2016      10.615211     2.397895  7.716906  4.874429   \n",
       "1513       5       2  2016       9.889642     2.890372  8.493310  4.489791   \n",
       "1512      12       4  2017       9.740969     2.397895  8.029107  5.113059   \n",
       "149664    11       4  2016      13.323016     3.044522  9.417517  6.056222   \n",
       "1516      11       4  2017       9.991956     2.079442  7.726654  5.153638   \n",
       "169807     3       1  2018      12.660963     2.079442  7.638198  6.513785   \n",
       "8193      12       4  2017      10.381273     2.484907  8.166500  4.705220   \n",
       "\n",
       "        Log Land  \n",
       "206093  2.302585  \n",
       "5002    2.291524  \n",
       "1511    2.260721  \n",
       "201393  2.230014  \n",
       "1513    2.218116  \n",
       "1512    2.193886  \n",
       "149664  2.186051  \n",
       "1516    2.169054  \n",
       "169807  2.140066  \n",
       "8193    2.130610  \n",
       "\n",
       "[10 rows x 78 columns]"
      ]
     },
     "execution_count": 10,
     "metadata": {},
     "output_type": "execute_result"
    }
   ],
   "source": [
    "df.nlargest(10, 'Land Area Acres')"
   ]
  },
  {
   "cell_type": "code",
   "execution_count": 142,
   "metadata": {},
   "outputs": [
    {
     "data": {
      "text/html": [
       "<div>\n",
       "<style scoped>\n",
       "    .dataframe tbody tr th:only-of-type {\n",
       "        vertical-align: middle;\n",
       "    }\n",
       "\n",
       "    .dataframe tbody tr th {\n",
       "        vertical-align: top;\n",
       "    }\n",
       "\n",
       "    .dataframe thead th {\n",
       "        text-align: right;\n",
       "    }\n",
       "</style>\n",
       "<table border=\"1\" class=\"dataframe\">\n",
       "  <thead>\n",
       "    <tr style=\"text-align: right;\">\n",
       "      <th></th>\n",
       "      <th>Fixtures</th>\n",
       "      <th>PPS</th>\n",
       "    </tr>\n",
       "  </thead>\n",
       "  <tbody>\n",
       "    <tr>\n",
       "      <th>135837</th>\n",
       "      <td>23.0</td>\n",
       "      <td>147.446655</td>\n",
       "    </tr>\n",
       "    <tr>\n",
       "      <th>128812</th>\n",
       "      <td>23.0</td>\n",
       "      <td>395.711003</td>\n",
       "    </tr>\n",
       "    <tr>\n",
       "      <th>131925</th>\n",
       "      <td>23.0</td>\n",
       "      <td>348.742903</td>\n",
       "    </tr>\n",
       "    <tr>\n",
       "      <th>146599</th>\n",
       "      <td>23.0</td>\n",
       "      <td>142.178087</td>\n",
       "    </tr>\n",
       "    <tr>\n",
       "      <th>148612</th>\n",
       "      <td>23.0</td>\n",
       "      <td>72.033135</td>\n",
       "    </tr>\n",
       "    <tr>\n",
       "      <th>128717</th>\n",
       "      <td>23.0</td>\n",
       "      <td>301.935183</td>\n",
       "    </tr>\n",
       "    <tr>\n",
       "      <th>236052</th>\n",
       "      <td>23.0</td>\n",
       "      <td>199.430199</td>\n",
       "    </tr>\n",
       "    <tr>\n",
       "      <th>261730</th>\n",
       "      <td>23.0</td>\n",
       "      <td>64.534772</td>\n",
       "    </tr>\n",
       "    <tr>\n",
       "      <th>130400</th>\n",
       "      <td>23.0</td>\n",
       "      <td>117.342040</td>\n",
       "    </tr>\n",
       "    <tr>\n",
       "      <th>190873</th>\n",
       "      <td>23.0</td>\n",
       "      <td>104.370026</td>\n",
       "    </tr>\n",
       "  </tbody>\n",
       "</table>\n",
       "</div>"
      ],
      "text/plain": [
       "        Fixtures         PPS\n",
       "135837      23.0  147.446655\n",
       "128812      23.0  395.711003\n",
       "131925      23.0  348.742903\n",
       "146599      23.0  142.178087\n",
       "148612      23.0   72.033135\n",
       "128717      23.0  301.935183\n",
       "236052      23.0  199.430199\n",
       "261730      23.0   64.534772\n",
       "130400      23.0  117.342040\n",
       "190873      23.0  104.370026"
      ]
     },
     "execution_count": 142,
     "metadata": {},
     "output_type": "execute_result"
    }
   ],
   "source": [
    "df.nlargest(10,'Fixtures')[['Fixtures', 'PPS']]"
   ]
  },
  {
   "cell_type": "code",
   "execution_count": 12,
   "metadata": {},
   "outputs": [
    {
     "data": {
      "text/plain": [
       "82.81928563630228"
      ]
     },
     "execution_count": 12,
     "metadata": {},
     "output_type": "execute_result"
    }
   ],
   "source": [
    "np.std(df.PPS)"
   ]
  },
  {
   "cell_type": "code",
   "execution_count": 147,
   "metadata": {},
   "outputs": [
    {
     "data": {
      "text/plain": [
       "<matplotlib.axes._subplots.AxesSubplot at 0x7f16920360f0>"
      ]
     },
     "execution_count": 147,
     "metadata": {},
     "output_type": "execute_result"
    },
    {
     "data": {
      "image/png": "[encoded data removed]",
      "text/plain": [
       "<Figure size 432x288 with 1 Axes>"
      ]
     },
     "metadata": {
      "needs_background": "light"
     },
     "output_type": "display_data"
    }
   ],
   "source": [
    "df['Log SqFt']= df['Square Footage Improved'].map(lambda x: np.log(x) if (pd.notnull(x) and x != 0) else None)\n",
    "df['Log SqFt']=df['Log SqFt'].replace(np.inf, np.nan)\n",
    "sns.distplot(df['Log SqFt'].dropna())"
   ]
  },
  {
   "cell_type": "code",
   "execution_count": 14,
   "metadata": {},
   "outputs": [
    {
     "data": {
      "text/plain": [
       "<matplotlib.axes._subplots.AxesSubplot at 0x7f8f832b8a90>"
      ]
     },
     "execution_count": 14,
     "metadata": {},
     "output_type": "execute_result"
    },
    {
     "data": {
      "image/png": "[encoded data removed]",
      "text/plain": [
       "<Figure size 432x288 with 1 Axes>"
      ]
     },
     "metadata": {
      "needs_background": "light"
     },
     "output_type": "display_data"
    }
   ],
   "source": [
    "df['Log Land']= df['Land Area Acres'].map(lambda x: np.log(x) if (pd.notnull(x) and x != 0) else None)\n",
    "sns.distplot(df['Log Land'].dropna())"
   ]
  },
  {
   "cell_type": "code",
   "execution_count": 60,
   "metadata": {},
   "outputs": [
    {
     "data": {
      "text/plain": [
       "<matplotlib.axes._subplots.AxesSubplot at 0x7f8f766dcb70>"
      ]
     },
     "execution_count": 60,
     "metadata": {},
     "output_type": "execute_result"
    },
    {
     "data": {
      "image/png": "[encoded data removed]",
      "text/plain": [
       "<Figure size 432x288 with 1 Axes>"
      ]
     },
     "metadata": {
      "needs_background": "light"
     },
     "output_type": "display_data"
    }
   ],
   "source": [
    "sns.distplot(df['Nbhd Ratio'].dropna())"
   ]
  },
  {
   "cell_type": "code",
   "execution_count": 156,
   "metadata": {},
   "outputs": [
    {
     "data": {
      "text/plain": [
       "<matplotlib.axes._subplots.AxesSubplot at 0x7f8f844dca58>"
      ]
     },
     "execution_count": 156,
     "metadata": {},
     "output_type": "execute_result"
    },
    {
     "data": {
      "image/png": "[encoded data removed]",
      "text/plain": [
       "<Figure size 432x288 with 1 Axes>"
      ]
     },
     "metadata": {
      "needs_background": "light"
     },
     "output_type": "display_data"
    }
   ],
   "source": [
    "df['Log NbhdRatio']= df['Nbhd Ratio'].map(lambda x: np.log(x) if (pd.notnull(x) and x != 0) else None)\n",
    "df['Log NbhdRatio']=df['Log NbhdRatio'].replace(np.inf, np.nan)\n",
    "sns.distplot(df['Log NbhdRatio'].dropna())"
   ]
  },
  {
   "cell_type": "code",
   "execution_count": 188,
   "metadata": {},
   "outputs": [
    {
     "data": {
      "text/plain": [
       "<matplotlib.axes._subplots.AxesSubplot at 0x7f8f83b93f98>"
      ]
     },
     "execution_count": 188,
     "metadata": {},
     "output_type": "execute_result"
    },
    {
     "data": {
      "image/png": "[encoded data removed]",
      "text/plain": [
       "<Figure size 432x288 with 1 Axes>"
      ]
     },
     "metadata": {
      "needs_background": "light"
     },
     "output_type": "display_data"
    }
   ],
   "source": [
    "sns.distplot(df['NeighborhoodPPS'].dropna())"
   ]
  },
  {
   "cell_type": "code",
   "execution_count": 157,
   "metadata": {},
   "outputs": [
    {
     "data": {
      "text/plain": [
       "<matplotlib.axes._subplots.AxesSubplot at 0x7f8f692e49e8>"
      ]
     },
     "execution_count": 157,
     "metadata": {},
     "output_type": "execute_result"
    },
    {
     "data": {
      "image/png": "[encoded data removed]",
      "text/plain": [
       "<Figure size 432x288 with 1 Axes>"
      ]
     },
     "metadata": {
      "needs_background": "light"
     },
     "output_type": "display_data"
    }
   ],
   "source": [
    "df['Log NbhdPPS']= df['NeighborhoodPPS'].map(lambda x: np.log(x) if (pd.notnull(x) and x != 0) else None)\n",
    "df['Log NbhdPPS']=df['Log NbhdPPS'].replace(np.inf, np.nan)\n",
    "sns.distplot(df['Log NbhdPPS'].dropna())"
   ]
  },
  {
   "cell_type": "code",
   "execution_count": 85,
   "metadata": {},
   "outputs": [
    {
     "data": {
      "text/plain": [
       "Average        52973\n",
       "Fair             590\n",
       "Good             242\n",
       "Poor              85\n",
       "Very Good         40\n",
       "Very Poor         28\n",
       "Dilapidated       16\n",
       "Excellent         11\n",
       "Name: Building Condition, dtype: int64"
      ]
     },
     "execution_count": 85,
     "metadata": {},
     "output_type": "execute_result"
    }
   ],
   "source": [
    "df['Building Condition'].value_counts()"
   ]
  },
  {
   "cell_type": "code",
   "execution_count": 113,
   "metadata": {},
   "outputs": [],
   "source": [
    "from sklearn.metrics import mean_squared_error as MSE\n",
    "from sklearn.metrics import median_absolute_error as MAE\n",
    "from sklearn.tree import DecisionTreeRegressor as DTR\n",
    "from sklearn.model_selection import train_test_split\n",
    "import lightgbm as lgb"
   ]
  },
  {
   "cell_type": "code",
   "execution_count": 174,
   "metadata": {},
   "outputs": [],
   "source": [
    "df2 = df[['Log NbhdRatio','Building Condition','Log SqFt','Log Fixtures','Building Type Custom','Building Grade','Year','Log NbhdPPS', 'PPS', 'Quarter', 'Log Assessment', 'Year Built']]\n",
    "df2=df2.dropna()"
   ]
  },
  {
   "cell_type": "code",
   "execution_count": 206,
   "metadata": {},
   "outputs": [],
   "source": [
    "X= pd.get_dummies(df2[['Log NbhdRatio','Year','Year Built','Log NbhdPPS','Log Assessment','Building Condition','Log Fixtures','Building Grade','Building Type Custom','Log SqFt', 'Quarter']])\n",
    "y=df2['PPS']\n",
    "X_train, X_test, y_train, y_test = train_test_split(X, y, test_size=0.28, random_state=42)"
   ]
  },
  {
   "cell_type": "code",
   "execution_count": 201,
   "metadata": {},
   "outputs": [
    {
     "name": "stdout",
     "output_type": "stream",
     "text": [
      "(53985, 80)\n",
      "(53908, 12)\n"
     ]
    }
   ],
   "source": [
    "print(df.shape)\n",
    "print(df2.shape)"
   ]
  },
  {
   "cell_type": "code",
   "execution_count": 207,
   "metadata": {},
   "outputs": [
    {
     "name": "stdout",
     "output_type": "stream",
     "text": [
      "84.94622655186863\n"
     ]
    }
   ],
   "source": [
    "from sklearn.dummy import DummyRegressor as DR\n",
    "model = DR(strategy='median')\n",
    "dr=model.fit(X_train, y_train)\n",
    "y_pred= dr.predict(X_test)\n",
    "# print(MSE(np.exp(y_pred), np.exp(y_test))**0.5)\n",
    "print(MSE(y_pred, y_test)**0.5)"
   ]
  },
  {
   "cell_type": "code",
   "execution_count": 208,
   "metadata": {},
   "outputs": [
    {
     "name": "stdout",
     "output_type": "stream",
     "text": [
      "42.27872016981829\n"
     ]
    }
   ],
   "source": [
    "model = DTR()\n",
    "dtr=model.fit(X_train, y_train)\n",
    "y_pred= dtr.predict(X_test)\n",
    "# print(MSE(np.exp(y_pred), np.exp(y_test))**0.5)\n",
    "print(MSE(y_pred, y_test)**0.5)"
   ]
  },
  {
   "cell_type": "code",
   "execution_count": 209,
   "metadata": {},
   "outputs": [
    {
     "name": "stderr",
     "output_type": "stream",
     "text": [
      "/home/drew/anaconda3/lib/python3.7/site-packages/sklearn/ensemble/forest.py:246: FutureWarning: The default value of n_estimators will change from 10 in version 0.20 to 100 in 0.22.\n",
      "  \"10 in version 0.20 to 100 in 0.22.\", FutureWarning)\n"
     ]
    },
    {
     "name": "stdout",
     "output_type": "stream",
     "text": [
      "32.20714631946678\n"
     ]
    }
   ],
   "source": [
    "from sklearn.ensemble import RandomForestRegressor as RFR\n",
    "model = RFR(random_state=42)\n",
    "rfr=model.fit(X_train,y_train)\n",
    "y_pred=rfr.predict(X_test)\n",
    "# print(MSE(np.exp(y_pred), np.exp(y_test))**0.5)\n",
    "print(MSE(y_pred, y_test)**0.5)"
   ]
  },
  {
   "cell_type": "code",
   "execution_count": 210,
   "metadata": {},
   "outputs": [
    {
     "name": "stderr",
     "output_type": "stream",
     "text": [
      "/home/drew/anaconda3/lib/python3.7/site-packages/xgboost/core.py:587: FutureWarning: Series.base is deprecated and will be removed in a future version\n",
      "  if getattr(data, 'base', None) is not None and \\\n"
     ]
    },
    {
     "name": "stdout",
     "output_type": "stream",
     "text": [
      "[15:04:44] WARNING: /workspace/src/objective/regression_obj.cu:152: reg:linear is now deprecated in favor of reg:squarederror.\n",
      "29.23682744706676\n",
      "11.065112444637094\n"
     ]
    }
   ],
   "source": [
    "from xgboost import XGBRegressor as XGBR\n",
    "#Best model parameters from GridSearchCV\n",
    "model = XGBR(base_score=0.5, booster='gbtree', colsample_bylevel=1,\n",
    "       colsample_bynode=1, colsample_bytree=0.4, gamma=0,\n",
    "       importance_type='gain', learning_rate=0.08, max_delta_step=0,\n",
    "       max_depth=6, min_child_weight=1.5, missing=None, n_estimators=600,\n",
    "       n_jobs=1, nthread=None, objective='reg:linear', random_state=0,\n",
    "       reg_alpha=0.75, reg_lambda=0.45, scale_pos_weight=1, seed=42,\n",
    "       silent=None, subsample=0.6, verbosity=1)\n",
    "\n",
    "xgbr=model.fit(X_train,y_train)\n",
    "y_predxg=xgbr.predict(X_test)\n",
    "# print(MSE(np.exp(y_pred), np.exp(y_test))**0.5)\n",
    "print(MSE(y_predxg, y_test)**0.5)\n",
    "print(MAE(y_predxg,y_test))"
   ]
  },
  {
   "cell_type": "code",
   "execution_count": 211,
   "metadata": {},
   "outputs": [
    {
     "data": {
      "text/plain": [
       "<matplotlib.axes._subplots.AxesSubplot at 0x7f8f81b41f98>"
      ]
     },
     "execution_count": 211,
     "metadata": {},
     "output_type": "execute_result"
    },
    {
     "data": {
      "text/plain": [
       "<Figure size 648x648 with 0 Axes>"
      ]
     },
     "metadata": {},
     "output_type": "display_data"
    },
    {
     "data": {
      "image/png": "[encoded data removed]",
      "text/plain": [
       "<Figure size 432x288 with 1 Axes>"
      ]
     },
     "metadata": {
      "needs_background": "light"
     },
     "output_type": "display_data"
    }
   ],
   "source": [
    "import xgboost as xgb\n",
    "plt.figure(figsize=(9,9))\n",
    "xgb.plot_importance(model)"
   ]
  },
  {
   "cell_type": "code",
   "execution_count": 30,
   "metadata": {},
   "outputs": [],
   "source": [
    "from sklearn.model_selection import GridSearchCV\n",
    "params={'learning_rate':[.07,.08,.09]}\n",
    "rfgrid = GridSearchCV(estimator = xgbr,param_grid=params, cv = 5, verbose=2, n_jobs = -1)\n",
    "rfgrid.fit(X, y)"
   ]
  },
  {
   "cell_type": "code",
   "execution_count": 33,
   "metadata": {},
   "outputs": [],
   "source": [
    "print(MSE(y_test, rfgrid.best_estimator_.predict(X_test))**0.5) \n",
    "print(MAE(y_test, rfgrid.best_estimator_.predict(X_test)))\n",
    "print(rfgrid.best_estimator_)"
   ]
  },
  {
   "cell_type": "code",
   "execution_count": 212,
   "metadata": {},
   "outputs": [
    {
     "name": "stdout",
     "output_type": "stream",
     "text": [
      "[1]\tvalid_0's l2: 4507.97\tvalid_0's l2: 4507.97\n",
      "Training until validation scores don't improve for 3 rounds.\n",
      "[2]\tvalid_0's l2: 3164.29\tvalid_0's l2: 3164.29\n",
      "[3]\tvalid_0's l2: 2376.06\tvalid_0's l2: 2376.06\n",
      "[4]\tvalid_0's l2: 1911.86\tvalid_0's l2: 1911.86\n",
      "[5]\tvalid_0's l2: 1628.7\tvalid_0's l2: 1628.7\n",
      "[6]\tvalid_0's l2: 1444.81\tvalid_0's l2: 1444.81\n",
      "[7]\tvalid_0's l2: 1319.89\tvalid_0's l2: 1319.89\n",
      "[8]\tvalid_0's l2: 1239.53\tvalid_0's l2: 1239.53\n",
      "[9]\tvalid_0's l2: 1181.96\tvalid_0's l2: 1181.96\n",
      "[10]\tvalid_0's l2: 1138.98\tvalid_0's l2: 1138.98\n",
      "[11]\tvalid_0's l2: 1102.58\tvalid_0's l2: 1102.58\n",
      "[12]\tvalid_0's l2: 1074.14\tvalid_0's l2: 1074.14\n",
      "[13]\tvalid_0's l2: 1047.79\tvalid_0's l2: 1047.79\n",
      "[14]\tvalid_0's l2: 1031.76\tvalid_0's l2: 1031.76\n",
      "[15]\tvalid_0's l2: 1015.34\tvalid_0's l2: 1015.34\n",
      "[16]\tvalid_0's l2: 1002.37\tvalid_0's l2: 1002.37\n",
      "[17]\tvalid_0's l2: 992.522\tvalid_0's l2: 992.522\n",
      "[18]\tvalid_0's l2: 980.665\tvalid_0's l2: 980.665\n",
      "[19]\tvalid_0's l2: 970.751\tvalid_0's l2: 970.751\n",
      "[20]\tvalid_0's l2: 963.469\tvalid_0's l2: 963.469\n",
      "[21]\tvalid_0's l2: 953.245\tvalid_0's l2: 953.245\n",
      "[22]\tvalid_0's l2: 947.468\tvalid_0's l2: 947.468\n",
      "[23]\tvalid_0's l2: 943.239\tvalid_0's l2: 943.239\n",
      "[24]\tvalid_0's l2: 937.619\tvalid_0's l2: 937.619\n",
      "[25]\tvalid_0's l2: 931.864\tvalid_0's l2: 931.864\n",
      "[26]\tvalid_0's l2: 930.003\tvalid_0's l2: 930.003\n",
      "[27]\tvalid_0's l2: 926.581\tvalid_0's l2: 926.581\n",
      "[28]\tvalid_0's l2: 923.968\tvalid_0's l2: 923.968\n",
      "[29]\tvalid_0's l2: 919.949\tvalid_0's l2: 919.949\n",
      "[30]\tvalid_0's l2: 916.868\tvalid_0's l2: 916.868\n",
      "[31]\tvalid_0's l2: 915.264\tvalid_0's l2: 915.264\n",
      "[32]\tvalid_0's l2: 913.572\tvalid_0's l2: 913.572\n",
      "[33]\tvalid_0's l2: 910.298\tvalid_0's l2: 910.298\n",
      "[34]\tvalid_0's l2: 909.511\tvalid_0's l2: 909.511\n",
      "[35]\tvalid_0's l2: 908.184\tvalid_0's l2: 908.184\n",
      "[36]\tvalid_0's l2: 905.496\tvalid_0's l2: 905.496\n",
      "[37]\tvalid_0's l2: 903.434\tvalid_0's l2: 903.434\n",
      "[38]\tvalid_0's l2: 902.419\tvalid_0's l2: 902.419\n",
      "[39]\tvalid_0's l2: 902.005\tvalid_0's l2: 902.005\n",
      "[40]\tvalid_0's l2: 901.112\tvalid_0's l2: 901.112\n",
      "[41]\tvalid_0's l2: 901.328\tvalid_0's l2: 901.328\n",
      "[42]\tvalid_0's l2: 902.125\tvalid_0's l2: 902.125\n",
      "[43]\tvalid_0's l2: 902.465\tvalid_0's l2: 902.465\n",
      "Early stopping, best iteration is:\n",
      "[40]\tvalid_0's l2: 901.112\tvalid_0's l2: 901.112\n"
     ]
    }
   ],
   "source": [
    "gbm = lgb.LGBMRegressor(num_leaves=80,\n",
    "                        learning_rate=0.25,\n",
    "                        n_estimators=325)\n",
    "gbm.fit(X_train, y_train,\n",
    "        eval_set=[(X_test, y_test)],\n",
    "        eval_metric='l2',\n",
    "        early_stopping_rounds=3)\n",
    "y_pred = gbm.predict(X_test, num_iteration=gbm.best_iteration_)"
   ]
  },
  {
   "cell_type": "code",
   "execution_count": 180,
   "metadata": {},
   "outputs": [
    {
     "data": {
      "text/plain": [
       "30.01852761212648"
      ]
     },
     "execution_count": 180,
     "metadata": {},
     "output_type": "execute_result"
    }
   ],
   "source": [
    "np.sqrt(901.112)"
   ]
  },
  {
   "cell_type": "code",
   "execution_count": 103,
   "metadata": {},
   "outputs": [
    {
     "name": "stdout",
     "output_type": "stream",
     "text": [
      "Best parameters found by grid search are: {'learning_rate': 0.18, 'max_depth': 5, 'min_child_weight': 3, 'n_estimators': 500}\n",
      "-881.8307356522524\n",
      "29.54707728069196\n",
      "10.806907694402788\n"
     ]
    }
   ],
   "source": [
    "from sklearn.model_selection import GridSearchCV\n",
    "from sklearn.metrics import median_absolute_error as MAE\n",
    "estimator = lgb.LGBMRegressor()\n",
    "param_grid = {\n",
    "    'learning_rate': [0.18,0.21],\n",
    "    'n_estimators': [300,500],\n",
    "    'min_child_weight':[3,4],\n",
    "    'max_depth': [5]\n",
    "}\n",
    "params={}\n",
    "gbm = GridSearchCV(estimator, param_grid, cv=5, scoring ='neg_mean_squared_error')\n",
    "gbm.fit(X_train, y_train)\n",
    "y_pred= gbm.predict(X_test)\n",
    "print('Best parameters found by grid search are:', gbm.best_params_)\n",
    "print(gbm.best_score_)\n",
    "print(MSE(y_pred,y_test)**0.5)\n",
    "print(MAE(y_pred,y_test))"
   ]
  },
  {
   "cell_type": "code",
   "execution_count": 214,
   "metadata": {},
   "outputs": [],
   "source": [
    "gbm.best_estimator_"
   ]
  },
  {
   "cell_type": "code",
   "execution_count": 28,
   "metadata": {},
   "outputs": [],
   "source": [
    "# from sklearn.model_selection import cross_val_score\n",
    "# scores = cross_val_score(gbm, y_train, y_test, cv=5)"
   ]
  },
  {
   "cell_type": "markdown",
   "metadata": {},
   "source": [
    "## Examining where it went wrong"
   ]
  },
  {
   "cell_type": "code",
   "execution_count": 144,
   "metadata": {},
   "outputs": [],
   "source": [
    "copiedxg= X_test.copy()\n",
    "copiedxg['Actual']= y_test\n",
    "copiedxg['Predicted']= y_predxg\n",
    "copiedxg['Residual'] = np.absolute(copiedxg['Actual'] - copiedxg['Predicted'])"
   ]
  },
  {
   "cell_type": "code",
   "execution_count": 106,
   "metadata": {},
   "outputs": [],
   "source": [
    "df.loc[235871]"
   ]
  },
  {
   "cell_type": "code",
   "execution_count": 151,
   "metadata": {},
   "outputs": [
    {
     "data": {
      "text/html": [
       "<div>\n",
       "<style scoped>\n",
       "    .dataframe tbody tr th:only-of-type {\n",
       "        vertical-align: middle;\n",
       "    }\n",
       "\n",
       "    .dataframe tbody tr th {\n",
       "        vertical-align: top;\n",
       "    }\n",
       "\n",
       "    .dataframe thead th {\n",
       "        text-align: right;\n",
       "    }\n",
       "</style>\n",
       "<table border=\"1\" class=\"dataframe\">\n",
       "  <thead>\n",
       "    <tr style=\"text-align: right;\">\n",
       "      <th></th>\n",
       "      <th>Log NbhdPPS</th>\n",
       "      <th>Actual</th>\n",
       "      <th>Predicted</th>\n",
       "      <th>Residual</th>\n",
       "    </tr>\n",
       "  </thead>\n",
       "  <tbody>\n",
       "    <tr>\n",
       "      <th>235871</th>\n",
       "      <td>6.261019</td>\n",
       "      <td>971.843778</td>\n",
       "      <td>379.422028</td>\n",
       "      <td>592.421751</td>\n",
       "    </tr>\n",
       "    <tr>\n",
       "      <th>21634</th>\n",
       "      <td>4.981066</td>\n",
       "      <td>670.391061</td>\n",
       "      <td>89.252357</td>\n",
       "      <td>581.138704</td>\n",
       "    </tr>\n",
       "    <tr>\n",
       "      <th>110153</th>\n",
       "      <td>5.478194</td>\n",
       "      <td>723.981900</td>\n",
       "      <td>191.183151</td>\n",
       "      <td>532.798749</td>\n",
       "    </tr>\n",
       "    <tr>\n",
       "      <th>174722</th>\n",
       "      <td>5.026542</td>\n",
       "      <td>617.870722</td>\n",
       "      <td>200.512527</td>\n",
       "      <td>417.358195</td>\n",
       "    </tr>\n",
       "    <tr>\n",
       "      <th>144762</th>\n",
       "      <td>5.071907</td>\n",
       "      <td>588.505747</td>\n",
       "      <td>178.486832</td>\n",
       "      <td>410.018915</td>\n",
       "    </tr>\n",
       "    <tr>\n",
       "      <th>116778</th>\n",
       "      <td>5.622840</td>\n",
       "      <td>645.994832</td>\n",
       "      <td>336.024689</td>\n",
       "      <td>309.970143</td>\n",
       "    </tr>\n",
       "    <tr>\n",
       "      <th>91666</th>\n",
       "      <td>5.321845</td>\n",
       "      <td>729.361702</td>\n",
       "      <td>433.220825</td>\n",
       "      <td>296.140877</td>\n",
       "    </tr>\n",
       "    <tr>\n",
       "      <th>279614</th>\n",
       "      <td>6.675857</td>\n",
       "      <td>1115.859449</td>\n",
       "      <td>851.748108</td>\n",
       "      <td>264.111341</td>\n",
       "    </tr>\n",
       "    <tr>\n",
       "      <th>95765</th>\n",
       "      <td>8.938265</td>\n",
       "      <td>218.253968</td>\n",
       "      <td>474.134979</td>\n",
       "      <td>255.881011</td>\n",
       "    </tr>\n",
       "    <tr>\n",
       "      <th>149566</th>\n",
       "      <td>5.627625</td>\n",
       "      <td>558.243394</td>\n",
       "      <td>312.166656</td>\n",
       "      <td>246.076738</td>\n",
       "    </tr>\n",
       "    <tr>\n",
       "      <th>131843</th>\n",
       "      <td>5.745289</td>\n",
       "      <td>521.881288</td>\n",
       "      <td>291.116730</td>\n",
       "      <td>230.764558</td>\n",
       "    </tr>\n",
       "    <tr>\n",
       "      <th>68179</th>\n",
       "      <td>5.321845</td>\n",
       "      <td>274.542284</td>\n",
       "      <td>51.025471</td>\n",
       "      <td>223.516813</td>\n",
       "    </tr>\n",
       "    <tr>\n",
       "      <th>114670</th>\n",
       "      <td>5.780475</td>\n",
       "      <td>461.647727</td>\n",
       "      <td>238.953934</td>\n",
       "      <td>222.693794</td>\n",
       "    </tr>\n",
       "    <tr>\n",
       "      <th>119764</th>\n",
       "      <td>5.604687</td>\n",
       "      <td>705.128205</td>\n",
       "      <td>486.860596</td>\n",
       "      <td>218.267609</td>\n",
       "    </tr>\n",
       "    <tr>\n",
       "      <th>55197</th>\n",
       "      <td>5.256380</td>\n",
       "      <td>24.112351</td>\n",
       "      <td>240.259552</td>\n",
       "      <td>216.147201</td>\n",
       "    </tr>\n",
       "    <tr>\n",
       "      <th>85995</th>\n",
       "      <td>5.275165</td>\n",
       "      <td>500.000000</td>\n",
       "      <td>287.599579</td>\n",
       "      <td>212.400421</td>\n",
       "    </tr>\n",
       "    <tr>\n",
       "      <th>45775</th>\n",
       "      <td>5.367912</td>\n",
       "      <td>416.666667</td>\n",
       "      <td>207.332993</td>\n",
       "      <td>209.333674</td>\n",
       "    </tr>\n",
       "    <tr>\n",
       "      <th>129586</th>\n",
       "      <td>5.723462</td>\n",
       "      <td>329.767149</td>\n",
       "      <td>531.631775</td>\n",
       "      <td>201.864626</td>\n",
       "    </tr>\n",
       "    <tr>\n",
       "      <th>116295</th>\n",
       "      <td>5.745289</td>\n",
       "      <td>766.666667</td>\n",
       "      <td>565.194946</td>\n",
       "      <td>201.471720</td>\n",
       "    </tr>\n",
       "    <tr>\n",
       "      <th>263480</th>\n",
       "      <td>5.267368</td>\n",
       "      <td>62.531276</td>\n",
       "      <td>259.520355</td>\n",
       "      <td>196.989079</td>\n",
       "    </tr>\n",
       "  </tbody>\n",
       "</table>\n",
       "</div>"
      ],
      "text/plain": [
       "        Log NbhdPPS       Actual   Predicted    Residual\n",
       "235871     6.261019   971.843778  379.422028  592.421751\n",
       "21634      4.981066   670.391061   89.252357  581.138704\n",
       "110153     5.478194   723.981900  191.183151  532.798749\n",
       "174722     5.026542   617.870722  200.512527  417.358195\n",
       "144762     5.071907   588.505747  178.486832  410.018915\n",
       "116778     5.622840   645.994832  336.024689  309.970143\n",
       "91666      5.321845   729.361702  433.220825  296.140877\n",
       "279614     6.675857  1115.859449  851.748108  264.111341\n",
       "95765      8.938265   218.253968  474.134979  255.881011\n",
       "149566     5.627625   558.243394  312.166656  246.076738\n",
       "131843     5.745289   521.881288  291.116730  230.764558\n",
       "68179      5.321845   274.542284   51.025471  223.516813\n",
       "114670     5.780475   461.647727  238.953934  222.693794\n",
       "119764     5.604687   705.128205  486.860596  218.267609\n",
       "55197      5.256380    24.112351  240.259552  216.147201\n",
       "85995      5.275165   500.000000  287.599579  212.400421\n",
       "45775      5.367912   416.666667  207.332993  209.333674\n",
       "129586     5.723462   329.767149  531.631775  201.864626\n",
       "116295     5.745289   766.666667  565.194946  201.471720\n",
       "263480     5.267368    62.531276  259.520355  196.989079"
      ]
     },
     "execution_count": 151,
     "metadata": {},
     "output_type": "execute_result"
    }
   ],
   "source": [
    "#The pattern in my biggest flubs is, there's a big difference between the NeighborhoodPPS and the acutal PPS\n",
    "#However, adding NeighborhoodPPS to the model significantly increases performance.\n",
    "#So how can I tune it to accept NeighborhoodPPS while minimizing this error?\n",
    "copiedxg.nlargest(20,'Residual')[['Log NbhdPPS', 'Actual', 'Predicted', 'Residual']]"
   ]
  },
  {
   "cell_type": "code",
   "execution_count": 185,
   "metadata": {},
   "outputs": [],
   "source": [
    "copied= X_test.copy()\n",
    "copied['Actual']= y_test\n",
    "copied['Predicted']= y_pred\n",
    "copied['Residual'] = np.absolute(copied['Actual'] - copied['Predicted'])"
   ]
  },
  {
   "cell_type": "code",
   "execution_count": 186,
   "metadata": {},
   "outputs": [
    {
     "data": {
      "text/html": [
       "<div>\n",
       "<style scoped>\n",
       "    .dataframe tbody tr th:only-of-type {\n",
       "        vertical-align: middle;\n",
       "    }\n",
       "\n",
       "    .dataframe tbody tr th {\n",
       "        vertical-align: top;\n",
       "    }\n",
       "\n",
       "    .dataframe thead th {\n",
       "        text-align: right;\n",
       "    }\n",
       "</style>\n",
       "<table border=\"1\" class=\"dataframe\">\n",
       "  <thead>\n",
       "    <tr style=\"text-align: right;\">\n",
       "      <th></th>\n",
       "      <th>Actual</th>\n",
       "      <th>Predicted</th>\n",
       "      <th>Residual</th>\n",
       "      <th>Log NbhdPPS</th>\n",
       "    </tr>\n",
       "  </thead>\n",
       "  <tbody>\n",
       "    <tr>\n",
       "      <th>235871</th>\n",
       "      <td>971.843778</td>\n",
       "      <td>360.136794</td>\n",
       "      <td>611.706984</td>\n",
       "      <td>6.261019</td>\n",
       "    </tr>\n",
       "    <tr>\n",
       "      <th>110153</th>\n",
       "      <td>723.981900</td>\n",
       "      <td>203.798565</td>\n",
       "      <td>520.183336</td>\n",
       "      <td>5.478194</td>\n",
       "    </tr>\n",
       "    <tr>\n",
       "      <th>174722</th>\n",
       "      <td>617.870722</td>\n",
       "      <td>169.595437</td>\n",
       "      <td>448.275285</td>\n",
       "      <td>5.026542</td>\n",
       "    </tr>\n",
       "    <tr>\n",
       "      <th>91666</th>\n",
       "      <td>729.361702</td>\n",
       "      <td>302.874096</td>\n",
       "      <td>426.487606</td>\n",
       "      <td>5.321845</td>\n",
       "    </tr>\n",
       "    <tr>\n",
       "      <th>144762</th>\n",
       "      <td>588.505747</td>\n",
       "      <td>196.055064</td>\n",
       "      <td>392.450683</td>\n",
       "      <td>5.071907</td>\n",
       "    </tr>\n",
       "    <tr>\n",
       "      <th>279614</th>\n",
       "      <td>1115.859449</td>\n",
       "      <td>780.208628</td>\n",
       "      <td>335.650821</td>\n",
       "      <td>6.675857</td>\n",
       "    </tr>\n",
       "    <tr>\n",
       "      <th>45773</th>\n",
       "      <td>506.072874</td>\n",
       "      <td>187.619224</td>\n",
       "      <td>318.453651</td>\n",
       "      <td>5.367912</td>\n",
       "    </tr>\n",
       "    <tr>\n",
       "      <th>45775</th>\n",
       "      <td>416.666667</td>\n",
       "      <td>153.102313</td>\n",
       "      <td>263.564354</td>\n",
       "      <td>5.367912</td>\n",
       "    </tr>\n",
       "    <tr>\n",
       "      <th>116250</th>\n",
       "      <td>181.818182</td>\n",
       "      <td>434.791157</td>\n",
       "      <td>252.972976</td>\n",
       "      <td>5.745289</td>\n",
       "    </tr>\n",
       "    <tr>\n",
       "      <th>261255</th>\n",
       "      <td>1091.422702</td>\n",
       "      <td>852.546135</td>\n",
       "      <td>238.876567</td>\n",
       "      <td>6.285591</td>\n",
       "    </tr>\n",
       "    <tr>\n",
       "      <th>131843</th>\n",
       "      <td>521.881288</td>\n",
       "      <td>289.818505</td>\n",
       "      <td>232.062783</td>\n",
       "      <td>5.745289</td>\n",
       "    </tr>\n",
       "    <tr>\n",
       "      <th>149566</th>\n",
       "      <td>558.243394</td>\n",
       "      <td>328.539366</td>\n",
       "      <td>229.704029</td>\n",
       "      <td>5.627625</td>\n",
       "    </tr>\n",
       "    <tr>\n",
       "      <th>94023</th>\n",
       "      <td>390.000000</td>\n",
       "      <td>166.655242</td>\n",
       "      <td>223.344758</td>\n",
       "      <td>5.713669</td>\n",
       "    </tr>\n",
       "    <tr>\n",
       "      <th>119630</th>\n",
       "      <td>739.644970</td>\n",
       "      <td>529.063212</td>\n",
       "      <td>210.581758</td>\n",
       "      <td>5.780475</td>\n",
       "    </tr>\n",
       "    <tr>\n",
       "      <th>85995</th>\n",
       "      <td>500.000000</td>\n",
       "      <td>298.408009</td>\n",
       "      <td>201.591991</td>\n",
       "      <td>5.275165</td>\n",
       "    </tr>\n",
       "    <tr>\n",
       "      <th>116295</th>\n",
       "      <td>766.666667</td>\n",
       "      <td>565.730125</td>\n",
       "      <td>200.936541</td>\n",
       "      <td>5.745289</td>\n",
       "    </tr>\n",
       "    <tr>\n",
       "      <th>249574</th>\n",
       "      <td>649.289100</td>\n",
       "      <td>454.457606</td>\n",
       "      <td>194.831494</td>\n",
       "      <td>6.109212</td>\n",
       "    </tr>\n",
       "    <tr>\n",
       "      <th>128871</th>\n",
       "      <td>494.264627</td>\n",
       "      <td>300.265049</td>\n",
       "      <td>193.999578</td>\n",
       "      <td>5.723462</td>\n",
       "    </tr>\n",
       "    <tr>\n",
       "      <th>119764</th>\n",
       "      <td>705.128205</td>\n",
       "      <td>515.584074</td>\n",
       "      <td>189.544131</td>\n",
       "      <td>5.604687</td>\n",
       "    </tr>\n",
       "    <tr>\n",
       "      <th>152888</th>\n",
       "      <td>515.993656</td>\n",
       "      <td>328.144287</td>\n",
       "      <td>187.849369</td>\n",
       "      <td>5.405399</td>\n",
       "    </tr>\n",
       "  </tbody>\n",
       "</table>\n",
       "</div>"
      ],
      "text/plain": [
       "             Actual   Predicted    Residual  Log NbhdPPS\n",
       "235871   971.843778  360.136794  611.706984     6.261019\n",
       "110153   723.981900  203.798565  520.183336     5.478194\n",
       "174722   617.870722  169.595437  448.275285     5.026542\n",
       "91666    729.361702  302.874096  426.487606     5.321845\n",
       "144762   588.505747  196.055064  392.450683     5.071907\n",
       "279614  1115.859449  780.208628  335.650821     6.675857\n",
       "45773    506.072874  187.619224  318.453651     5.367912\n",
       "45775    416.666667  153.102313  263.564354     5.367912\n",
       "116250   181.818182  434.791157  252.972976     5.745289\n",
       "261255  1091.422702  852.546135  238.876567     6.285591\n",
       "131843   521.881288  289.818505  232.062783     5.745289\n",
       "149566   558.243394  328.539366  229.704029     5.627625\n",
       "94023    390.000000  166.655242  223.344758     5.713669\n",
       "119630   739.644970  529.063212  210.581758     5.780475\n",
       "85995    500.000000  298.408009  201.591991     5.275165\n",
       "116295   766.666667  565.730125  200.936541     5.745289\n",
       "249574   649.289100  454.457606  194.831494     6.109212\n",
       "128871   494.264627  300.265049  193.999578     5.723462\n",
       "119764   705.128205  515.584074  189.544131     5.604687\n",
       "152888   515.993656  328.144287  187.849369     5.405399"
      ]
     },
     "execution_count": 186,
     "metadata": {},
     "output_type": "execute_result"
    }
   ],
   "source": [
    "copied.nlargest(20, 'Residual')[['Actual','Predicted','Residual', 'Log NbhdPPS']]"
   ]
  },
  {
   "cell_type": "code",
   "execution_count": 183,
   "metadata": {},
   "outputs": [
    {
     "data": {
      "text/plain": [
       "<matplotlib.axes._subplots.AxesSubplot at 0x7f8f83a79f98>"
      ]
     },
     "execution_count": 183,
     "metadata": {},
     "output_type": "execute_result"
    },
    {
     "data": {
      "image/png": "[encoded data removed]",
      "text/plain": [
       "<Figure size 648x648 with 1 Axes>"
      ]
     },
     "metadata": {
      "needs_background": "light"
     },
     "output_type": "display_data"
    }
   ],
   "source": [
    "plt.figure(figsize=(9,9))\n",
    "sns.distplot(copied.Residual.dropna())"
   ]
  },
  {
   "cell_type": "code",
   "execution_count": 110,
   "metadata": {},
   "outputs": [
    {
     "data": {
      "text/plain": [
       "Assessment Classification*                                                RES\n",
       "Assessment Improvement                                               $67,275 \n",
       "Assessment Land                                                      $16,250 \n",
       "Assessment Total                                                     $83,525 \n",
       "Assessment Year                                                          2019\n",
       "Baths                                                                       1\n",
       "Beds2                                                                     NaN\n",
       "Building Condition                                                    Average\n",
       "Building Condition2                                                       NaN\n",
       "Building Grade                                                              B\n",
       "Building Grade2                                                           NaN\n",
       "Building Type                                                      RESD CONDO\n",
       "Building Type2                                                            NaN\n",
       "Current Owner                                         BRASKEY PROPERTIES, LLC\n",
       "Deed Reference                                               20171009-0103156\n",
       "Exterior Wall                                                           BRICK\n",
       "Exterior Wall2                                                            NaN\n",
       "Fixtures                                                                    7\n",
       "Fixtures2                                                                 NaN\n",
       "Foundation Type                                                          SLAB\n",
       "Foundation Type2                                                          NaN\n",
       "Frame Type                                                            TYPICAL\n",
       "Half Bath                                                                   1\n",
       "Half Bath2                                                                NaN\n",
       "Improvement Value                                                   $269,100 \n",
       "Land Area                                                          0.00 Acres\n",
       "Land Value                                                           $65,000 \n",
       "Location                                                320 BROADWAY Unit 301\n",
       "Mailing Address                      600 12TH AVE S # 423 NASHVILLE, TN 37203\n",
       "Map & Parcel                                                 093 06 4A 004.00\n",
       "                                                       ...                   \n",
       "Property City                                                       NASHVILLE\n",
       "Sale Date                                                 2017-10-05 00:00:00\n",
       "Sale Price                                                           1.07e+06\n",
       "Legal Reference                                              20171009-0103156\n",
       "Sold As Vacant                                                             No\n",
       "Multiple Parcels Involved in Sale                                          No\n",
       "Assessment Improvement Improved                                         16250\n",
       "Most Recent Sale Price Improved                                      1.07e+06\n",
       "Improvement Value Improved                                             269100\n",
       "Assessment Total Improved                                               83525\n",
       "Land Value Improved                                                     65000\n",
       "Assessment Land Improved                                                16250\n",
       "Total Appraisal Value Improved                                         334100\n",
       "Square Footage Improved                                                  1101\n",
       "Building Type Custom                                                    CONDO\n",
       "Land Area Acres                                                             0\n",
       "PPS                                                                   971.844\n",
       "NeighborhoodPPS                                                       523.753\n",
       "Assessment Ratio                                                    0.0486381\n",
       "Nbhd Ratio                                                          0.0416729\n",
       "Month                                                                      10\n",
       "Quarter                                                                     4\n",
       "Year                                                                     2017\n",
       "Log Assessment                                                        9.69585\n",
       "Log Fixtures                                                          1.94591\n",
       "Log SqFt                                                              7.00397\n",
       "Log PPS                                                                6.8792\n",
       "Log Land                                                                  NaN\n",
       "Log NbhdPPS                                                           6.26102\n",
       "Log NbhdRatio                                                        -3.17791\n",
       "Name: 235871, Length: 80, dtype: object"
      ]
     },
     "execution_count": 110,
     "metadata": {},
     "output_type": "execute_result"
    }
   ],
   "source": [
    "df.loc[235871]"
   ]
  },
  {
   "cell_type": "code",
   "execution_count": 189,
   "metadata": {},
   "outputs": [
    {
     "data": {
      "text/html": [
       "<div>\n",
       "<style scoped>\n",
       "    .dataframe tbody tr th:only-of-type {\n",
       "        vertical-align: middle;\n",
       "    }\n",
       "\n",
       "    .dataframe tbody tr th {\n",
       "        vertical-align: top;\n",
       "    }\n",
       "\n",
       "    .dataframe thead th {\n",
       "        text-align: right;\n",
       "    }\n",
       "</style>\n",
       "<table border=\"1\" class=\"dataframe\">\n",
       "  <thead>\n",
       "    <tr style=\"text-align: right;\">\n",
       "      <th></th>\n",
       "      <th>Sale Price</th>\n",
       "      <th>Location</th>\n",
       "      <th>PPS</th>\n",
       "      <th>Square Footage Improved</th>\n",
       "      <th>Log Land</th>\n",
       "    </tr>\n",
       "  </thead>\n",
       "  <tbody>\n",
       "    <tr>\n",
       "      <th>117379</th>\n",
       "      <td>10001.0</td>\n",
       "      <td>31 N HILL ST</td>\n",
       "      <td>4.857212</td>\n",
       "      <td>2059.0</td>\n",
       "      <td>-2.302585</td>\n",
       "    </tr>\n",
       "    <tr>\n",
       "      <th>87022</th>\n",
       "      <td>10000.0</td>\n",
       "      <td>5801 MACKIE PL</td>\n",
       "      <td>6.635700</td>\n",
       "      <td>1507.0</td>\n",
       "      <td>-2.040221</td>\n",
       "    </tr>\n",
       "    <tr>\n",
       "      <th>266262</th>\n",
       "      <td>15000.0</td>\n",
       "      <td>6582 SUNNYWOOD DR</td>\n",
       "      <td>6.934813</td>\n",
       "      <td>2163.0</td>\n",
       "      <td>-1.347074</td>\n",
       "    </tr>\n",
       "    <tr>\n",
       "      <th>210028</th>\n",
       "      <td>30000.0</td>\n",
       "      <td>4839 JONQUIL DR</td>\n",
       "      <td>7.812500</td>\n",
       "      <td>3840.0</td>\n",
       "      <td>-0.733969</td>\n",
       "    </tr>\n",
       "    <tr>\n",
       "      <th>244774</th>\n",
       "      <td>28000.0</td>\n",
       "      <td>909 MULBERRY HILL PL</td>\n",
       "      <td>8.158508</td>\n",
       "      <td>3432.0</td>\n",
       "      <td>-1.660731</td>\n",
       "    </tr>\n",
       "    <tr>\n",
       "      <th>158357</th>\n",
       "      <td>9000.0</td>\n",
       "      <td>270 TAMPA DR Unit E-1</td>\n",
       "      <td>8.211679</td>\n",
       "      <td>1096.0</td>\n",
       "      <td>NaN</td>\n",
       "    </tr>\n",
       "    <tr>\n",
       "      <th>241964</th>\n",
       "      <td>25500.0</td>\n",
       "      <td>3707 EZELL RD</td>\n",
       "      <td>8.799172</td>\n",
       "      <td>2898.0</td>\n",
       "      <td>-0.713350</td>\n",
       "    </tr>\n",
       "    <tr>\n",
       "      <th>231682</th>\n",
       "      <td>13700.0</td>\n",
       "      <td>800 POINT BREAK CIR S</td>\n",
       "      <td>9.060847</td>\n",
       "      <td>1512.0</td>\n",
       "      <td>-1.609438</td>\n",
       "    </tr>\n",
       "    <tr>\n",
       "      <th>182809</th>\n",
       "      <td>17500.0</td>\n",
       "      <td>2817 CREEKVIEW DR</td>\n",
       "      <td>9.157509</td>\n",
       "      <td>1911.0</td>\n",
       "      <td>-1.386294</td>\n",
       "    </tr>\n",
       "    <tr>\n",
       "      <th>161373</th>\n",
       "      <td>14000.0</td>\n",
       "      <td>4000 ANDERSON RD Unit 76</td>\n",
       "      <td>9.459459</td>\n",
       "      <td>1480.0</td>\n",
       "      <td>NaN</td>\n",
       "    </tr>\n",
       "    <tr>\n",
       "      <th>17634</th>\n",
       "      <td>10000.0</td>\n",
       "      <td>323 FOREST PARK RD Unit 6-8</td>\n",
       "      <td>9.523810</td>\n",
       "      <td>1050.0</td>\n",
       "      <td>NaN</td>\n",
       "    </tr>\n",
       "    <tr>\n",
       "      <th>25042</th>\n",
       "      <td>31000.0</td>\n",
       "      <td>409 RANDY RD</td>\n",
       "      <td>9.609423</td>\n",
       "      <td>3226.0</td>\n",
       "      <td>0.746688</td>\n",
       "    </tr>\n",
       "    <tr>\n",
       "      <th>233144</th>\n",
       "      <td>19991.0</td>\n",
       "      <td>4552 HAMILTON LN</td>\n",
       "      <td>9.906343</td>\n",
       "      <td>2018.0</td>\n",
       "      <td>-1.714798</td>\n",
       "    </tr>\n",
       "    <tr>\n",
       "      <th>243296</th>\n",
       "      <td>27500.0</td>\n",
       "      <td>913 HOSPITAL DR</td>\n",
       "      <td>10.291916</td>\n",
       "      <td>2672.0</td>\n",
       "      <td>-0.916291</td>\n",
       "    </tr>\n",
       "    <tr>\n",
       "      <th>244492</th>\n",
       "      <td>40000.0</td>\n",
       "      <td>256 TOOK DR</td>\n",
       "      <td>10.487677</td>\n",
       "      <td>3814.0</td>\n",
       "      <td>-1.714798</td>\n",
       "    </tr>\n",
       "  </tbody>\n",
       "</table>\n",
       "</div>"
      ],
      "text/plain": [
       "        Sale Price                     Location        PPS  \\\n",
       "117379     10001.0                 31 N HILL ST   4.857212   \n",
       "87022      10000.0               5801 MACKIE PL   6.635700   \n",
       "266262     15000.0            6582 SUNNYWOOD DR   6.934813   \n",
       "210028     30000.0              4839 JONQUIL DR   7.812500   \n",
       "244774     28000.0         909 MULBERRY HILL PL   8.158508   \n",
       "158357      9000.0        270 TAMPA DR Unit E-1   8.211679   \n",
       "241964     25500.0                3707 EZELL RD   8.799172   \n",
       "231682     13700.0        800 POINT BREAK CIR S   9.060847   \n",
       "182809     17500.0            2817 CREEKVIEW DR   9.157509   \n",
       "161373     14000.0     4000 ANDERSON RD Unit 76   9.459459   \n",
       "17634      10000.0  323 FOREST PARK RD Unit 6-8   9.523810   \n",
       "25042      31000.0                 409 RANDY RD   9.609423   \n",
       "233144     19991.0             4552 HAMILTON LN   9.906343   \n",
       "243296     27500.0              913 HOSPITAL DR  10.291916   \n",
       "244492     40000.0                  256 TOOK DR  10.487677   \n",
       "\n",
       "        Square Footage Improved  Log Land  \n",
       "117379                   2059.0 -2.302585  \n",
       "87022                    1507.0 -2.040221  \n",
       "266262                   2163.0 -1.347074  \n",
       "210028                   3840.0 -0.733969  \n",
       "244774                   3432.0 -1.660731  \n",
       "158357                   1096.0       NaN  \n",
       "241964                   2898.0 -0.713350  \n",
       "231682                   1512.0 -1.609438  \n",
       "182809                   1911.0 -1.386294  \n",
       "161373                   1480.0       NaN  \n",
       "17634                    1050.0       NaN  \n",
       "25042                    3226.0  0.746688  \n",
       "233144                   2018.0 -1.714798  \n",
       "243296                   2672.0 -0.916291  \n",
       "244492                   3814.0 -1.714798  "
      ]
     },
     "execution_count": 189,
     "metadata": {},
     "output_type": "execute_result"
    }
   ],
   "source": [
    "df.nsmallest(15, 'PPS')[['Sale Price', 'Location', 'PPS', 'Square Footage Improved', 'Log Land']]"
   ]
  }
 ],
 "metadata": {
  "kernelspec": {
   "display_name": "Python 3",
   "language": "python",
   "name": "python3"
  },
  "language_info": {
   "codemirror_mode": {
    "name": "ipython",
    "version": 3
   },
   "file_extension": ".py",
   "mimetype": "text/x-python",
   "name": "python",
   "nbconvert_exporter": "python",
   "pygments_lexer": "ipython3",
   "version": "3.7.3"
  }
 },
 "nbformat": 4,
 "nbformat_minor": 2
}
