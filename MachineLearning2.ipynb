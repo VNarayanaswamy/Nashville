{
 "cells": [
  {
   "cell_type": "markdown",
   "metadata": {},
   "source": [
    "## Observations\n",
    "\n",
    "Month is not a useful variable. Try Quarter.\n",
    "Best result so far is decision tree with df[['Exterior Wall', 'Fixtures', 'Neighborhood', 'Story Height', 'Assessment Ratio', 'Building Grade', 'Quarter']]\n",
    "\n",
    "Lots of outliers here, try RandomForest\n",
    "\n",
    "With XGBoost, got down to 40.9\n",
    "\n",
    "## Next step: incorporate data from full dataframe.\n",
    "\n",
    "Possibly: average fixtures per house in the neighborhood?"
   ]
  },
  {
   "cell_type": "code",
   "execution_count": 1,
   "metadata": {},
   "outputs": [],
   "source": [
    "import matplotlib.pyplot as plt\n",
    "import numpy as np\n",
    "import seaborn as sns\n",
    "import pandas as pd \n",
    "%matplotlib inline\n",
    "sns.set(style='darkgrid')\n",
    "import matplotlib.dates as mdates"
   ]
  },
  {
   "cell_type": "code",
   "execution_count": 2,
   "metadata": {},
   "outputs": [
    {
     "name": "stderr",
     "output_type": "stream",
     "text": [
      "C:\\Users\\alehe\\Anaconda3\\lib\\site-packages\\IPython\\core\\interactiveshell.py:3020: DtypeWarning: Columns (49) have mixed types. Specify dtype option on import or set low_memory=False.\n",
      "  interactivity=interactivity, compiler=compiler, result=result)\n"
     ]
    }
   ],
   "source": [
    "df1=pd.read_csv('nashville_20190827200234.csv', parse_dates = ['Most Recent Sale Date', 'Sale Date'], dtype={'Zone': str, 'Neighborhood': str})"
   ]
  },
  {
   "cell_type": "code",
   "execution_count": 29,
   "metadata": {
    "scrolled": true
   },
   "outputs": [
    {
     "data": {
      "text/plain": [
       "Index(['Assessment Classification*', 'Assessment Improvement',\n",
       "       'Assessment Land', 'Assessment Total', 'Assessment Year', 'Baths',\n",
       "       'Beds2', 'Building Condition', 'Building Condition2', 'Building Grade',\n",
       "       'Building Grade2', 'Building Type', 'Building Type2', 'Current Owner',\n",
       "       'Deed Reference', 'Exterior Wall', 'Exterior Wall2', 'Fixtures',\n",
       "       'Fixtures2', 'Foundation Type', 'Foundation Type2', 'Frame Type',\n",
       "       'Half Bath', 'Half Bath2', 'Improvement Value', 'Land Area',\n",
       "       'Land Value', 'Location', 'Mailing Address', 'Map & Parcel',\n",
       "       'Most Recent Sale Date', 'Most Recent Sale Price', 'Neighborhood',\n",
       "       'Number of Living Units', 'Roof Cover', 'Rooms', 'Rooms2',\n",
       "       'Square Footage', 'Square Footage2', 'Story Height', 'Story Height2',\n",
       "       'Tax District', 'Total Appraisal Value', 'Year Built', 'Year Built2',\n",
       "       'Zone', 'Parcel ID', 'Land Use', 'Property Address', 'Suite/ Condo   #',\n",
       "       'Property City', 'Sale Date', 'Sale Price', 'Legal Reference',\n",
       "       'Sold As Vacant', 'Multiple Parcels Involved in Sale',\n",
       "       'Assessment Improvement Improved', 'Most Recent Sale Price Improved',\n",
       "       'Improvement Value Improved', 'Assessment Total Improved',\n",
       "       'Land Value Improved', 'Assessment Land Improved',\n",
       "       'Total Appraisal Value Improved', 'Square Footage Improved',\n",
       "       'Building Type Custom', 'Land Area Acres'],\n",
       "      dtype='object')"
      ]
     },
     "execution_count": 29,
     "metadata": {},
     "output_type": "execute_result"
    }
   ],
   "source": [
    "df1.columns"
   ]
  },
  {
   "cell_type": "code",
   "execution_count": 14,
   "metadata": {},
   "outputs": [],
   "source": [
    "#Creating new dataframe without duplicate entires\n",
    "df=df1.sort_values(by='Sale Date').drop_duplicates(subset='Map & Parcel', keep = 'last')\n",
    "#Dropping parcels that were involved in multi-parcel sales\n",
    "#Want to create a new column which is the mean sale price per square foot of a parcel in that neighborhood\n",
    "df['PPS']=df['Sale Price']/df['Square Footage Improved']\n",
    "df['PPS']=df['PPS'].replace(np.inf, np.nan)\n",
    "meanpps=df.groupby('Neighborhood')['PPS'].mean().to_frame().rename(columns={'PPS':'NeighborhoodPPS'})\n",
    "df=df.merge(meanpps, how='left', left_on = 'Neighborhood',right_index=True)\n",
    "df=df[df['Multiple Parcels Involved in Sale'] == 'No']\n",
    "#Testing the averaged assessment ratio idea.\n",
    "df['Assessment Ratio'] = df['Assessment Land Improved'] / df['Total Appraisal Value Improved']\n",
    "nbhdratio=df.groupby('Neighborhood')['Assessment Ratio'].mean().to_frame().rename(columns={'Assessment Ratio':'Nbhd Ratio'})\n",
    "df=df.merge(nbhdratio, how='left', left_on = 'Neighborhood',right_index=True)\n",
    "df['Month']= df['Sale Date'].dt.month\n",
    "df['Quarter'] = df['Sale Date'].dt.quarter\n",
    "df['Year'] = df['Sale Date'].dt.year\n",
    "#df = df[(df.Neighborhood != '9527') & (df.Neighborhood != '9026')]\n",
    "df['Building Grade']= df['Building Grade'].str.replace(r'\\w\\w\\w', '').dropna()\n",
    "df=df[df.PPS <= 1150]"
   ]
  },
  {
   "cell_type": "code",
   "execution_count": 18,
   "metadata": {},
   "outputs": [],
   "source": [
    "TYPEDICT = {'HIGHRISE APT': 'HRISE', 'APARTMENT': 'CONDO', 'HRISE CONDO': 'HRISE',\n",
    "            'RESD CONDO': 'CONDO', 'RW SING FAM': 'SINGLE FAM', 'SINGLE FAM': 'SINGLE FAM',\n",
    "            'RZ SING FAM': 'SINGLE FAM', 'RH SING FAM': 'SINGLE FAM',\n",
    "            'RY SING FAM': 'SINGLE FAM', 'MODULAR HOME': 'SINGLE FAM',\n",
    "            'SING FAM': 'SINGLE FAM', 'RESD TRIPLEX': 'PLEX', 'RESD QUADPLX': 'PLEX',\n",
    "            'R1 DUPLEX': 'PLEX', 'RES DUPLEX': 'PLEX', 'LODGE/FRAT\\'L': 'THIRD',\n",
    "            'CHURCH': 'THIRD', 'HEALTH CLUB': 'COMM', 'GROCERY/SMKT': 'COMM',\n",
    "            'RETAIL/SHPG': 'COMM', 'DAYCARE': 'COMM', 'MARKET': 'COMM',\n",
    "            'REST/BAR': 'COMM', 'OFFICE': 'OFFICE', 'WAREHOUSE': 'INDUSTRIAL',\n",
    "            'EQUIP SHED': 'INDUSTRIAL', 'SERV GARAGE': 'INDUSTRIAL', 'TRUCK TERM': 'INDUSTRIAL',\n",
    "            'ZERO LOT': 'VACANT', 'CAR WASH': 'COMM', 'MED OFC': 'OFFICE',\n",
    "            'LAUNDRY': 'COMM', 'AUDITORIUM': 'THIRD', 'BANK': 'COMM', 'BOWLING': 'COMM',\n",
    "            'BUSINESS CTR': 'COMM', 'CINEMA': 'COMM', 'CLUB/UNION': \"THIRD\",\n",
    "            \"COMM GRNHSE\": \"INDUSTRIAL\", 'WHSE RETAIL': 'COMM', 'ENG/RESEARCH': 'OFFICE',\n",
    "            'COUNTRY CLUB': 'THIRD', 'DEPT STORE': 'COMM', 'TENNIS': 'THIRD',\n",
    "            'WALKUP APT': 'CONDO', 'DRUG STORE': 'COMM', 'DISC STORE': 'COMM',\n",
    "            'ELDERLY HSG': 'CONDO', \"FUNERAL HM\": \"THIRD\", 'SALES SHOWRM': 'COMM',\n",
    "            'LUMBER': 'INDUSTRIAL', 'MANF PLANT': 'INDUSTRIAL', 'MAINT HANGER': 'INDUSTRIAL',\n",
    "            'MOTEL': 'COMM', 'MINI-LUBE': 'INDUSTRIAL', 'MINI-WAREHSE': 'INDUSTRIAL',\n",
    "            'FAST FOOD': 'COMM', 'HOTEL': 'COMM', 'NURSING HOME': 'CONDO', \"PARK'G GAR\": 'COMM',\n",
    "            'SERV STATION': 'COMM', 'INDOOR WP': 'COMM', 'HOSPITAL': 'THIRD', 'T-HANGER': 'INDUSTRIAL'\n",
    "            }\n",
    "\n",
    "df['Building Type Custom']=df['Building Type'].map(lambda x: TYPEDICT[x] if (x != '' and not pd.isnull(x)) else None)"
   ]
  },
  {
   "cell_type": "code",
   "execution_count": 20,
   "metadata": {},
   "outputs": [
    {
     "data": {
      "text/plain": [
       "SINGLE FAM    37989\n",
       "CONDO         13024\n",
       "VACANT         1229\n",
       "PLEX           1116\n",
       "HRISE           952\n",
       "COMM             21\n",
       "THIRD            19\n",
       "OFFICE            7\n",
       "INDUSTRIAL        2\n",
       "Name: Building Type Custom, dtype: int64"
      ]
     },
     "execution_count": 20,
     "metadata": {},
     "output_type": "execute_result"
    }
   ],
   "source": [
    "df['Building Type Custom'].value_counts()"
   ]
  },
  {
   "cell_type": "code",
   "execution_count": 248,
   "metadata": {},
   "outputs": [
    {
     "data": {
      "text/html": [
       "<div>\n",
       "<style scoped>\n",
       "    .dataframe tbody tr th:only-of-type {\n",
       "        vertical-align: middle;\n",
       "    }\n",
       "\n",
       "    .dataframe tbody tr th {\n",
       "        vertical-align: top;\n",
       "    }\n",
       "\n",
       "    .dataframe thead th {\n",
       "        text-align: right;\n",
       "    }\n",
       "</style>\n",
       "<table border=\"1\" class=\"dataframe\">\n",
       "  <thead>\n",
       "    <tr style=\"text-align: right;\">\n",
       "      <th></th>\n",
       "      <th>Location</th>\n",
       "      <th>Zone</th>\n",
       "      <th>Sale Price</th>\n",
       "      <th>PPS</th>\n",
       "      <th>Square Footage Improved</th>\n",
       "      <th>Building Type Custom</th>\n",
       "    </tr>\n",
       "  </thead>\n",
       "  <tbody>\n",
       "    <tr>\n",
       "      <th>176025</th>\n",
       "      <td>690 CANDLESTICK DR</td>\n",
       "      <td>1</td>\n",
       "      <td>49.0</td>\n",
       "      <td>0.027313</td>\n",
       "      <td>1794.0</td>\n",
       "      <td>SINGLE FAM</td>\n",
       "    </tr>\n",
       "    <tr>\n",
       "      <th>27056</th>\n",
       "      <td>1203 ALANDEE ST</td>\n",
       "      <td>7</td>\n",
       "      <td>50.0</td>\n",
       "      <td>0.044524</td>\n",
       "      <td>1123.0</td>\n",
       "      <td>SINGLE FAM</td>\n",
       "    </tr>\n",
       "    <tr>\n",
       "      <th>191004</th>\n",
       "      <td>5441 CAMELOT RD</td>\n",
       "      <td>2</td>\n",
       "      <td>10000.0</td>\n",
       "      <td>2.211411</td>\n",
       "      <td>4522.0</td>\n",
       "      <td>SINGLE FAM</td>\n",
       "    </tr>\n",
       "    <tr>\n",
       "      <th>239278</th>\n",
       "      <td>1013 SUMMERCREST CT</td>\n",
       "      <td>8</td>\n",
       "      <td>10000.0</td>\n",
       "      <td>4.108463</td>\n",
       "      <td>2434.0</td>\n",
       "      <td>SINGLE FAM</td>\n",
       "    </tr>\n",
       "    <tr>\n",
       "      <th>138891</th>\n",
       "      <td>64 VALERIA ST</td>\n",
       "      <td>1</td>\n",
       "      <td>5000.0</td>\n",
       "      <td>4.340278</td>\n",
       "      <td>1152.0</td>\n",
       "      <td>SINGLE FAM</td>\n",
       "    </tr>\n",
       "    <tr>\n",
       "      <th>117379</th>\n",
       "      <td>31 N HILL ST</td>\n",
       "      <td>1</td>\n",
       "      <td>10001.0</td>\n",
       "      <td>4.857212</td>\n",
       "      <td>2059.0</td>\n",
       "      <td>SINGLE FAM</td>\n",
       "    </tr>\n",
       "    <tr>\n",
       "      <th>241961</th>\n",
       "      <td>3703 EZELL RD</td>\n",
       "      <td>8</td>\n",
       "      <td>27500.0</td>\n",
       "      <td>6.202075</td>\n",
       "      <td>4434.0</td>\n",
       "      <td>PLEX</td>\n",
       "    </tr>\n",
       "    <tr>\n",
       "      <th>87022</th>\n",
       "      <td>5801 MACKIE PL</td>\n",
       "      <td>3</td>\n",
       "      <td>10000.0</td>\n",
       "      <td>6.635700</td>\n",
       "      <td>1507.0</td>\n",
       "      <td>SINGLE FAM</td>\n",
       "    </tr>\n",
       "    <tr>\n",
       "      <th>266262</th>\n",
       "      <td>6582 SUNNYWOOD DR</td>\n",
       "      <td>1</td>\n",
       "      <td>15000.0</td>\n",
       "      <td>6.934813</td>\n",
       "      <td>2163.0</td>\n",
       "      <td>SINGLE FAM</td>\n",
       "    </tr>\n",
       "    <tr>\n",
       "      <th>210028</th>\n",
       "      <td>4839 JONQUIL DR</td>\n",
       "      <td>1</td>\n",
       "      <td>30000.0</td>\n",
       "      <td>7.812500</td>\n",
       "      <td>3840.0</td>\n",
       "      <td>SINGLE FAM</td>\n",
       "    </tr>\n",
       "    <tr>\n",
       "      <th>244774</th>\n",
       "      <td>909 MULBERRY HILL PL</td>\n",
       "      <td>8</td>\n",
       "      <td>28000.0</td>\n",
       "      <td>8.158508</td>\n",
       "      <td>3432.0</td>\n",
       "      <td>SINGLE FAM</td>\n",
       "    </tr>\n",
       "    <tr>\n",
       "      <th>158357</th>\n",
       "      <td>270 TAMPA DR Unit E-1</td>\n",
       "      <td>1</td>\n",
       "      <td>9000.0</td>\n",
       "      <td>8.211679</td>\n",
       "      <td>1096.0</td>\n",
       "      <td>CONDO</td>\n",
       "    </tr>\n",
       "    <tr>\n",
       "      <th>241964</th>\n",
       "      <td>3707 EZELL RD</td>\n",
       "      <td>8</td>\n",
       "      <td>25500.0</td>\n",
       "      <td>8.799172</td>\n",
       "      <td>2898.0</td>\n",
       "      <td>SINGLE FAM</td>\n",
       "    </tr>\n",
       "    <tr>\n",
       "      <th>231682</th>\n",
       "      <td>800 POINT BREAK CIR S</td>\n",
       "      <td>8</td>\n",
       "      <td>13700.0</td>\n",
       "      <td>9.060847</td>\n",
       "      <td>1512.0</td>\n",
       "      <td>SINGLE FAM</td>\n",
       "    </tr>\n",
       "    <tr>\n",
       "      <th>182809</th>\n",
       "      <td>2817 CREEKVIEW DR</td>\n",
       "      <td>8</td>\n",
       "      <td>17500.0</td>\n",
       "      <td>9.157509</td>\n",
       "      <td>1911.0</td>\n",
       "      <td>SINGLE FAM</td>\n",
       "    </tr>\n",
       "  </tbody>\n",
       "</table>\n",
       "</div>"
      ],
      "text/plain": [
       "                     Location Zone  Sale Price       PPS  \\\n",
       "176025     690 CANDLESTICK DR    1        49.0  0.027313   \n",
       "27056         1203 ALANDEE ST    7        50.0  0.044524   \n",
       "191004        5441 CAMELOT RD    2     10000.0  2.211411   \n",
       "239278    1013 SUMMERCREST CT    8     10000.0  4.108463   \n",
       "138891          64 VALERIA ST    1      5000.0  4.340278   \n",
       "117379           31 N HILL ST    1     10001.0  4.857212   \n",
       "241961          3703 EZELL RD    8     27500.0  6.202075   \n",
       "87022          5801 MACKIE PL    3     10000.0  6.635700   \n",
       "266262      6582 SUNNYWOOD DR    1     15000.0  6.934813   \n",
       "210028        4839 JONQUIL DR    1     30000.0  7.812500   \n",
       "244774   909 MULBERRY HILL PL    8     28000.0  8.158508   \n",
       "158357  270 TAMPA DR Unit E-1    1      9000.0  8.211679   \n",
       "241964          3707 EZELL RD    8     25500.0  8.799172   \n",
       "231682  800 POINT BREAK CIR S    8     13700.0  9.060847   \n",
       "182809      2817 CREEKVIEW DR    8     17500.0  9.157509   \n",
       "\n",
       "        Square Footage Improved Building Type Custom  \n",
       "176025                   1794.0           SINGLE FAM  \n",
       "27056                    1123.0           SINGLE FAM  \n",
       "191004                   4522.0           SINGLE FAM  \n",
       "239278                   2434.0           SINGLE FAM  \n",
       "138891                   1152.0           SINGLE FAM  \n",
       "117379                   2059.0           SINGLE FAM  \n",
       "241961                   4434.0                 PLEX  \n",
       "87022                    1507.0           SINGLE FAM  \n",
       "266262                   2163.0           SINGLE FAM  \n",
       "210028                   3840.0           SINGLE FAM  \n",
       "244774                   3432.0           SINGLE FAM  \n",
       "158357                   1096.0                CONDO  \n",
       "241964                   2898.0           SINGLE FAM  \n",
       "231682                   1512.0           SINGLE FAM  \n",
       "182809                   1911.0           SINGLE FAM  "
      ]
     },
     "execution_count": 248,
     "metadata": {},
     "output_type": "execute_result"
    }
   ],
   "source": [
    "df.nsmallest(15, 'PPS')[['Location', 'Zone', 'Sale Price', 'PPS', 'Square Footage Improved', 'Building Type Custom']]"
   ]
  },
  {
   "cell_type": "code",
   "execution_count": 21,
   "metadata": {},
   "outputs": [],
   "source": [
    "df.PPS=df.PPS.replace(np.inf, np.nan)"
   ]
  },
  {
   "cell_type": "code",
   "execution_count": 250,
   "metadata": {},
   "outputs": [
    {
     "data": {
      "text/plain": [
       "<matplotlib.axes._subplots.AxesSubplot at 0x2742cc1f438>"
      ]
     },
     "execution_count": 250,
     "metadata": {},
     "output_type": "execute_result"
    },
    {
     "data": {
      "image/png": "[encoded data removed]",
      "text/plain": [
       "<Figure size 432x288 with 1 Axes>"
      ]
     },
     "metadata": {
      "needs_background": "light"
     },
     "output_type": "display_data"
    }
   ],
   "source": [
    "sns.distplot(df['PPS'].dropna())"
   ]
  },
  {
   "cell_type": "code",
   "execution_count": 22,
   "metadata": {},
   "outputs": [
    {
     "data": {
      "text/plain": [
       "<matplotlib.axes._subplots.AxesSubplot at 0x199fc53ca90>"
      ]
     },
     "execution_count": 22,
     "metadata": {},
     "output_type": "execute_result"
    },
    {
     "data": {
      "image/png": "[encoded data removed]",
      "text/plain": [
       "<Figure size 432x288 with 1 Axes>"
      ]
     },
     "metadata": {
      "needs_background": "light"
     },
     "output_type": "display_data"
    }
   ],
   "source": [
    "df['Log Assessment']= df['Assessment Land Improved'].map(lambda x: np.log(x) if (pd.notnull(x) and x != 0) else None)\n",
    "df['Log Assessment']=df['Log Assessment'].replace(np.inf, np.nan)\n",
    "sns.distplot(df['Log Assessment'].dropna())"
   ]
  },
  {
   "cell_type": "code",
   "execution_count": 43,
   "metadata": {},
   "outputs": [
    {
     "data": {
      "text/plain": [
       "<matplotlib.axes._subplots.AxesSubplot at 0x274333bb080>"
      ]
     },
     "execution_count": 43,
     "metadata": {},
     "output_type": "execute_result"
    },
    {
     "data": {
      "image/png": "[encoded data removed]",
      "text/plain": [
       "<Figure size 432x288 with 1 Axes>"
      ]
     },
     "metadata": {
      "needs_background": "light"
     },
     "output_type": "display_data"
    }
   ],
   "source": [
    "sns.distplot(df['Fixtures'].dropna())"
   ]
  },
  {
   "cell_type": "code",
   "execution_count": 23,
   "metadata": {},
   "outputs": [
    {
     "data": {
      "text/plain": [
       "<matplotlib.axes._subplots.AxesSubplot at 0x199fa9089b0>"
      ]
     },
     "execution_count": 23,
     "metadata": {},
     "output_type": "execute_result"
    },
    {
     "data": {
      "image/png": "[encoded data removed]",
      "text/plain": [
       "<Figure size 432x288 with 1 Axes>"
      ]
     },
     "metadata": {
      "needs_background": "light"
     },
     "output_type": "display_data"
    }
   ],
   "source": [
    "df['Log Fixtures']= df['Fixtures'].map(lambda x: np.log(x) if (pd.notnull(x) and x != 0) else None)\n",
    "df['Log Fixtures']=df['Log Fixtures'].replace(np.inf, np.nan)\n",
    "sns.distplot(df['Log Fixtures'].dropna())"
   ]
  },
  {
   "cell_type": "code",
   "execution_count": 12,
   "metadata": {},
   "outputs": [
    {
     "data": {
      "text/plain": [
       "0.900    14.0\n",
       "0.950    16.0\n",
       "0.995    24.0\n",
       "Name: Fixtures, dtype: float64"
      ]
     },
     "execution_count": 12,
     "metadata": {},
     "output_type": "execute_result"
    }
   ],
   "source": [
    "df['Fixtures'].quantile([.9,.95,.995])"
   ]
  },
  {
   "cell_type": "code",
   "execution_count": null,
   "metadata": {},
   "outputs": [],
   "source": [
    "#df=df[df['Fixtures']<23]"
   ]
  },
  {
   "cell_type": "code",
   "execution_count": 25,
   "metadata": {},
   "outputs": [
    {
     "data": {
      "text/plain": [
       "83.41484485663136"
      ]
     },
     "execution_count": 25,
     "metadata": {},
     "output_type": "execute_result"
    }
   ],
   "source": [
    "np.std(df.PPS)"
   ]
  },
  {
   "cell_type": "code",
   "execution_count": 24,
   "metadata": {},
   "outputs": [
    {
     "data": {
      "text/plain": [
       "<matplotlib.axes._subplots.AxesSubplot at 0x199ffeaef60>"
      ]
     },
     "execution_count": 24,
     "metadata": {},
     "output_type": "execute_result"
    },
    {
     "data": {
      "image/png": "[encoded data removed]",
      "text/plain": [
       "<Figure size 432x288 with 1 Axes>"
      ]
     },
     "metadata": {
      "needs_background": "light"
     },
     "output_type": "display_data"
    }
   ],
   "source": [
    "df['Log SqFt']= df['Square Footage Improved'].map(lambda x: np.log(x) if (pd.notnull(x) and x != 0) else None)\n",
    "df['Log SqFt']=df['Log SqFt'].replace(np.inf, np.nan)\n",
    "sns.distplot(df['Log SqFt'].dropna())"
   ]
  },
  {
   "cell_type": "code",
   "execution_count": 26,
   "metadata": {},
   "outputs": [
    {
     "data": {
      "text/plain": [
       "<matplotlib.axes._subplots.AxesSubplot at 0x199f4083ac8>"
      ]
     },
     "execution_count": 26,
     "metadata": {},
     "output_type": "execute_result"
    },
    {
     "data": {
      "image/png": "[encoded data removed]",
      "text/plain": [
       "<Figure size 432x288 with 1 Axes>"
      ]
     },
     "metadata": {
      "needs_background": "light"
     },
     "output_type": "display_data"
    }
   ],
   "source": [
    "df['Log PPS']= df['PPS'].map(lambda x: np.log(x) if (pd.notnull(x) and x != 0) else None)\n",
    "df['Log PPS']=df['Log PPS'].replace(np.inf, np.nan)\n",
    "sns.distplot(df['Log PPS'].dropna())"
   ]
  },
  {
   "cell_type": "code",
   "execution_count": 27,
   "metadata": {},
   "outputs": [
    {
     "data": {
      "text/plain": [
       "<matplotlib.axes._subplots.AxesSubplot at 0x199fddbde48>"
      ]
     },
     "execution_count": 27,
     "metadata": {},
     "output_type": "execute_result"
    },
    {
     "data": {
      "image/png": "[encoded data removed]",
      "text/plain": [
       "<Figure size 432x288 with 1 Axes>"
      ]
     },
     "metadata": {
      "needs_background": "light"
     },
     "output_type": "display_data"
    }
   ],
   "source": [
    "df['Log Land']= df['Land Area Acres'].map(lambda x: np.log(x) if (pd.notnull(x) and x != 0) else None)\n",
    "\n",
    "sns.distplot(df['Log Land'].dropna())"
   ]
  },
  {
   "cell_type": "code",
   "execution_count": 28,
   "metadata": {},
   "outputs": [],
   "source": [
    "from sklearn.metrics import mean_squared_error as MSE\n",
    "from sklearn.tree import DecisionTreeRegressor as DTR\n",
    "from sklearn.model_selection import train_test_split"
   ]
  },
  {
   "cell_type": "code",
   "execution_count": 381,
   "metadata": {},
   "outputs": [
    {
     "ename": "KeyError",
     "evalue": "'Log Land'",
     "output_type": "error",
     "traceback": [
      "\u001b[1;31m---------------------------------------------------------------------------\u001b[0m",
      "\u001b[1;31mKeyError\u001b[0m                                  Traceback (most recent call last)",
      "\u001b[1;32m~\\Anaconda3\\lib\\site-packages\\pandas\\core\\indexes\\base.py\u001b[0m in \u001b[0;36mget_loc\u001b[1;34m(self, key, method, tolerance)\u001b[0m\n\u001b[0;32m   3077\u001b[0m             \u001b[1;32mtry\u001b[0m\u001b[1;33m:\u001b[0m\u001b[1;33m\u001b[0m\u001b[1;33m\u001b[0m\u001b[0m\n\u001b[1;32m-> 3078\u001b[1;33m                 \u001b[1;32mreturn\u001b[0m \u001b[0mself\u001b[0m\u001b[1;33m.\u001b[0m\u001b[0m_engine\u001b[0m\u001b[1;33m.\u001b[0m\u001b[0mget_loc\u001b[0m\u001b[1;33m(\u001b[0m\u001b[0mkey\u001b[0m\u001b[1;33m)\u001b[0m\u001b[1;33m\u001b[0m\u001b[1;33m\u001b[0m\u001b[0m\n\u001b[0m\u001b[0;32m   3079\u001b[0m             \u001b[1;32mexcept\u001b[0m \u001b[0mKeyError\u001b[0m\u001b[1;33m:\u001b[0m\u001b[1;33m\u001b[0m\u001b[1;33m\u001b[0m\u001b[0m\n",
      "\u001b[1;32mpandas\\_libs\\index.pyx\u001b[0m in \u001b[0;36mpandas._libs.index.IndexEngine.get_loc\u001b[1;34m()\u001b[0m\n",
      "\u001b[1;32mpandas\\_libs\\index.pyx\u001b[0m in \u001b[0;36mpandas._libs.index.IndexEngine.get_loc\u001b[1;34m()\u001b[0m\n",
      "\u001b[1;32mpandas\\_libs\\hashtable_class_helper.pxi\u001b[0m in \u001b[0;36mpandas._libs.hashtable.PyObjectHashTable.get_item\u001b[1;34m()\u001b[0m\n",
      "\u001b[1;32mpandas\\_libs\\hashtable_class_helper.pxi\u001b[0m in \u001b[0;36mpandas._libs.hashtable.PyObjectHashTable.get_item\u001b[1;34m()\u001b[0m\n",
      "\u001b[1;31mKeyError\u001b[0m: 'Log Land'",
      "\nDuring handling of the above exception, another exception occurred:\n",
      "\u001b[1;31mKeyError\u001b[0m                                  Traceback (most recent call last)",
      "\u001b[1;32m<ipython-input-381-f4b1cf31cbf0>\u001b[0m in \u001b[0;36m<module>\u001b[1;34m\u001b[0m\n\u001b[1;32m----> 1\u001b[1;33m \u001b[0mmed\u001b[0m \u001b[1;33m=\u001b[0m \u001b[0mdf2\u001b[0m\u001b[1;33m[\u001b[0m\u001b[1;34m'Log Land'\u001b[0m\u001b[1;33m]\u001b[0m\u001b[1;33m.\u001b[0m\u001b[0mmedian\u001b[0m\u001b[1;33m(\u001b[0m\u001b[1;33m)\u001b[0m\u001b[1;33m\u001b[0m\u001b[1;33m\u001b[0m\u001b[0m\n\u001b[0m",
      "\u001b[1;32m~\\Anaconda3\\lib\\site-packages\\pandas\\core\\frame.py\u001b[0m in \u001b[0;36m__getitem__\u001b[1;34m(self, key)\u001b[0m\n\u001b[0;32m   2686\u001b[0m             \u001b[1;32mreturn\u001b[0m \u001b[0mself\u001b[0m\u001b[1;33m.\u001b[0m\u001b[0m_getitem_multilevel\u001b[0m\u001b[1;33m(\u001b[0m\u001b[0mkey\u001b[0m\u001b[1;33m)\u001b[0m\u001b[1;33m\u001b[0m\u001b[1;33m\u001b[0m\u001b[0m\n\u001b[0;32m   2687\u001b[0m         \u001b[1;32melse\u001b[0m\u001b[1;33m:\u001b[0m\u001b[1;33m\u001b[0m\u001b[1;33m\u001b[0m\u001b[0m\n\u001b[1;32m-> 2688\u001b[1;33m             \u001b[1;32mreturn\u001b[0m \u001b[0mself\u001b[0m\u001b[1;33m.\u001b[0m\u001b[0m_getitem_column\u001b[0m\u001b[1;33m(\u001b[0m\u001b[0mkey\u001b[0m\u001b[1;33m)\u001b[0m\u001b[1;33m\u001b[0m\u001b[1;33m\u001b[0m\u001b[0m\n\u001b[0m\u001b[0;32m   2689\u001b[0m \u001b[1;33m\u001b[0m\u001b[0m\n\u001b[0;32m   2690\u001b[0m     \u001b[1;32mdef\u001b[0m \u001b[0m_getitem_column\u001b[0m\u001b[1;33m(\u001b[0m\u001b[0mself\u001b[0m\u001b[1;33m,\u001b[0m \u001b[0mkey\u001b[0m\u001b[1;33m)\u001b[0m\u001b[1;33m:\u001b[0m\u001b[1;33m\u001b[0m\u001b[1;33m\u001b[0m\u001b[0m\n",
      "\u001b[1;32m~\\Anaconda3\\lib\\site-packages\\pandas\\core\\frame.py\u001b[0m in \u001b[0;36m_getitem_column\u001b[1;34m(self, key)\u001b[0m\n\u001b[0;32m   2693\u001b[0m         \u001b[1;31m# get column\u001b[0m\u001b[1;33m\u001b[0m\u001b[1;33m\u001b[0m\u001b[1;33m\u001b[0m\u001b[0m\n\u001b[0;32m   2694\u001b[0m         \u001b[1;32mif\u001b[0m \u001b[0mself\u001b[0m\u001b[1;33m.\u001b[0m\u001b[0mcolumns\u001b[0m\u001b[1;33m.\u001b[0m\u001b[0mis_unique\u001b[0m\u001b[1;33m:\u001b[0m\u001b[1;33m\u001b[0m\u001b[1;33m\u001b[0m\u001b[0m\n\u001b[1;32m-> 2695\u001b[1;33m             \u001b[1;32mreturn\u001b[0m \u001b[0mself\u001b[0m\u001b[1;33m.\u001b[0m\u001b[0m_get_item_cache\u001b[0m\u001b[1;33m(\u001b[0m\u001b[0mkey\u001b[0m\u001b[1;33m)\u001b[0m\u001b[1;33m\u001b[0m\u001b[1;33m\u001b[0m\u001b[0m\n\u001b[0m\u001b[0;32m   2696\u001b[0m \u001b[1;33m\u001b[0m\u001b[0m\n\u001b[0;32m   2697\u001b[0m         \u001b[1;31m# duplicate columns & possible reduce dimensionality\u001b[0m\u001b[1;33m\u001b[0m\u001b[1;33m\u001b[0m\u001b[1;33m\u001b[0m\u001b[0m\n",
      "\u001b[1;32m~\\Anaconda3\\lib\\site-packages\\pandas\\core\\generic.py\u001b[0m in \u001b[0;36m_get_item_cache\u001b[1;34m(self, item)\u001b[0m\n\u001b[0;32m   2487\u001b[0m         \u001b[0mres\u001b[0m \u001b[1;33m=\u001b[0m \u001b[0mcache\u001b[0m\u001b[1;33m.\u001b[0m\u001b[0mget\u001b[0m\u001b[1;33m(\u001b[0m\u001b[0mitem\u001b[0m\u001b[1;33m)\u001b[0m\u001b[1;33m\u001b[0m\u001b[1;33m\u001b[0m\u001b[0m\n\u001b[0;32m   2488\u001b[0m         \u001b[1;32mif\u001b[0m \u001b[0mres\u001b[0m \u001b[1;32mis\u001b[0m \u001b[1;32mNone\u001b[0m\u001b[1;33m:\u001b[0m\u001b[1;33m\u001b[0m\u001b[1;33m\u001b[0m\u001b[0m\n\u001b[1;32m-> 2489\u001b[1;33m             \u001b[0mvalues\u001b[0m \u001b[1;33m=\u001b[0m \u001b[0mself\u001b[0m\u001b[1;33m.\u001b[0m\u001b[0m_data\u001b[0m\u001b[1;33m.\u001b[0m\u001b[0mget\u001b[0m\u001b[1;33m(\u001b[0m\u001b[0mitem\u001b[0m\u001b[1;33m)\u001b[0m\u001b[1;33m\u001b[0m\u001b[1;33m\u001b[0m\u001b[0m\n\u001b[0m\u001b[0;32m   2490\u001b[0m             \u001b[0mres\u001b[0m \u001b[1;33m=\u001b[0m \u001b[0mself\u001b[0m\u001b[1;33m.\u001b[0m\u001b[0m_box_item_values\u001b[0m\u001b[1;33m(\u001b[0m\u001b[0mitem\u001b[0m\u001b[1;33m,\u001b[0m \u001b[0mvalues\u001b[0m\u001b[1;33m)\u001b[0m\u001b[1;33m\u001b[0m\u001b[1;33m\u001b[0m\u001b[0m\n\u001b[0;32m   2491\u001b[0m             \u001b[0mcache\u001b[0m\u001b[1;33m[\u001b[0m\u001b[0mitem\u001b[0m\u001b[1;33m]\u001b[0m \u001b[1;33m=\u001b[0m \u001b[0mres\u001b[0m\u001b[1;33m\u001b[0m\u001b[1;33m\u001b[0m\u001b[0m\n",
      "\u001b[1;32m~\\Anaconda3\\lib\\site-packages\\pandas\\core\\internals.py\u001b[0m in \u001b[0;36mget\u001b[1;34m(self, item, fastpath)\u001b[0m\n\u001b[0;32m   4113\u001b[0m \u001b[1;33m\u001b[0m\u001b[0m\n\u001b[0;32m   4114\u001b[0m             \u001b[1;32mif\u001b[0m \u001b[1;32mnot\u001b[0m \u001b[0misna\u001b[0m\u001b[1;33m(\u001b[0m\u001b[0mitem\u001b[0m\u001b[1;33m)\u001b[0m\u001b[1;33m:\u001b[0m\u001b[1;33m\u001b[0m\u001b[1;33m\u001b[0m\u001b[0m\n\u001b[1;32m-> 4115\u001b[1;33m                 \u001b[0mloc\u001b[0m \u001b[1;33m=\u001b[0m \u001b[0mself\u001b[0m\u001b[1;33m.\u001b[0m\u001b[0mitems\u001b[0m\u001b[1;33m.\u001b[0m\u001b[0mget_loc\u001b[0m\u001b[1;33m(\u001b[0m\u001b[0mitem\u001b[0m\u001b[1;33m)\u001b[0m\u001b[1;33m\u001b[0m\u001b[1;33m\u001b[0m\u001b[0m\n\u001b[0m\u001b[0;32m   4116\u001b[0m             \u001b[1;32melse\u001b[0m\u001b[1;33m:\u001b[0m\u001b[1;33m\u001b[0m\u001b[1;33m\u001b[0m\u001b[0m\n\u001b[0;32m   4117\u001b[0m                 \u001b[0mindexer\u001b[0m \u001b[1;33m=\u001b[0m \u001b[0mnp\u001b[0m\u001b[1;33m.\u001b[0m\u001b[0marange\u001b[0m\u001b[1;33m(\u001b[0m\u001b[0mlen\u001b[0m\u001b[1;33m(\u001b[0m\u001b[0mself\u001b[0m\u001b[1;33m.\u001b[0m\u001b[0mitems\u001b[0m\u001b[1;33m)\u001b[0m\u001b[1;33m)\u001b[0m\u001b[1;33m[\u001b[0m\u001b[0misna\u001b[0m\u001b[1;33m(\u001b[0m\u001b[0mself\u001b[0m\u001b[1;33m.\u001b[0m\u001b[0mitems\u001b[0m\u001b[1;33m)\u001b[0m\u001b[1;33m]\u001b[0m\u001b[1;33m\u001b[0m\u001b[1;33m\u001b[0m\u001b[0m\n",
      "\u001b[1;32m~\\Anaconda3\\lib\\site-packages\\pandas\\core\\indexes\\base.py\u001b[0m in \u001b[0;36mget_loc\u001b[1;34m(self, key, method, tolerance)\u001b[0m\n\u001b[0;32m   3078\u001b[0m                 \u001b[1;32mreturn\u001b[0m \u001b[0mself\u001b[0m\u001b[1;33m.\u001b[0m\u001b[0m_engine\u001b[0m\u001b[1;33m.\u001b[0m\u001b[0mget_loc\u001b[0m\u001b[1;33m(\u001b[0m\u001b[0mkey\u001b[0m\u001b[1;33m)\u001b[0m\u001b[1;33m\u001b[0m\u001b[1;33m\u001b[0m\u001b[0m\n\u001b[0;32m   3079\u001b[0m             \u001b[1;32mexcept\u001b[0m \u001b[0mKeyError\u001b[0m\u001b[1;33m:\u001b[0m\u001b[1;33m\u001b[0m\u001b[1;33m\u001b[0m\u001b[0m\n\u001b[1;32m-> 3080\u001b[1;33m                 \u001b[1;32mreturn\u001b[0m \u001b[0mself\u001b[0m\u001b[1;33m.\u001b[0m\u001b[0m_engine\u001b[0m\u001b[1;33m.\u001b[0m\u001b[0mget_loc\u001b[0m\u001b[1;33m(\u001b[0m\u001b[0mself\u001b[0m\u001b[1;33m.\u001b[0m\u001b[0m_maybe_cast_indexer\u001b[0m\u001b[1;33m(\u001b[0m\u001b[0mkey\u001b[0m\u001b[1;33m)\u001b[0m\u001b[1;33m)\u001b[0m\u001b[1;33m\u001b[0m\u001b[1;33m\u001b[0m\u001b[0m\n\u001b[0m\u001b[0;32m   3081\u001b[0m \u001b[1;33m\u001b[0m\u001b[0m\n\u001b[0;32m   3082\u001b[0m         \u001b[0mindexer\u001b[0m \u001b[1;33m=\u001b[0m \u001b[0mself\u001b[0m\u001b[1;33m.\u001b[0m\u001b[0mget_indexer\u001b[0m\u001b[1;33m(\u001b[0m\u001b[1;33m[\u001b[0m\u001b[0mkey\u001b[0m\u001b[1;33m]\u001b[0m\u001b[1;33m,\u001b[0m \u001b[0mmethod\u001b[0m\u001b[1;33m=\u001b[0m\u001b[0mmethod\u001b[0m\u001b[1;33m,\u001b[0m \u001b[0mtolerance\u001b[0m\u001b[1;33m=\u001b[0m\u001b[0mtolerance\u001b[0m\u001b[1;33m)\u001b[0m\u001b[1;33m\u001b[0m\u001b[1;33m\u001b[0m\u001b[0m\n",
      "\u001b[1;32mpandas\\_libs\\index.pyx\u001b[0m in \u001b[0;36mpandas._libs.index.IndexEngine.get_loc\u001b[1;34m()\u001b[0m\n",
      "\u001b[1;32mpandas\\_libs\\index.pyx\u001b[0m in \u001b[0;36mpandas._libs.index.IndexEngine.get_loc\u001b[1;34m()\u001b[0m\n",
      "\u001b[1;32mpandas\\_libs\\hashtable_class_helper.pxi\u001b[0m in \u001b[0;36mpandas._libs.hashtable.PyObjectHashTable.get_item\u001b[1;34m()\u001b[0m\n",
      "\u001b[1;32mpandas\\_libs\\hashtable_class_helper.pxi\u001b[0m in \u001b[0;36mpandas._libs.hashtable.PyObjectHashTable.get_item\u001b[1;34m()\u001b[0m\n",
      "\u001b[1;31mKeyError\u001b[0m: 'Log Land'"
     ]
    }
   ],
   "source": [
    "med = df2['Log Land'].median()"
   ]
  },
  {
   "cell_type": "code",
   "execution_count": 29,
   "metadata": {},
   "outputs": [],
   "source": [
    "df.Quarter= df.Quarter.map(lambda x: str(x) if pd.notnull(x) else '')\n",
    "df.Year= df.Year.map(lambda x: str(x) if pd.notnull(x) else '')"
   ]
  },
  {
   "cell_type": "code",
   "execution_count": 72,
   "metadata": {},
   "outputs": [],
   "source": [
    "df2 = df[['Exterior Wall','Log SqFt','Log Fixtures','Building Type Custom','Building Grade','Year','Log Assessment','NeighborhoodPPS', 'PPS', 'Quarter']]\n",
    "# med = df2['Log Land'].median()\n",
    "# df2['Log Land'].fillna(med, inplace=True)\n",
    "df2=df2.dropna()"
   ]
  },
  {
   "cell_type": "code",
   "execution_count": 74,
   "metadata": {},
   "outputs": [],
   "source": [
    "X= pd.get_dummies(df2[['Exterior Wall','Year','NeighborhoodPPS','Log Assessment','Log Fixtures','Building Grade','Building Type Custom','Log SqFt', 'Quarter']])\n",
    "y=df2['PPS']\n",
    "X_train, X_test, y_train, y_test = train_test_split(X, y, test_size=0.28, random_state=42)"
   ]
  },
  {
   "cell_type": "code",
   "execution_count": 75,
   "metadata": {},
   "outputs": [
    {
     "name": "stdout",
     "output_type": "stream",
     "text": [
      "(54359, 78)\n",
      "(54242, 10)\n"
     ]
    }
   ],
   "source": [
    "print(df.shape)\n",
    "print(df2.shape)"
   ]
  },
  {
   "cell_type": "code",
   "execution_count": 202,
   "metadata": {},
   "outputs": [],
   "source": []
  },
  {
   "cell_type": "code",
   "execution_count": 76,
   "metadata": {},
   "outputs": [
    {
     "name": "stdout",
     "output_type": "stream",
     "text": [
      "84.79181923150843\n"
     ]
    }
   ],
   "source": [
    "from sklearn.dummy import DummyRegressor as DR\n",
    "model = DR(strategy='median')\n",
    "dr=model.fit(X_train, y_train)\n",
    "y_pred= dr.predict(X_test)\n",
    "# print(MSE(np.exp(y_pred), np.exp(y_test))**0.5)\n",
    "print(MSE(y_pred, y_test)**0.5)"
   ]
  },
  {
   "cell_type": "code",
   "execution_count": 77,
   "metadata": {},
   "outputs": [
    {
     "name": "stdout",
     "output_type": "stream",
     "text": [
      "46.76169211777424\n"
     ]
    }
   ],
   "source": [
    "model = DTR()\n",
    "dtr=model.fit(X_train, y_train)\n",
    "y_pred= dtr.predict(X_test)\n",
    "# print(MSE(np.exp(y_pred), np.exp(y_test))**0.5)\n",
    "print(MSE(y_pred, y_test)**0.5)"
   ]
  },
  {
   "cell_type": "code",
   "execution_count": 78,
   "metadata": {},
   "outputs": [
    {
     "name": "stderr",
     "output_type": "stream",
     "text": [
      "C:\\Users\\alehe\\Anaconda3\\lib\\site-packages\\sklearn\\ensemble\\forest.py:245: FutureWarning: The default value of n_estimators will change from 10 in version 0.20 to 100 in 0.22.\n",
      "  \"10 in version 0.20 to 100 in 0.22.\", FutureWarning)\n"
     ]
    },
    {
     "name": "stdout",
     "output_type": "stream",
     "text": [
      "35.884458688904836\n"
     ]
    }
   ],
   "source": [
    "from sklearn.ensemble import RandomForestRegressor as RFR\n",
    "model = RFR(random_state=42)\n",
    "rfr=model.fit(X_train,y_train)\n",
    "y_pred=rfr.predict(X_test)\n",
    "# print(MSE(np.exp(y_pred), np.exp(y_test))**0.5)\n",
    "print(MSE(y_pred, y_test)**0.5)"
   ]
  },
  {
   "cell_type": "code",
   "execution_count": 223,
   "metadata": {},
   "outputs": [
    {
     "name": "stdout",
     "output_type": "stream",
     "text": [
      "Fitting 3 folds for each of 1 candidates, totalling 3 fits\n"
     ]
    },
    {
     "name": "stderr",
     "output_type": "stream",
     "text": [
      "[Parallel(n_jobs=-1)]: Using backend LokyBackend with 4 concurrent workers.\n",
      "[Parallel(n_jobs=-1)]: Done   3 out of   3 | elapsed:  1.3min finished\n"
     ]
    }
   ],
   "source": [
    "from sklearn.model_selection import GridSearchCV\n",
    "params={}\n",
    "rfgrid = GridSearchCV(estimator = model,param_grid=params, cv = 3, verbose=2, n_jobs = -1)\n",
    "rf_r = rfgrid.fit(X, y)"
   ]
  },
  {
   "cell_type": "code",
   "execution_count": 225,
   "metadata": {},
   "outputs": [
    {
     "data": {
      "text/plain": [
       "0.5316834751375379"
      ]
     },
     "execution_count": 225,
     "metadata": {},
     "output_type": "execute_result"
    }
   ],
   "source": [
    "rf_r.best_score_"
   ]
  },
  {
   "cell_type": "code",
   "execution_count": 227,
   "metadata": {},
   "outputs": [
    {
     "data": {
      "text/plain": [
       "array([0.54473921, 0.62245412, 0.66817821, 0.66147927, 0.57945044,\n",
       "       0.6063188 , 0.56401164])"
      ]
     },
     "execution_count": 227,
     "metadata": {},
     "output_type": "execute_result"
    }
   ],
   "source": [
    "from sklearn.model_selection import cross_val_score\n",
    "cross_val_score(estimator=model, X=X, y=y, cv=7, n_jobs=4)"
   ]
  },
  {
   "cell_type": "code",
   "execution_count": 80,
   "metadata": {},
   "outputs": [
    {
     "name": "stdout",
     "output_type": "stream",
     "text": [
      "33.68024098190987\n"
     ]
    }
   ],
   "source": [
    "from xgboost import XGBRegressor as XGBR\n",
    "\n",
    "model = XGBR(colsample_bytree=0.4, gamma=0, learning_rate=0.07, \n",
    "             max_depth=5, min_child_weight=1.5, n_estimators=700,                                                                    \n",
    "             reg_alpha=0.75, reg_lambda=0.45, subsample=0.6, seed=42)\n",
    "\n",
    "xgbr=model.fit(X_train,y_train)\n",
    "y_predxg=xgbr.predict(X_test)\n",
    "# print(MSE(np.exp(y_pred), np.exp(y_test))**0.5)\n",
    "print(MSE(y_predxg, y_test)**0.5)"
   ]
  },
  {
   "cell_type": "code",
   "execution_count": 79,
   "metadata": {},
   "outputs": [
    {
     "name": "stdout",
     "output_type": "stream",
     "text": [
      "33.62173458392949\n"
     ]
    }
   ],
   "source": [
    "import lightgbm as lgb\n",
    "params={}\n",
    "d_train = lgb.Dataset(X_train, label=y_train)\n",
    "clf= lgb.train(params,d_train, 500)\n",
    "y_pred = clf.predict(X_test)\n",
    "print(MSE(y_pred, y_test)**0.5)"
   ]
  },
  {
   "cell_type": "code",
   "execution_count": null,
   "metadata": {},
   "outputs": [],
   "source": [
    "#Best score so far\n",
    "colsample_bytree=0.4, gamma=0, learning_rate=0.07, \n",
    "             max_depth=5, min_child_weight=1.5, n_estimators=2000,                                                                    \n",
    "             reg_alpha=0.75, reg_lambda=0.45, subsample=0.6, seed=42"
   ]
  },
  {
   "cell_type": "markdown",
   "metadata": {},
   "source": [
    "### GridSearchCV didn't get as good results as untuned RandomForest."
   ]
  },
  {
   "cell_type": "code",
   "execution_count": null,
   "metadata": {},
   "outputs": [],
   "source": [
    "# Number of trees in random forest\n",
    "n_estimators = [100,150]\n",
    "# Number of features to consider at every split\n",
    "max_features = ['auto', 'sqrt']\n",
    "# Maximum number of levels in tree\n",
    "max_depth = [6,7,8]\n",
    "# Minimum number of samples required to split a node\n",
    "min_samples_split = [2,3,4]\n",
    "# Minimum number of samples required at each leaf node\n",
    "min_samples_leaf = [1,2,3]\n",
    "\n",
    "random_grid = {'n_estimators': n_estimators,\n",
    "#                'max_features': max_features,\n",
    "               'max_depth': max_depth,\n",
    "               'min_samples_split': min_samples_split,\n",
    "               'min_samples_leaf': min_samples_leaf,\n",
    "               }"
   ]
  },
  {
   "cell_type": "code",
   "execution_count": 66,
   "metadata": {},
   "outputs": [
    {
     "ename": "TypeError",
     "evalue": "estimator should be an estimator implementing 'fit' method, <lightgbm.basic.Booster object at 0x00000199804EA5F8> was passed",
     "output_type": "error",
     "traceback": [
      "\u001b[1;31m---------------------------------------------------------------------------\u001b[0m",
      "\u001b[1;31mTypeError\u001b[0m                                 Traceback (most recent call last)",
      "\u001b[1;32m<ipython-input-66-ef9e90e96b7a>\u001b[0m in \u001b[0;36m<module>\u001b[1;34m\u001b[0m\n\u001b[0;32m      2\u001b[0m \u001b[0mrfgrid\u001b[0m \u001b[1;33m=\u001b[0m \u001b[0mGridSearchCV\u001b[0m\u001b[1;33m(\u001b[0m\u001b[0mestimator\u001b[0m \u001b[1;33m=\u001b[0m \u001b[0mclf\u001b[0m\u001b[1;33m,\u001b[0m \u001b[0mparam_grid\u001b[0m \u001b[1;33m=\u001b[0m \u001b[0mparams\u001b[0m\u001b[1;33m,\u001b[0m \u001b[0mcv\u001b[0m \u001b[1;33m=\u001b[0m \u001b[1;36m5\u001b[0m\u001b[1;33m,\u001b[0m \u001b[0mverbose\u001b[0m\u001b[1;33m=\u001b[0m\u001b[1;36m2\u001b[0m\u001b[1;33m,\u001b[0m \u001b[0mn_jobs\u001b[0m \u001b[1;33m=\u001b[0m \u001b[1;33m-\u001b[0m\u001b[1;36m1\u001b[0m\u001b[1;33m)\u001b[0m\u001b[1;33m\u001b[0m\u001b[1;33m\u001b[0m\u001b[0m\n\u001b[0;32m      3\u001b[0m \u001b[1;31m# Fit the random search model\u001b[0m\u001b[1;33m\u001b[0m\u001b[1;33m\u001b[0m\u001b[1;33m\u001b[0m\u001b[0m\n\u001b[1;32m----> 4\u001b[1;33m \u001b[0mrf_r\u001b[0m \u001b[1;33m=\u001b[0m \u001b[0mrfgrid\u001b[0m\u001b[1;33m.\u001b[0m\u001b[0mfit\u001b[0m\u001b[1;33m(\u001b[0m\u001b[0mX_train\u001b[0m\u001b[1;33m,\u001b[0m \u001b[0my_train\u001b[0m\u001b[1;33m)\u001b[0m\u001b[1;33m\u001b[0m\u001b[1;33m\u001b[0m\u001b[0m\n\u001b[0m",
      "\u001b[1;32m~\\Anaconda3\\lib\\site-packages\\sklearn\\model_selection\\_search.py\u001b[0m in \u001b[0;36mfit\u001b[1;34m(self, X, y, groups, **fit_params)\u001b[0m\n\u001b[0;32m    606\u001b[0m \u001b[1;33m\u001b[0m\u001b[0m\n\u001b[0;32m    607\u001b[0m         scorers, self.multimetric_ = _check_multimetric_scoring(\n\u001b[1;32m--> 608\u001b[1;33m             self.estimator, scoring=self.scoring)\n\u001b[0m\u001b[0;32m    609\u001b[0m \u001b[1;33m\u001b[0m\u001b[0m\n\u001b[0;32m    610\u001b[0m         \u001b[1;32mif\u001b[0m \u001b[0mself\u001b[0m\u001b[1;33m.\u001b[0m\u001b[0mmultimetric_\u001b[0m\u001b[1;33m:\u001b[0m\u001b[1;33m\u001b[0m\u001b[1;33m\u001b[0m\u001b[0m\n",
      "\u001b[1;32m~\\Anaconda3\\lib\\site-packages\\sklearn\\metrics\\scorer.py\u001b[0m in \u001b[0;36m_check_multimetric_scoring\u001b[1;34m(estimator, scoring)\u001b[0m\n\u001b[0;32m    340\u001b[0m     if callable(scoring) or scoring is None or isinstance(scoring,\n\u001b[0;32m    341\u001b[0m                                                           str):\n\u001b[1;32m--> 342\u001b[1;33m         \u001b[0mscorers\u001b[0m \u001b[1;33m=\u001b[0m \u001b[1;33m{\u001b[0m\u001b[1;34m\"score\"\u001b[0m\u001b[1;33m:\u001b[0m \u001b[0mcheck_scoring\u001b[0m\u001b[1;33m(\u001b[0m\u001b[0mestimator\u001b[0m\u001b[1;33m,\u001b[0m \u001b[0mscoring\u001b[0m\u001b[1;33m=\u001b[0m\u001b[0mscoring\u001b[0m\u001b[1;33m)\u001b[0m\u001b[1;33m}\u001b[0m\u001b[1;33m\u001b[0m\u001b[1;33m\u001b[0m\u001b[0m\n\u001b[0m\u001b[0;32m    343\u001b[0m         \u001b[1;32mreturn\u001b[0m \u001b[0mscorers\u001b[0m\u001b[1;33m,\u001b[0m \u001b[1;32mFalse\u001b[0m\u001b[1;33m\u001b[0m\u001b[1;33m\u001b[0m\u001b[0m\n\u001b[0;32m    344\u001b[0m     \u001b[1;32melse\u001b[0m\u001b[1;33m:\u001b[0m\u001b[1;33m\u001b[0m\u001b[1;33m\u001b[0m\u001b[0m\n",
      "\u001b[1;32m~\\Anaconda3\\lib\\site-packages\\sklearn\\metrics\\scorer.py\u001b[0m in \u001b[0;36mcheck_scoring\u001b[1;34m(estimator, scoring, allow_none)\u001b[0m\n\u001b[0;32m    268\u001b[0m     \u001b[1;32mif\u001b[0m \u001b[1;32mnot\u001b[0m \u001b[0mhasattr\u001b[0m\u001b[1;33m(\u001b[0m\u001b[0mestimator\u001b[0m\u001b[1;33m,\u001b[0m \u001b[1;34m'fit'\u001b[0m\u001b[1;33m)\u001b[0m\u001b[1;33m:\u001b[0m\u001b[1;33m\u001b[0m\u001b[1;33m\u001b[0m\u001b[0m\n\u001b[0;32m    269\u001b[0m         raise TypeError(\"estimator should be an estimator implementing \"\n\u001b[1;32m--> 270\u001b[1;33m                         \"'fit' method, %r was passed\" % estimator)\n\u001b[0m\u001b[0;32m    271\u001b[0m     \u001b[1;32mif\u001b[0m \u001b[0misinstance\u001b[0m\u001b[1;33m(\u001b[0m\u001b[0mscoring\u001b[0m\u001b[1;33m,\u001b[0m \u001b[0mstr\u001b[0m\u001b[1;33m)\u001b[0m\u001b[1;33m:\u001b[0m\u001b[1;33m\u001b[0m\u001b[1;33m\u001b[0m\u001b[0m\n\u001b[0;32m    272\u001b[0m         \u001b[1;32mreturn\u001b[0m \u001b[0mget_scorer\u001b[0m\u001b[1;33m(\u001b[0m\u001b[0mscoring\u001b[0m\u001b[1;33m)\u001b[0m\u001b[1;33m\u001b[0m\u001b[1;33m\u001b[0m\u001b[0m\n",
      "\u001b[1;31mTypeError\u001b[0m: estimator should be an estimator implementing 'fit' method, <lightgbm.basic.Booster object at 0x00000199804EA5F8> was passed"
     ]
    }
   ],
   "source": [
    "from sklearn.model_selection import GridSearchCV\n",
    "rfgrid = GridSearchCV(estimator = clf, param_grid = params, cv = 5, verbose=2, n_jobs = -1)\n",
    "# Fit the random search model\n",
    "rf_r = rfgrid.fit(X_train, y_train)"
   ]
  },
  {
   "cell_type": "code",
   "execution_count": null,
   "metadata": {
    "scrolled": true
   },
   "outputs": [],
   "source": [
    "rfgrid.best_params_"
   ]
  },
  {
   "cell_type": "code",
   "execution_count": null,
   "metadata": {},
   "outputs": [],
   "source": [
    "rfgrid.best_score_ "
   ]
  },
  {
   "cell_type": "code",
   "execution_count": null,
   "metadata": {},
   "outputs": [],
   "source": [
    "np.exp(rfgrid.best_score_ )"
   ]
  },
  {
   "cell_type": "markdown",
   "metadata": {},
   "source": [
    "## Examining where it went wrong"
   ]
  },
  {
   "cell_type": "code",
   "execution_count": 47,
   "metadata": {},
   "outputs": [],
   "source": [
    "copiedxg= X_test.copy()\n",
    "copiedxg['Actual']= y_test\n",
    "copiedxg['Predicted']= y_predxg\n",
    "copiedxg['Difference'] = np.absolute(copiedxg['Actual'] - copiedxg['Predicted'])"
   ]
  },
  {
   "cell_type": "code",
   "execution_count": 48,
   "metadata": {},
   "outputs": [
    {
     "data": {
      "text/html": [
       "<div>\n",
       "<style scoped>\n",
       "    .dataframe tbody tr th:only-of-type {\n",
       "        vertical-align: middle;\n",
       "    }\n",
       "\n",
       "    .dataframe tbody tr th {\n",
       "        vertical-align: top;\n",
       "    }\n",
       "\n",
       "    .dataframe thead th {\n",
       "        text-align: right;\n",
       "    }\n",
       "</style>\n",
       "<table border=\"1\" class=\"dataframe\">\n",
       "  <thead>\n",
       "    <tr style=\"text-align: right;\">\n",
       "      <th></th>\n",
       "      <th>NeighborhoodPPS</th>\n",
       "      <th>Log Assessment</th>\n",
       "      <th>Log Fixtures</th>\n",
       "      <th>Exterior Wall_BRICK</th>\n",
       "      <th>Exterior Wall_BRICK/FRAME</th>\n",
       "      <th>Exterior Wall_CONC BLK</th>\n",
       "      <th>Exterior Wall_FRAME</th>\n",
       "      <th>Exterior Wall_FRAME/STONE</th>\n",
       "      <th>Exterior Wall_GLASS</th>\n",
       "      <th>Exterior Wall_LOG</th>\n",
       "      <th>...</th>\n",
       "      <th>Building Grade_D</th>\n",
       "      <th>Building Grade_E</th>\n",
       "      <th>Building Grade_X</th>\n",
       "      <th>Quarter_1</th>\n",
       "      <th>Quarter_2</th>\n",
       "      <th>Quarter_3</th>\n",
       "      <th>Quarter_4</th>\n",
       "      <th>Actual</th>\n",
       "      <th>Predicted</th>\n",
       "      <th>Difference</th>\n",
       "    </tr>\n",
       "  </thead>\n",
       "  <tbody>\n",
       "    <tr>\n",
       "      <th>190142</th>\n",
       "      <td>227.515341</td>\n",
       "      <td>11.790557</td>\n",
       "      <td>2.639057</td>\n",
       "      <td>0</td>\n",
       "      <td>0</td>\n",
       "      <td>0</td>\n",
       "      <td>0</td>\n",
       "      <td>0</td>\n",
       "      <td>0</td>\n",
       "      <td>1</td>\n",
       "      <td>...</td>\n",
       "      <td>1</td>\n",
       "      <td>0</td>\n",
       "      <td>0</td>\n",
       "      <td>0</td>\n",
       "      <td>0</td>\n",
       "      <td>1</td>\n",
       "      <td>0</td>\n",
       "      <td>919.778700</td>\n",
       "      <td>197.702026</td>\n",
       "      <td>722.076673</td>\n",
       "    </tr>\n",
       "    <tr>\n",
       "      <th>130234</th>\n",
       "      <td>305.772035</td>\n",
       "      <td>12.538967</td>\n",
       "      <td>3.332205</td>\n",
       "      <td>0</td>\n",
       "      <td>0</td>\n",
       "      <td>0</td>\n",
       "      <td>0</td>\n",
       "      <td>0</td>\n",
       "      <td>0</td>\n",
       "      <td>0</td>\n",
       "      <td>...</td>\n",
       "      <td>0</td>\n",
       "      <td>0</td>\n",
       "      <td>1</td>\n",
       "      <td>1</td>\n",
       "      <td>0</td>\n",
       "      <td>0</td>\n",
       "      <td>0</td>\n",
       "      <td>901.604430</td>\n",
       "      <td>224.686142</td>\n",
       "      <td>676.918288</td>\n",
       "    </tr>\n",
       "    <tr>\n",
       "      <th>235871</th>\n",
       "      <td>523.752618</td>\n",
       "      <td>9.695848</td>\n",
       "      <td>1.945910</td>\n",
       "      <td>1</td>\n",
       "      <td>0</td>\n",
       "      <td>0</td>\n",
       "      <td>0</td>\n",
       "      <td>0</td>\n",
       "      <td>0</td>\n",
       "      <td>0</td>\n",
       "      <td>...</td>\n",
       "      <td>0</td>\n",
       "      <td>0</td>\n",
       "      <td>0</td>\n",
       "      <td>0</td>\n",
       "      <td>0</td>\n",
       "      <td>0</td>\n",
       "      <td>1</td>\n",
       "      <td>971.843778</td>\n",
       "      <td>358.749664</td>\n",
       "      <td>613.094114</td>\n",
       "    </tr>\n",
       "    <tr>\n",
       "      <th>110153</th>\n",
       "      <td>239.413923</td>\n",
       "      <td>9.798127</td>\n",
       "      <td>2.639057</td>\n",
       "      <td>1</td>\n",
       "      <td>0</td>\n",
       "      <td>0</td>\n",
       "      <td>0</td>\n",
       "      <td>0</td>\n",
       "      <td>0</td>\n",
       "      <td>0</td>\n",
       "      <td>...</td>\n",
       "      <td>0</td>\n",
       "      <td>0</td>\n",
       "      <td>1</td>\n",
       "      <td>1</td>\n",
       "      <td>0</td>\n",
       "      <td>0</td>\n",
       "      <td>0</td>\n",
       "      <td>723.981900</td>\n",
       "      <td>193.088257</td>\n",
       "      <td>530.893644</td>\n",
       "    </tr>\n",
       "    <tr>\n",
       "      <th>144762</th>\n",
       "      <td>159.478142</td>\n",
       "      <td>9.552155</td>\n",
       "      <td>2.079442</td>\n",
       "      <td>1</td>\n",
       "      <td>0</td>\n",
       "      <td>0</td>\n",
       "      <td>0</td>\n",
       "      <td>0</td>\n",
       "      <td>0</td>\n",
       "      <td>0</td>\n",
       "      <td>...</td>\n",
       "      <td>0</td>\n",
       "      <td>0</td>\n",
       "      <td>0</td>\n",
       "      <td>0</td>\n",
       "      <td>1</td>\n",
       "      <td>0</td>\n",
       "      <td>0</td>\n",
       "      <td>588.505747</td>\n",
       "      <td>168.407120</td>\n",
       "      <td>420.098627</td>\n",
       "    </tr>\n",
       "    <tr>\n",
       "      <th>137087</th>\n",
       "      <td>240.047068</td>\n",
       "      <td>11.109833</td>\n",
       "      <td>2.397895</td>\n",
       "      <td>0</td>\n",
       "      <td>0</td>\n",
       "      <td>0</td>\n",
       "      <td>0</td>\n",
       "      <td>0</td>\n",
       "      <td>0</td>\n",
       "      <td>1</td>\n",
       "      <td>...</td>\n",
       "      <td>0</td>\n",
       "      <td>0</td>\n",
       "      <td>0</td>\n",
       "      <td>0</td>\n",
       "      <td>1</td>\n",
       "      <td>0</td>\n",
       "      <td>0</td>\n",
       "      <td>565.307944</td>\n",
       "      <td>220.585190</td>\n",
       "      <td>344.722754</td>\n",
       "    </tr>\n",
       "    <tr>\n",
       "      <th>272462</th>\n",
       "      <td>202.829418</td>\n",
       "      <td>9.615805</td>\n",
       "      <td>2.397895</td>\n",
       "      <td>0</td>\n",
       "      <td>0</td>\n",
       "      <td>0</td>\n",
       "      <td>1</td>\n",
       "      <td>0</td>\n",
       "      <td>0</td>\n",
       "      <td>0</td>\n",
       "      <td>...</td>\n",
       "      <td>0</td>\n",
       "      <td>0</td>\n",
       "      <td>0</td>\n",
       "      <td>0</td>\n",
       "      <td>0</td>\n",
       "      <td>0</td>\n",
       "      <td>1</td>\n",
       "      <td>525.986224</td>\n",
       "      <td>196.580124</td>\n",
       "      <td>329.406100</td>\n",
       "    </tr>\n",
       "    <tr>\n",
       "      <th>119629</th>\n",
       "      <td>323.912969</td>\n",
       "      <td>11.156251</td>\n",
       "      <td>1.609438</td>\n",
       "      <td>0</td>\n",
       "      <td>0</td>\n",
       "      <td>0</td>\n",
       "      <td>0</td>\n",
       "      <td>0</td>\n",
       "      <td>0</td>\n",
       "      <td>0</td>\n",
       "      <td>...</td>\n",
       "      <td>0</td>\n",
       "      <td>0</td>\n",
       "      <td>0</td>\n",
       "      <td>1</td>\n",
       "      <td>0</td>\n",
       "      <td>0</td>\n",
       "      <td>0</td>\n",
       "      <td>714.285714</td>\n",
       "      <td>413.228577</td>\n",
       "      <td>301.057138</td>\n",
       "    </tr>\n",
       "    <tr>\n",
       "      <th>88967</th>\n",
       "      <td>274.109381</td>\n",
       "      <td>11.042922</td>\n",
       "      <td>2.079442</td>\n",
       "      <td>0</td>\n",
       "      <td>0</td>\n",
       "      <td>0</td>\n",
       "      <td>1</td>\n",
       "      <td>0</td>\n",
       "      <td>0</td>\n",
       "      <td>0</td>\n",
       "      <td>...</td>\n",
       "      <td>0</td>\n",
       "      <td>0</td>\n",
       "      <td>0</td>\n",
       "      <td>0</td>\n",
       "      <td>0</td>\n",
       "      <td>1</td>\n",
       "      <td>0</td>\n",
       "      <td>16.166282</td>\n",
       "      <td>288.773804</td>\n",
       "      <td>272.607522</td>\n",
       "    </tr>\n",
       "    <tr>\n",
       "      <th>149823</th>\n",
       "      <td>227.515341</td>\n",
       "      <td>11.630709</td>\n",
       "      <td>2.079442</td>\n",
       "      <td>1</td>\n",
       "      <td>0</td>\n",
       "      <td>0</td>\n",
       "      <td>0</td>\n",
       "      <td>0</td>\n",
       "      <td>0</td>\n",
       "      <td>0</td>\n",
       "      <td>...</td>\n",
       "      <td>0</td>\n",
       "      <td>0</td>\n",
       "      <td>0</td>\n",
       "      <td>1</td>\n",
       "      <td>0</td>\n",
       "      <td>0</td>\n",
       "      <td>0</td>\n",
       "      <td>547.794118</td>\n",
       "      <td>281.507477</td>\n",
       "      <td>266.286641</td>\n",
       "    </tr>\n",
       "    <tr>\n",
       "      <th>237101</th>\n",
       "      <td>495.971656</td>\n",
       "      <td>9.980449</td>\n",
       "      <td>2.564949</td>\n",
       "      <td>0</td>\n",
       "      <td>0</td>\n",
       "      <td>0</td>\n",
       "      <td>0</td>\n",
       "      <td>0</td>\n",
       "      <td>0</td>\n",
       "      <td>0</td>\n",
       "      <td>...</td>\n",
       "      <td>0</td>\n",
       "      <td>0</td>\n",
       "      <td>0</td>\n",
       "      <td>0</td>\n",
       "      <td>0</td>\n",
       "      <td>1</td>\n",
       "      <td>0</td>\n",
       "      <td>860.175695</td>\n",
       "      <td>595.173401</td>\n",
       "      <td>265.002295</td>\n",
       "    </tr>\n",
       "    <tr>\n",
       "      <th>143683</th>\n",
       "      <td>311.425886</td>\n",
       "      <td>10.165852</td>\n",
       "      <td>1.609438</td>\n",
       "      <td>0</td>\n",
       "      <td>0</td>\n",
       "      <td>0</td>\n",
       "      <td>1</td>\n",
       "      <td>0</td>\n",
       "      <td>0</td>\n",
       "      <td>0</td>\n",
       "      <td>...</td>\n",
       "      <td>1</td>\n",
       "      <td>0</td>\n",
       "      <td>0</td>\n",
       "      <td>0</td>\n",
       "      <td>0</td>\n",
       "      <td>1</td>\n",
       "      <td>0</td>\n",
       "      <td>166.666667</td>\n",
       "      <td>428.699280</td>\n",
       "      <td>262.032613</td>\n",
       "    </tr>\n",
       "    <tr>\n",
       "      <th>131843</th>\n",
       "      <td>312.714010</td>\n",
       "      <td>11.225243</td>\n",
       "      <td>2.995732</td>\n",
       "      <td>1</td>\n",
       "      <td>0</td>\n",
       "      <td>0</td>\n",
       "      <td>0</td>\n",
       "      <td>0</td>\n",
       "      <td>0</td>\n",
       "      <td>0</td>\n",
       "      <td>...</td>\n",
       "      <td>0</td>\n",
       "      <td>0</td>\n",
       "      <td>0</td>\n",
       "      <td>0</td>\n",
       "      <td>0</td>\n",
       "      <td>0</td>\n",
       "      <td>1</td>\n",
       "      <td>521.881288</td>\n",
       "      <td>260.164276</td>\n",
       "      <td>261.717012</td>\n",
       "    </tr>\n",
       "    <tr>\n",
       "      <th>261294</th>\n",
       "      <td>166.634305</td>\n",
       "      <td>9.132379</td>\n",
       "      <td>2.302585</td>\n",
       "      <td>0</td>\n",
       "      <td>1</td>\n",
       "      <td>0</td>\n",
       "      <td>0</td>\n",
       "      <td>0</td>\n",
       "      <td>0</td>\n",
       "      <td>0</td>\n",
       "      <td>...</td>\n",
       "      <td>0</td>\n",
       "      <td>0</td>\n",
       "      <td>0</td>\n",
       "      <td>0</td>\n",
       "      <td>1</td>\n",
       "      <td>0</td>\n",
       "      <td>0</td>\n",
       "      <td>421.052632</td>\n",
       "      <td>164.255951</td>\n",
       "      <td>256.796681</td>\n",
       "    </tr>\n",
       "    <tr>\n",
       "      <th>261202</th>\n",
       "      <td>536.781227</td>\n",
       "      <td>10.717192</td>\n",
       "      <td>2.397895</td>\n",
       "      <td>0</td>\n",
       "      <td>0</td>\n",
       "      <td>0</td>\n",
       "      <td>0</td>\n",
       "      <td>0</td>\n",
       "      <td>1</td>\n",
       "      <td>0</td>\n",
       "      <td>...</td>\n",
       "      <td>0</td>\n",
       "      <td>0</td>\n",
       "      <td>0</td>\n",
       "      <td>1</td>\n",
       "      <td>0</td>\n",
       "      <td>0</td>\n",
       "      <td>0</td>\n",
       "      <td>895.140665</td>\n",
       "      <td>662.283752</td>\n",
       "      <td>232.856913</td>\n",
       "    </tr>\n",
       "    <tr>\n",
       "      <th>261255</th>\n",
       "      <td>536.781227</td>\n",
       "      <td>11.173950</td>\n",
       "      <td>2.484907</td>\n",
       "      <td>0</td>\n",
       "      <td>0</td>\n",
       "      <td>0</td>\n",
       "      <td>0</td>\n",
       "      <td>0</td>\n",
       "      <td>1</td>\n",
       "      <td>0</td>\n",
       "      <td>...</td>\n",
       "      <td>0</td>\n",
       "      <td>0</td>\n",
       "      <td>0</td>\n",
       "      <td>1</td>\n",
       "      <td>0</td>\n",
       "      <td>0</td>\n",
       "      <td>0</td>\n",
       "      <td>1091.422702</td>\n",
       "      <td>858.776733</td>\n",
       "      <td>232.645968</td>\n",
       "    </tr>\n",
       "    <tr>\n",
       "      <th>169807</th>\n",
       "      <td>227.515341</td>\n",
       "      <td>12.660963</td>\n",
       "      <td>2.079442</td>\n",
       "      <td>0</td>\n",
       "      <td>0</td>\n",
       "      <td>0</td>\n",
       "      <td>1</td>\n",
       "      <td>0</td>\n",
       "      <td>0</td>\n",
       "      <td>0</td>\n",
       "      <td>...</td>\n",
       "      <td>0</td>\n",
       "      <td>0</td>\n",
       "      <td>0</td>\n",
       "      <td>1</td>\n",
       "      <td>0</td>\n",
       "      <td>0</td>\n",
       "      <td>0</td>\n",
       "      <td>674.373796</td>\n",
       "      <td>443.676697</td>\n",
       "      <td>230.697099</td>\n",
       "    </tr>\n",
       "    <tr>\n",
       "      <th>190466</th>\n",
       "      <td>227.515341</td>\n",
       "      <td>11.502875</td>\n",
       "      <td>3.401197</td>\n",
       "      <td>1</td>\n",
       "      <td>0</td>\n",
       "      <td>0</td>\n",
       "      <td>0</td>\n",
       "      <td>0</td>\n",
       "      <td>0</td>\n",
       "      <td>0</td>\n",
       "      <td>...</td>\n",
       "      <td>0</td>\n",
       "      <td>0</td>\n",
       "      <td>1</td>\n",
       "      <td>0</td>\n",
       "      <td>1</td>\n",
       "      <td>0</td>\n",
       "      <td>0</td>\n",
       "      <td>74.185842</td>\n",
       "      <td>302.693665</td>\n",
       "      <td>228.507823</td>\n",
       "    </tr>\n",
       "    <tr>\n",
       "      <th>149566</th>\n",
       "      <td>278.001096</td>\n",
       "      <td>11.487608</td>\n",
       "      <td>2.995732</td>\n",
       "      <td>0</td>\n",
       "      <td>1</td>\n",
       "      <td>0</td>\n",
       "      <td>0</td>\n",
       "      <td>0</td>\n",
       "      <td>0</td>\n",
       "      <td>0</td>\n",
       "      <td>...</td>\n",
       "      <td>0</td>\n",
       "      <td>0</td>\n",
       "      <td>1</td>\n",
       "      <td>0</td>\n",
       "      <td>0</td>\n",
       "      <td>0</td>\n",
       "      <td>1</td>\n",
       "      <td>558.243394</td>\n",
       "      <td>341.750641</td>\n",
       "      <td>216.492753</td>\n",
       "    </tr>\n",
       "    <tr>\n",
       "      <th>108457</th>\n",
       "      <td>274.109381</td>\n",
       "      <td>11.002100</td>\n",
       "      <td>1.609438</td>\n",
       "      <td>1</td>\n",
       "      <td>0</td>\n",
       "      <td>0</td>\n",
       "      <td>0</td>\n",
       "      <td>0</td>\n",
       "      <td>0</td>\n",
       "      <td>0</td>\n",
       "      <td>...</td>\n",
       "      <td>0</td>\n",
       "      <td>0</td>\n",
       "      <td>0</td>\n",
       "      <td>0</td>\n",
       "      <td>0</td>\n",
       "      <td>0</td>\n",
       "      <td>1</td>\n",
       "      <td>66.906005</td>\n",
       "      <td>282.840576</td>\n",
       "      <td>215.934571</td>\n",
       "    </tr>\n",
       "  </tbody>\n",
       "</table>\n",
       "<p>20 rows × 32 columns</p>\n",
       "</div>"
      ],
      "text/plain": [
       "        NeighborhoodPPS  Log Assessment  Log Fixtures  Exterior Wall_BRICK  \\\n",
       "190142       227.515341       11.790557      2.639057                    0   \n",
       "130234       305.772035       12.538967      3.332205                    0   \n",
       "235871       523.752618        9.695848      1.945910                    1   \n",
       "110153       239.413923        9.798127      2.639057                    1   \n",
       "144762       159.478142        9.552155      2.079442                    1   \n",
       "137087       240.047068       11.109833      2.397895                    0   \n",
       "272462       202.829418        9.615805      2.397895                    0   \n",
       "119629       323.912969       11.156251      1.609438                    0   \n",
       "88967        274.109381       11.042922      2.079442                    0   \n",
       "149823       227.515341       11.630709      2.079442                    1   \n",
       "237101       495.971656        9.980449      2.564949                    0   \n",
       "143683       311.425886       10.165852      1.609438                    0   \n",
       "131843       312.714010       11.225243      2.995732                    1   \n",
       "261294       166.634305        9.132379      2.302585                    0   \n",
       "261202       536.781227       10.717192      2.397895                    0   \n",
       "261255       536.781227       11.173950      2.484907                    0   \n",
       "169807       227.515341       12.660963      2.079442                    0   \n",
       "190466       227.515341       11.502875      3.401197                    1   \n",
       "149566       278.001096       11.487608      2.995732                    0   \n",
       "108457       274.109381       11.002100      1.609438                    1   \n",
       "\n",
       "        Exterior Wall_BRICK/FRAME  Exterior Wall_CONC BLK  \\\n",
       "190142                          0                       0   \n",
       "130234                          0                       0   \n",
       "235871                          0                       0   \n",
       "110153                          0                       0   \n",
       "144762                          0                       0   \n",
       "137087                          0                       0   \n",
       "272462                          0                       0   \n",
       "119629                          0                       0   \n",
       "88967                           0                       0   \n",
       "149823                          0                       0   \n",
       "237101                          0                       0   \n",
       "143683                          0                       0   \n",
       "131843                          0                       0   \n",
       "261294                          1                       0   \n",
       "261202                          0                       0   \n",
       "261255                          0                       0   \n",
       "169807                          0                       0   \n",
       "190466                          0                       0   \n",
       "149566                          1                       0   \n",
       "108457                          0                       0   \n",
       "\n",
       "        Exterior Wall_FRAME  Exterior Wall_FRAME/STONE  Exterior Wall_GLASS  \\\n",
       "190142                    0                          0                    0   \n",
       "130234                    0                          0                    0   \n",
       "235871                    0                          0                    0   \n",
       "110153                    0                          0                    0   \n",
       "144762                    0                          0                    0   \n",
       "137087                    0                          0                    0   \n",
       "272462                    1                          0                    0   \n",
       "119629                    0                          0                    0   \n",
       "88967                     1                          0                    0   \n",
       "149823                    0                          0                    0   \n",
       "237101                    0                          0                    0   \n",
       "143683                    1                          0                    0   \n",
       "131843                    0                          0                    0   \n",
       "261294                    0                          0                    0   \n",
       "261202                    0                          0                    1   \n",
       "261255                    0                          0                    1   \n",
       "169807                    1                          0                    0   \n",
       "190466                    0                          0                    0   \n",
       "149566                    0                          0                    0   \n",
       "108457                    0                          0                    0   \n",
       "\n",
       "        Exterior Wall_LOG     ...      Building Grade_D  Building Grade_E  \\\n",
       "190142                  1     ...                     1                 0   \n",
       "130234                  0     ...                     0                 0   \n",
       "235871                  0     ...                     0                 0   \n",
       "110153                  0     ...                     0                 0   \n",
       "144762                  0     ...                     0                 0   \n",
       "137087                  1     ...                     0                 0   \n",
       "272462                  0     ...                     0                 0   \n",
       "119629                  0     ...                     0                 0   \n",
       "88967                   0     ...                     0                 0   \n",
       "149823                  0     ...                     0                 0   \n",
       "237101                  0     ...                     0                 0   \n",
       "143683                  0     ...                     1                 0   \n",
       "131843                  0     ...                     0                 0   \n",
       "261294                  0     ...                     0                 0   \n",
       "261202                  0     ...                     0                 0   \n",
       "261255                  0     ...                     0                 0   \n",
       "169807                  0     ...                     0                 0   \n",
       "190466                  0     ...                     0                 0   \n",
       "149566                  0     ...                     0                 0   \n",
       "108457                  0     ...                     0                 0   \n",
       "\n",
       "        Building Grade_X  Quarter_1  Quarter_2  Quarter_3  Quarter_4  \\\n",
       "190142                 0          0          0          1          0   \n",
       "130234                 1          1          0          0          0   \n",
       "235871                 0          0          0          0          1   \n",
       "110153                 1          1          0          0          0   \n",
       "144762                 0          0          1          0          0   \n",
       "137087                 0          0          1          0          0   \n",
       "272462                 0          0          0          0          1   \n",
       "119629                 0          1          0          0          0   \n",
       "88967                  0          0          0          1          0   \n",
       "149823                 0          1          0          0          0   \n",
       "237101                 0          0          0          1          0   \n",
       "143683                 0          0          0          1          0   \n",
       "131843                 0          0          0          0          1   \n",
       "261294                 0          0          1          0          0   \n",
       "261202                 0          1          0          0          0   \n",
       "261255                 0          1          0          0          0   \n",
       "169807                 0          1          0          0          0   \n",
       "190466                 1          0          1          0          0   \n",
       "149566                 1          0          0          0          1   \n",
       "108457                 0          0          0          0          1   \n",
       "\n",
       "             Actual   Predicted  Difference  \n",
       "190142   919.778700  197.702026  722.076673  \n",
       "130234   901.604430  224.686142  676.918288  \n",
       "235871   971.843778  358.749664  613.094114  \n",
       "110153   723.981900  193.088257  530.893644  \n",
       "144762   588.505747  168.407120  420.098627  \n",
       "137087   565.307944  220.585190  344.722754  \n",
       "272462   525.986224  196.580124  329.406100  \n",
       "119629   714.285714  413.228577  301.057138  \n",
       "88967     16.166282  288.773804  272.607522  \n",
       "149823   547.794118  281.507477  266.286641  \n",
       "237101   860.175695  595.173401  265.002295  \n",
       "143683   166.666667  428.699280  262.032613  \n",
       "131843   521.881288  260.164276  261.717012  \n",
       "261294   421.052632  164.255951  256.796681  \n",
       "261202   895.140665  662.283752  232.856913  \n",
       "261255  1091.422702  858.776733  232.645968  \n",
       "169807   674.373796  443.676697  230.697099  \n",
       "190466    74.185842  302.693665  228.507823  \n",
       "149566   558.243394  341.750641  216.492753  \n",
       "108457    66.906005  282.840576  215.934571  \n",
       "\n",
       "[20 rows x 32 columns]"
      ]
     },
     "execution_count": 48,
     "metadata": {},
     "output_type": "execute_result"
    }
   ],
   "source": [
    "copiedxg.nlargest(20,'Difference')"
   ]
  },
  {
   "cell_type": "code",
   "execution_count": 39,
   "metadata": {},
   "outputs": [],
   "source": [
    "copied= X_test.copy()\n",
    "copied['Actual']= y_test\n",
    "copied['Predicted']= y_pred\n",
    "copied['Difference'] = np.absolute(copied['Actual'] - copied['Predicted'])"
   ]
  },
  {
   "cell_type": "code",
   "execution_count": 43,
   "metadata": {},
   "outputs": [
    {
     "data": {
      "text/html": [
       "<div>\n",
       "<style scoped>\n",
       "    .dataframe tbody tr th:only-of-type {\n",
       "        vertical-align: middle;\n",
       "    }\n",
       "\n",
       "    .dataframe tbody tr th {\n",
       "        vertical-align: top;\n",
       "    }\n",
       "\n",
       "    .dataframe thead th {\n",
       "        text-align: right;\n",
       "    }\n",
       "</style>\n",
       "<table border=\"1\" class=\"dataframe\">\n",
       "  <thead>\n",
       "    <tr style=\"text-align: right;\">\n",
       "      <th></th>\n",
       "      <th>Actual</th>\n",
       "      <th>Predicted</th>\n",
       "      <th>Difference</th>\n",
       "      <th>Log Assessment</th>\n",
       "    </tr>\n",
       "  </thead>\n",
       "  <tbody>\n",
       "    <tr>\n",
       "      <th>190142</th>\n",
       "      <td>919.778700</td>\n",
       "      <td>173.645433</td>\n",
       "      <td>746.133267</td>\n",
       "      <td>11.790557</td>\n",
       "    </tr>\n",
       "    <tr>\n",
       "      <th>130234</th>\n",
       "      <td>901.604430</td>\n",
       "      <td>233.768751</td>\n",
       "      <td>667.835679</td>\n",
       "      <td>12.538967</td>\n",
       "    </tr>\n",
       "    <tr>\n",
       "      <th>235871</th>\n",
       "      <td>971.843778</td>\n",
       "      <td>362.150615</td>\n",
       "      <td>609.693164</td>\n",
       "      <td>9.695848</td>\n",
       "    </tr>\n",
       "    <tr>\n",
       "      <th>110153</th>\n",
       "      <td>723.981900</td>\n",
       "      <td>184.964126</td>\n",
       "      <td>539.017775</td>\n",
       "      <td>9.798127</td>\n",
       "    </tr>\n",
       "    <tr>\n",
       "      <th>144762</th>\n",
       "      <td>588.505747</td>\n",
       "      <td>175.322895</td>\n",
       "      <td>413.182852</td>\n",
       "      <td>9.552155</td>\n",
       "    </tr>\n",
       "    <tr>\n",
       "      <th>272462</th>\n",
       "      <td>525.986224</td>\n",
       "      <td>203.327435</td>\n",
       "      <td>322.658789</td>\n",
       "      <td>9.615805</td>\n",
       "    </tr>\n",
       "    <tr>\n",
       "      <th>137087</th>\n",
       "      <td>565.307944</td>\n",
       "      <td>253.991298</td>\n",
       "      <td>311.316646</td>\n",
       "      <td>11.109833</td>\n",
       "    </tr>\n",
       "    <tr>\n",
       "      <th>131843</th>\n",
       "      <td>521.881288</td>\n",
       "      <td>240.311803</td>\n",
       "      <td>281.569485</td>\n",
       "      <td>11.225243</td>\n",
       "    </tr>\n",
       "    <tr>\n",
       "      <th>88967</th>\n",
       "      <td>16.166282</td>\n",
       "      <td>287.994801</td>\n",
       "      <td>271.828519</td>\n",
       "      <td>11.042922</td>\n",
       "    </tr>\n",
       "    <tr>\n",
       "      <th>149823</th>\n",
       "      <td>547.794118</td>\n",
       "      <td>277.448720</td>\n",
       "      <td>270.345397</td>\n",
       "      <td>11.630709</td>\n",
       "    </tr>\n",
       "    <tr>\n",
       "      <th>262178</th>\n",
       "      <td>55.520305</td>\n",
       "      <td>316.864929</td>\n",
       "      <td>261.344625</td>\n",
       "      <td>11.492723</td>\n",
       "    </tr>\n",
       "    <tr>\n",
       "      <th>261294</th>\n",
       "      <td>421.052632</td>\n",
       "      <td>171.384987</td>\n",
       "      <td>249.667644</td>\n",
       "      <td>9.132379</td>\n",
       "    </tr>\n",
       "    <tr>\n",
       "      <th>108457</th>\n",
       "      <td>66.906005</td>\n",
       "      <td>298.413256</td>\n",
       "      <td>231.507251</td>\n",
       "      <td>11.002100</td>\n",
       "    </tr>\n",
       "    <tr>\n",
       "      <th>119629</th>\n",
       "      <td>714.285714</td>\n",
       "      <td>485.136546</td>\n",
       "      <td>229.149168</td>\n",
       "      <td>11.156251</td>\n",
       "    </tr>\n",
       "    <tr>\n",
       "      <th>47746</th>\n",
       "      <td>390.625000</td>\n",
       "      <td>166.210651</td>\n",
       "      <td>224.414349</td>\n",
       "      <td>8.691146</td>\n",
       "    </tr>\n",
       "    <tr>\n",
       "      <th>68505</th>\n",
       "      <td>23.744735</td>\n",
       "      <td>240.057847</td>\n",
       "      <td>216.313111</td>\n",
       "      <td>10.454495</td>\n",
       "    </tr>\n",
       "    <tr>\n",
       "      <th>110352</th>\n",
       "      <td>458.285714</td>\n",
       "      <td>242.746984</td>\n",
       "      <td>215.538730</td>\n",
       "      <td>9.185023</td>\n",
       "    </tr>\n",
       "    <tr>\n",
       "      <th>151387</th>\n",
       "      <td>58.173357</td>\n",
       "      <td>273.249505</td>\n",
       "      <td>215.076149</td>\n",
       "      <td>11.407565</td>\n",
       "    </tr>\n",
       "    <tr>\n",
       "      <th>237101</th>\n",
       "      <td>860.175695</td>\n",
       "      <td>646.022688</td>\n",
       "      <td>214.153008</td>\n",
       "      <td>9.980449</td>\n",
       "    </tr>\n",
       "    <tr>\n",
       "      <th>70761</th>\n",
       "      <td>417.172330</td>\n",
       "      <td>203.859703</td>\n",
       "      <td>213.312627</td>\n",
       "      <td>11.289782</td>\n",
       "    </tr>\n",
       "  </tbody>\n",
       "</table>\n",
       "</div>"
      ],
      "text/plain": [
       "            Actual   Predicted  Difference  Log Assessment\n",
       "190142  919.778700  173.645433  746.133267       11.790557\n",
       "130234  901.604430  233.768751  667.835679       12.538967\n",
       "235871  971.843778  362.150615  609.693164        9.695848\n",
       "110153  723.981900  184.964126  539.017775        9.798127\n",
       "144762  588.505747  175.322895  413.182852        9.552155\n",
       "272462  525.986224  203.327435  322.658789        9.615805\n",
       "137087  565.307944  253.991298  311.316646       11.109833\n",
       "131843  521.881288  240.311803  281.569485       11.225243\n",
       "88967    16.166282  287.994801  271.828519       11.042922\n",
       "149823  547.794118  277.448720  270.345397       11.630709\n",
       "262178   55.520305  316.864929  261.344625       11.492723\n",
       "261294  421.052632  171.384987  249.667644        9.132379\n",
       "108457   66.906005  298.413256  231.507251       11.002100\n",
       "119629  714.285714  485.136546  229.149168       11.156251\n",
       "47746   390.625000  166.210651  224.414349        8.691146\n",
       "68505    23.744735  240.057847  216.313111       10.454495\n",
       "110352  458.285714  242.746984  215.538730        9.185023\n",
       "151387   58.173357  273.249505  215.076149       11.407565\n",
       "237101  860.175695  646.022688  214.153008        9.980449\n",
       "70761   417.172330  203.859703  213.312627       11.289782"
      ]
     },
     "execution_count": 43,
     "metadata": {},
     "output_type": "execute_result"
    }
   ],
   "source": [
    "copied.nlargest(20, 'Difference')[['Actual','Predicted','Difference', 'Log Assessment']]"
   ]
  },
  {
   "cell_type": "code",
   "execution_count": 49,
   "metadata": {},
   "outputs": [
    {
     "data": {
      "text/plain": [
       "Assessment Classification*                                           RES\n",
       "Assessment Improvement                                         $486,025 \n",
       "Assessment Land                                                 $90,000 \n",
       "Assessment Total                                               $576,025 \n",
       "Assessment Year                                                     2019\n",
       "Baths                                                                  4\n",
       "Beds2                                                                NaN\n",
       "Building Condition                                               Average\n",
       "Building Condition2                                                  NaN\n",
       "Building Grade                                                         X\n",
       "Building Grade2                                                      NaN\n",
       "Building Type                                                 SINGLE FAM\n",
       "Building Type2                                                       NaN\n",
       "Current Owner                                 3524 TRIMBLE RD LAND TRUST\n",
       "Deed Reference                                          20190610-0055228\n",
       "Exterior Wall                                                BRICK/FRAME\n",
       "Exterior Wall2                                                       NaN\n",
       "Fixtures                                                              26\n",
       "Fixtures2                                                            NaN\n",
       "Foundation Type                                                    CRAWL\n",
       "Foundation Type2                                                     NaN\n",
       "Frame Type                                                           NaN\n",
       "Half Bath                                                              2\n",
       "Half Bath2                                                           NaN\n",
       "Improvement Value                                            $1,944,100 \n",
       "Land Area                                                     0.89 Acres\n",
       "Land Value                                                     $360,000 \n",
       "Location                                                 3524 TRIMBLE RD\n",
       "Mailing Address                      3524 TRIMBLE RD NASHVILLE, TN 37215\n",
       "Map & Parcel                                             131 05 0 031.00\n",
       "                                                    ...                 \n",
       "Property Address                                        3524  TRIMBLE RD\n",
       "Suite/ Condo   #                                                     NaN\n",
       "Property City                                                  NASHVILLE\n",
       "Sale Date                                            2015-08-27 00:00:00\n",
       "Sale Price                                                        400000\n",
       "Legal Reference                                         20150827-0087055\n",
       "Sold As Vacant                                                       Yes\n",
       "Multiple Parcels Involved in Sale                                     No\n",
       "Assessment Improvement Improved                                    90000\n",
       "Most Recent Sale Price Improved                                 1.95e+06\n",
       "Improvement Value Improved                                    1.9441e+06\n",
       "Assessment Total Improved                                         576025\n",
       "Land Value Improved                                               360000\n",
       "Assessment Land Improved                                           90000\n",
       "Total Appraisal Value Improved                                2.3041e+06\n",
       "Square Footage Improved                                             6876\n",
       "Building Type Custom                                          SINGLE FAM\n",
       "Land Area Acres                                                     0.89\n",
       "PPS                                                              58.1734\n",
       "NeighborhoodPPS                                                  237.839\n",
       "Assessment Ratio                                               0.0390608\n",
       "Nbhd Ratio                                                       0.11519\n",
       "Month                                                                  8\n",
       "Quarter                                                                3\n",
       "Year                                                                2015\n",
       "Log Assessment                                                   11.4076\n",
       "Log Fixtures                                                      3.2581\n",
       "Log SqFt                                                         8.83579\n",
       "Log PPS                                                          4.06343\n",
       "Log Land                                                       -0.116534\n",
       "Name: 151387, Length: 78, dtype: object"
      ]
     },
     "execution_count": 49,
     "metadata": {},
     "output_type": "execute_result"
    }
   ],
   "source": [
    "df.loc[151387]"
   ]
  },
  {
   "cell_type": "code",
   "execution_count": 145,
   "metadata": {},
   "outputs": [
    {
     "data": {
      "text/plain": [
       "Assessment Classification*                                                       RES\n",
       "Assessment Improvement                                                      $582,675\n",
       "Assessment Land                                                              $18,000\n",
       "Assessment Total                                                            $600,675\n",
       "Assessment Year                                                                 2019\n",
       "Baths                                                                              3\n",
       "Beds2                                                                            NaN\n",
       "Building Condition                                                           Average\n",
       "Building Condition2                                                              NaN\n",
       "Building Grade                                                                     X\n",
       "Building Grade2                                                                  NaN\n",
       "Building Type                                                             RESD CONDO\n",
       "Building Type2                                                                   NaN\n",
       "Current Owner                                                JACOBS, KENNETH & ELLEN\n",
       "Deed Reference                                                      20150318-0023125\n",
       "Exterior Wall                                                                  BRICK\n",
       "Exterior Wall2                                                                   NaN\n",
       "Fixtures                                                                          14\n",
       "Fixtures2                                                                        NaN\n",
       "Foundation Type                                                                 SLAB\n",
       "Foundation Type2                                                                 NaN\n",
       "Frame Type                                                                RESD FRAME\n",
       "Half Bath                                                                          0\n",
       "Half Bath2                                                                       NaN\n",
       "Improvement Value                                                         $2,330,700\n",
       "Land Area                                                                 0.00 Acres\n",
       "Land Value                                                                   $72,000\n",
       "Location                                                 3901 WEST END AVE Unit 1201\n",
       "Mailing Address                      3901 WEST END AVE UNIT 1201 NASHVILLE, TN 37205\n",
       "Map & Parcel                                                        103 16 0A 021.00\n",
       "                                                          ...                       \n",
       "Land Use                                                           RESIDENTIAL CONDO\n",
       "Property Address                                                  3901  WEST END AVE\n",
       "Suite/ Condo   #                                                                1201\n",
       "Property City                                                              NASHVILLE\n",
       "Sale Date                                                        2015-03-16 00:00:00\n",
       "Sale Price                                                                   2.4e+06\n",
       "Legal Reference                                                     20150318-0023125\n",
       "Sold As Vacant                                                                    No\n",
       "Multiple Parcels Involved in Sale                                                 No\n",
       "Assessment Improvement Improved                                                18000\n",
       "Most Recent Sale Price Improved                                              2.4e+06\n",
       "Improvement Value Improved                                                2.3307e+06\n",
       "Assessment Total Improved                                                     600675\n",
       "Land Value Improved                                                            72000\n",
       "Assessment Land Improved                                                       18000\n",
       "Total Appraisal Value Improved                                            2.4027e+06\n",
       "Square Footage Improved                                                         3315\n",
       "Building Type Custom                                                           CONDO\n",
       "Land Area Acres                                                                    0\n",
       "PPS                                                                          723.982\n",
       "NeighborhoodPPS                                                              239.414\n",
       "Assessment Ratio                                                          0.00749157\n",
       "Nbhd Ratio                                                                 0.0508185\n",
       "Month                                                                              3\n",
       "Quarter                                                                            1\n",
       "Log Assessment                                                               9.79813\n",
       "Log Fixtures                                                                 2.63906\n",
       "Log SqFt                                                                     8.10621\n",
       "Log PPS                                                                      6.58477\n",
       "Log Land                                                                         NaN\n",
       "Name: 110153, Length: 77, dtype: object"
      ]
     },
     "execution_count": 145,
     "metadata": {},
     "output_type": "execute_result"
    }
   ],
   "source": [
    "df.loc[110153]"
   ]
  },
  {
   "cell_type": "markdown",
   "metadata": {},
   "source": [
    "### So this house at 690  CANDLESTICK  DR is massively skewing our model because of incorrectly-entered data.\n",
    "Sale price entered at $49? Real price was "
   ]
  },
  {
   "cell_type": "code",
   "execution_count": null,
   "metadata": {},
   "outputs": [],
   "source": [
    "sns.distplot(df['Log Assessment'].dropna())\n",
    "#Need to clean up this column"
   ]
  },
  {
   "cell_type": "code",
   "execution_count": null,
   "metadata": {},
   "outputs": [],
   "source": [
    "df.nlargest(15, 'Assessment Land Improved')"
   ]
  },
  {
   "cell_type": "code",
   "execution_count": 26,
   "metadata": {},
   "outputs": [
    {
     "data": {
      "text/html": [
       "<div>\n",
       "<style scoped>\n",
       "    .dataframe tbody tr th:only-of-type {\n",
       "        vertical-align: middle;\n",
       "    }\n",
       "\n",
       "    .dataframe tbody tr th {\n",
       "        vertical-align: top;\n",
       "    }\n",
       "\n",
       "    .dataframe thead th {\n",
       "        text-align: right;\n",
       "    }\n",
       "</style>\n",
       "<table border=\"1\" class=\"dataframe\">\n",
       "  <thead>\n",
       "    <tr style=\"text-align: right;\">\n",
       "      <th></th>\n",
       "      <th>Sale Price</th>\n",
       "      <th>Location</th>\n",
       "      <th>PPS</th>\n",
       "      <th>Square Footage Improved</th>\n",
       "    </tr>\n",
       "  </thead>\n",
       "  <tbody>\n",
       "    <tr>\n",
       "      <th>191003</th>\n",
       "      <td>10000.0</td>\n",
       "      <td>5441 CAMELOT RD</td>\n",
       "      <td>2.211411</td>\n",
       "      <td>4522.0</td>\n",
       "    </tr>\n",
       "    <tr>\n",
       "      <th>239277</th>\n",
       "      <td>10000.0</td>\n",
       "      <td>1013 SUMMERCREST CT</td>\n",
       "      <td>4.108463</td>\n",
       "      <td>2434.0</td>\n",
       "    </tr>\n",
       "    <tr>\n",
       "      <th>138890</th>\n",
       "      <td>5000.0</td>\n",
       "      <td>64 VALERIA ST</td>\n",
       "      <td>4.340278</td>\n",
       "      <td>1152.0</td>\n",
       "    </tr>\n",
       "    <tr>\n",
       "      <th>117379</th>\n",
       "      <td>10001.0</td>\n",
       "      <td>31 N HILL ST</td>\n",
       "      <td>4.857212</td>\n",
       "      <td>2059.0</td>\n",
       "    </tr>\n",
       "    <tr>\n",
       "      <th>241960</th>\n",
       "      <td>27500.0</td>\n",
       "      <td>3703 EZELL RD</td>\n",
       "      <td>6.202075</td>\n",
       "      <td>4434.0</td>\n",
       "    </tr>\n",
       "    <tr>\n",
       "      <th>87022</th>\n",
       "      <td>10000.0</td>\n",
       "      <td>5801 MACKIE PL</td>\n",
       "      <td>6.635700</td>\n",
       "      <td>1507.0</td>\n",
       "    </tr>\n",
       "    <tr>\n",
       "      <th>266261</th>\n",
       "      <td>15000.0</td>\n",
       "      <td>6582 SUNNYWOOD DR</td>\n",
       "      <td>6.934813</td>\n",
       "      <td>2163.0</td>\n",
       "    </tr>\n",
       "    <tr>\n",
       "      <th>210027</th>\n",
       "      <td>30000.0</td>\n",
       "      <td>4839 JONQUIL DR</td>\n",
       "      <td>7.812500</td>\n",
       "      <td>3840.0</td>\n",
       "    </tr>\n",
       "    <tr>\n",
       "      <th>244773</th>\n",
       "      <td>28000.0</td>\n",
       "      <td>909 MULBERRY HILL PL</td>\n",
       "      <td>8.158508</td>\n",
       "      <td>3432.0</td>\n",
       "    </tr>\n",
       "    <tr>\n",
       "      <th>158356</th>\n",
       "      <td>9000.0</td>\n",
       "      <td>270 TAMPA DR Unit E-1</td>\n",
       "      <td>8.211679</td>\n",
       "      <td>1096.0</td>\n",
       "    </tr>\n",
       "    <tr>\n",
       "      <th>241963</th>\n",
       "      <td>25500.0</td>\n",
       "      <td>3707 EZELL RD</td>\n",
       "      <td>8.799172</td>\n",
       "      <td>2898.0</td>\n",
       "    </tr>\n",
       "    <tr>\n",
       "      <th>231681</th>\n",
       "      <td>13700.0</td>\n",
       "      <td>800 POINT BREAK CIR S</td>\n",
       "      <td>9.060847</td>\n",
       "      <td>1512.0</td>\n",
       "    </tr>\n",
       "    <tr>\n",
       "      <th>182808</th>\n",
       "      <td>17500.0</td>\n",
       "      <td>2817 CREEKVIEW DR</td>\n",
       "      <td>9.157509</td>\n",
       "      <td>1911.0</td>\n",
       "    </tr>\n",
       "    <tr>\n",
       "      <th>161372</th>\n",
       "      <td>14000.0</td>\n",
       "      <td>4000 ANDERSON RD Unit 76</td>\n",
       "      <td>9.459459</td>\n",
       "      <td>1480.0</td>\n",
       "    </tr>\n",
       "    <tr>\n",
       "      <th>17634</th>\n",
       "      <td>10000.0</td>\n",
       "      <td>323 FOREST PARK RD Unit 6-8</td>\n",
       "      <td>9.523810</td>\n",
       "      <td>1050.0</td>\n",
       "    </tr>\n",
       "  </tbody>\n",
       "</table>\n",
       "</div>"
      ],
      "text/plain": [
       "        Sale Price                     Location       PPS  \\\n",
       "191003     10000.0              5441 CAMELOT RD  2.211411   \n",
       "239277     10000.0          1013 SUMMERCREST CT  4.108463   \n",
       "138890      5000.0                64 VALERIA ST  4.340278   \n",
       "117379     10001.0                 31 N HILL ST  4.857212   \n",
       "241960     27500.0                3703 EZELL RD  6.202075   \n",
       "87022      10000.0               5801 MACKIE PL  6.635700   \n",
       "266261     15000.0            6582 SUNNYWOOD DR  6.934813   \n",
       "210027     30000.0              4839 JONQUIL DR  7.812500   \n",
       "244773     28000.0         909 MULBERRY HILL PL  8.158508   \n",
       "158356      9000.0        270 TAMPA DR Unit E-1  8.211679   \n",
       "241963     25500.0                3707 EZELL RD  8.799172   \n",
       "231681     13700.0        800 POINT BREAK CIR S  9.060847   \n",
       "182808     17500.0            2817 CREEKVIEW DR  9.157509   \n",
       "161372     14000.0     4000 ANDERSON RD Unit 76  9.459459   \n",
       "17634      10000.0  323 FOREST PARK RD Unit 6-8  9.523810   \n",
       "\n",
       "        Square Footage Improved  \n",
       "191003                   4522.0  \n",
       "239277                   2434.0  \n",
       "138890                   1152.0  \n",
       "117379                   2059.0  \n",
       "241960                   4434.0  \n",
       "87022                    1507.0  \n",
       "266261                   2163.0  \n",
       "210027                   3840.0  \n",
       "244773                   3432.0  \n",
       "158356                   1096.0  \n",
       "241963                   2898.0  \n",
       "231681                   1512.0  \n",
       "182808                   1911.0  \n",
       "161372                   1480.0  \n",
       "17634                    1050.0  "
      ]
     },
     "execution_count": 26,
     "metadata": {},
     "output_type": "execute_result"
    }
   ],
   "source": [
    "df.nsmallest(15, 'PPS')[['Sale Price', 'Location', 'PPS', 'Square Footage Improved']]"
   ]
  },
  {
   "cell_type": "code",
   "execution_count": 1,
   "metadata": {},
   "outputs": [
    {
     "ename": "ImportError",
     "evalue": "Traceback (most recent call last):\n  File \"C:\\Users\\alehe\\Anaconda3\\lib\\site-packages\\tensorflow\\python\\pywrap_tensorflow.py\", line 58, in <module>\n    from tensorflow.python.pywrap_tensorflow_internal import *\n  File \"C:\\Users\\alehe\\Anaconda3\\lib\\site-packages\\tensorflow\\python\\pywrap_tensorflow_internal.py\", line 28, in <module>\n    _pywrap_tensorflow_internal = swig_import_helper()\n  File \"C:\\Users\\alehe\\Anaconda3\\lib\\site-packages\\tensorflow\\python\\pywrap_tensorflow_internal.py\", line 24, in swig_import_helper\n    _mod = imp.load_module('_pywrap_tensorflow_internal', fp, pathname, description)\n  File \"C:\\Users\\alehe\\Anaconda3\\lib\\imp.py\", line 243, in load_module\n    return load_dynamic(name, filename, file)\n  File \"C:\\Users\\alehe\\Anaconda3\\lib\\imp.py\", line 343, in load_dynamic\n    return _load(spec)\nImportError: DLL load failed: The specified module could not be found.\n\n\nFailed to load the native TensorFlow runtime.\n\nSee https://www.tensorflow.org/install/errors\n\nfor some common reasons and solutions.  Include the entire stack trace\nabove this error message when asking for help.",
     "output_type": "error",
     "traceback": [
      "\u001b[1;31m---------------------------------------------------------------------------\u001b[0m",
      "\u001b[1;31mImportError\u001b[0m                               Traceback (most recent call last)",
      "\u001b[1;32m~\\Anaconda3\\lib\\site-packages\\tensorflow\\python\\pywrap_tensorflow.py\u001b[0m in \u001b[0;36m<module>\u001b[1;34m\u001b[0m\n\u001b[0;32m     57\u001b[0m \u001b[1;33m\u001b[0m\u001b[0m\n\u001b[1;32m---> 58\u001b[1;33m   \u001b[1;32mfrom\u001b[0m \u001b[0mtensorflow\u001b[0m\u001b[1;33m.\u001b[0m\u001b[0mpython\u001b[0m\u001b[1;33m.\u001b[0m\u001b[0mpywrap_tensorflow_internal\u001b[0m \u001b[1;32mimport\u001b[0m \u001b[1;33m*\u001b[0m\u001b[1;33m\u001b[0m\u001b[1;33m\u001b[0m\u001b[0m\n\u001b[0m\u001b[0;32m     59\u001b[0m   \u001b[1;32mfrom\u001b[0m \u001b[0mtensorflow\u001b[0m\u001b[1;33m.\u001b[0m\u001b[0mpython\u001b[0m\u001b[1;33m.\u001b[0m\u001b[0mpywrap_tensorflow_internal\u001b[0m \u001b[1;32mimport\u001b[0m \u001b[0m__version__\u001b[0m\u001b[1;33m\u001b[0m\u001b[1;33m\u001b[0m\u001b[0m\n",
      "\u001b[1;32m~\\Anaconda3\\lib\\site-packages\\tensorflow\\python\\pywrap_tensorflow_internal.py\u001b[0m in \u001b[0;36m<module>\u001b[1;34m\u001b[0m\n\u001b[0;32m     27\u001b[0m             \u001b[1;32mreturn\u001b[0m \u001b[0m_mod\u001b[0m\u001b[1;33m\u001b[0m\u001b[1;33m\u001b[0m\u001b[0m\n\u001b[1;32m---> 28\u001b[1;33m     \u001b[0m_pywrap_tensorflow_internal\u001b[0m \u001b[1;33m=\u001b[0m \u001b[0mswig_import_helper\u001b[0m\u001b[1;33m(\u001b[0m\u001b[1;33m)\u001b[0m\u001b[1;33m\u001b[0m\u001b[1;33m\u001b[0m\u001b[0m\n\u001b[0m\u001b[0;32m     29\u001b[0m     \u001b[1;32mdel\u001b[0m \u001b[0mswig_import_helper\u001b[0m\u001b[1;33m\u001b[0m\u001b[1;33m\u001b[0m\u001b[0m\n",
      "\u001b[1;32m~\\Anaconda3\\lib\\site-packages\\tensorflow\\python\\pywrap_tensorflow_internal.py\u001b[0m in \u001b[0;36mswig_import_helper\u001b[1;34m()\u001b[0m\n\u001b[0;32m     23\u001b[0m             \u001b[1;32mtry\u001b[0m\u001b[1;33m:\u001b[0m\u001b[1;33m\u001b[0m\u001b[1;33m\u001b[0m\u001b[0m\n\u001b[1;32m---> 24\u001b[1;33m                 \u001b[0m_mod\u001b[0m \u001b[1;33m=\u001b[0m \u001b[0mimp\u001b[0m\u001b[1;33m.\u001b[0m\u001b[0mload_module\u001b[0m\u001b[1;33m(\u001b[0m\u001b[1;34m'_pywrap_tensorflow_internal'\u001b[0m\u001b[1;33m,\u001b[0m \u001b[0mfp\u001b[0m\u001b[1;33m,\u001b[0m \u001b[0mpathname\u001b[0m\u001b[1;33m,\u001b[0m \u001b[0mdescription\u001b[0m\u001b[1;33m)\u001b[0m\u001b[1;33m\u001b[0m\u001b[1;33m\u001b[0m\u001b[0m\n\u001b[0m\u001b[0;32m     25\u001b[0m             \u001b[1;32mfinally\u001b[0m\u001b[1;33m:\u001b[0m\u001b[1;33m\u001b[0m\u001b[1;33m\u001b[0m\u001b[0m\n",
      "\u001b[1;32m~\\Anaconda3\\lib\\imp.py\u001b[0m in \u001b[0;36mload_module\u001b[1;34m(name, file, filename, details)\u001b[0m\n\u001b[0;32m    242\u001b[0m         \u001b[1;32melse\u001b[0m\u001b[1;33m:\u001b[0m\u001b[1;33m\u001b[0m\u001b[1;33m\u001b[0m\u001b[0m\n\u001b[1;32m--> 243\u001b[1;33m             \u001b[1;32mreturn\u001b[0m \u001b[0mload_dynamic\u001b[0m\u001b[1;33m(\u001b[0m\u001b[0mname\u001b[0m\u001b[1;33m,\u001b[0m \u001b[0mfilename\u001b[0m\u001b[1;33m,\u001b[0m \u001b[0mfile\u001b[0m\u001b[1;33m)\u001b[0m\u001b[1;33m\u001b[0m\u001b[1;33m\u001b[0m\u001b[0m\n\u001b[0m\u001b[0;32m    244\u001b[0m     \u001b[1;32melif\u001b[0m \u001b[0mtype_\u001b[0m \u001b[1;33m==\u001b[0m \u001b[0mPKG_DIRECTORY\u001b[0m\u001b[1;33m:\u001b[0m\u001b[1;33m\u001b[0m\u001b[1;33m\u001b[0m\u001b[0m\n",
      "\u001b[1;32m~\\Anaconda3\\lib\\imp.py\u001b[0m in \u001b[0;36mload_dynamic\u001b[1;34m(name, path, file)\u001b[0m\n\u001b[0;32m    342\u001b[0m             name=name, loader=loader, origin=path)\n\u001b[1;32m--> 343\u001b[1;33m         \u001b[1;32mreturn\u001b[0m \u001b[0m_load\u001b[0m\u001b[1;33m(\u001b[0m\u001b[0mspec\u001b[0m\u001b[1;33m)\u001b[0m\u001b[1;33m\u001b[0m\u001b[1;33m\u001b[0m\u001b[0m\n\u001b[0m\u001b[0;32m    344\u001b[0m \u001b[1;33m\u001b[0m\u001b[0m\n",
      "\u001b[1;31mImportError\u001b[0m: DLL load failed: The specified module could not be found.",
      "\nDuring handling of the above exception, another exception occurred:\n",
      "\u001b[1;31mImportError\u001b[0m                               Traceback (most recent call last)",
      "\u001b[1;32m<ipython-input-1-64156d691fe5>\u001b[0m in \u001b[0;36m<module>\u001b[1;34m\u001b[0m\n\u001b[1;32m----> 1\u001b[1;33m \u001b[1;32mimport\u001b[0m \u001b[0mtensorflow\u001b[0m \u001b[1;32mas\u001b[0m \u001b[0mtf\u001b[0m\u001b[1;33m\u001b[0m\u001b[1;33m\u001b[0m\u001b[0m\n\u001b[0m",
      "\u001b[1;32m~\\Anaconda3\\lib\\site-packages\\tensorflow\\__init__.py\u001b[0m in \u001b[0;36m<module>\u001b[1;34m\u001b[0m\n\u001b[0;32m     22\u001b[0m \u001b[1;33m\u001b[0m\u001b[0m\n\u001b[0;32m     23\u001b[0m \u001b[1;31m# pylint: disable=g-bad-import-order\u001b[0m\u001b[1;33m\u001b[0m\u001b[1;33m\u001b[0m\u001b[1;33m\u001b[0m\u001b[0m\n\u001b[1;32m---> 24\u001b[1;33m \u001b[1;32mfrom\u001b[0m \u001b[0mtensorflow\u001b[0m\u001b[1;33m.\u001b[0m\u001b[0mpython\u001b[0m \u001b[1;32mimport\u001b[0m \u001b[0mpywrap_tensorflow\u001b[0m  \u001b[1;31m# pylint: disable=unused-import\u001b[0m\u001b[1;33m\u001b[0m\u001b[1;33m\u001b[0m\u001b[0m\n\u001b[0m\u001b[0;32m     25\u001b[0m \u001b[1;33m\u001b[0m\u001b[0m\n\u001b[0;32m     26\u001b[0m \u001b[1;32mtry\u001b[0m\u001b[1;33m:\u001b[0m\u001b[1;33m\u001b[0m\u001b[1;33m\u001b[0m\u001b[0m\n",
      "\u001b[1;32m~\\Anaconda3\\lib\\site-packages\\tensorflow\\python\\__init__.py\u001b[0m in \u001b[0;36m<module>\u001b[1;34m\u001b[0m\n\u001b[0;32m     47\u001b[0m \u001b[1;32mimport\u001b[0m \u001b[0mnumpy\u001b[0m \u001b[1;32mas\u001b[0m \u001b[0mnp\u001b[0m\u001b[1;33m\u001b[0m\u001b[1;33m\u001b[0m\u001b[0m\n\u001b[0;32m     48\u001b[0m \u001b[1;33m\u001b[0m\u001b[0m\n\u001b[1;32m---> 49\u001b[1;33m \u001b[1;32mfrom\u001b[0m \u001b[0mtensorflow\u001b[0m\u001b[1;33m.\u001b[0m\u001b[0mpython\u001b[0m \u001b[1;32mimport\u001b[0m \u001b[0mpywrap_tensorflow\u001b[0m\u001b[1;33m\u001b[0m\u001b[1;33m\u001b[0m\u001b[0m\n\u001b[0m\u001b[0;32m     50\u001b[0m \u001b[1;33m\u001b[0m\u001b[0m\n\u001b[0;32m     51\u001b[0m \u001b[1;32mfrom\u001b[0m \u001b[0mtensorflow\u001b[0m\u001b[1;33m.\u001b[0m\u001b[0mpython\u001b[0m\u001b[1;33m.\u001b[0m\u001b[0mtools\u001b[0m \u001b[1;32mimport\u001b[0m \u001b[0mcomponent_api_helper\u001b[0m\u001b[1;33m\u001b[0m\u001b[1;33m\u001b[0m\u001b[0m\n",
      "\u001b[1;32m~\\Anaconda3\\lib\\site-packages\\tensorflow\\python\\pywrap_tensorflow.py\u001b[0m in \u001b[0;36m<module>\u001b[1;34m\u001b[0m\n\u001b[0;32m     72\u001b[0m \u001b[1;32mfor\u001b[0m \u001b[0msome\u001b[0m \u001b[0mcommon\u001b[0m \u001b[0mreasons\u001b[0m \u001b[1;32mand\u001b[0m \u001b[0msolutions\u001b[0m\u001b[1;33m.\u001b[0m  \u001b[0mInclude\u001b[0m \u001b[0mthe\u001b[0m \u001b[0mentire\u001b[0m \u001b[0mstack\u001b[0m \u001b[0mtrace\u001b[0m\u001b[1;33m\u001b[0m\u001b[1;33m\u001b[0m\u001b[0m\n\u001b[0;32m     73\u001b[0m above this error message when asking for help.\"\"\" % traceback.format_exc()\n\u001b[1;32m---> 74\u001b[1;33m   \u001b[1;32mraise\u001b[0m \u001b[0mImportError\u001b[0m\u001b[1;33m(\u001b[0m\u001b[0mmsg\u001b[0m\u001b[1;33m)\u001b[0m\u001b[1;33m\u001b[0m\u001b[1;33m\u001b[0m\u001b[0m\n\u001b[0m\u001b[0;32m     75\u001b[0m \u001b[1;33m\u001b[0m\u001b[0m\n\u001b[0;32m     76\u001b[0m \u001b[1;31m# pylint: enable=wildcard-import,g-import-not-at-top,unused-import,line-too-long\u001b[0m\u001b[1;33m\u001b[0m\u001b[1;33m\u001b[0m\u001b[1;33m\u001b[0m\u001b[0m\n",
      "\u001b[1;31mImportError\u001b[0m: Traceback (most recent call last):\n  File \"C:\\Users\\alehe\\Anaconda3\\lib\\site-packages\\tensorflow\\python\\pywrap_tensorflow.py\", line 58, in <module>\n    from tensorflow.python.pywrap_tensorflow_internal import *\n  File \"C:\\Users\\alehe\\Anaconda3\\lib\\site-packages\\tensorflow\\python\\pywrap_tensorflow_internal.py\", line 28, in <module>\n    _pywrap_tensorflow_internal = swig_import_helper()\n  File \"C:\\Users\\alehe\\Anaconda3\\lib\\site-packages\\tensorflow\\python\\pywrap_tensorflow_internal.py\", line 24, in swig_import_helper\n    _mod = imp.load_module('_pywrap_tensorflow_internal', fp, pathname, description)\n  File \"C:\\Users\\alehe\\Anaconda3\\lib\\imp.py\", line 243, in load_module\n    return load_dynamic(name, filename, file)\n  File \"C:\\Users\\alehe\\Anaconda3\\lib\\imp.py\", line 343, in load_dynamic\n    return _load(spec)\nImportError: DLL load failed: The specified module could not be found.\n\n\nFailed to load the native TensorFlow runtime.\n\nSee https://www.tensorflow.org/install/errors\n\nfor some common reasons and solutions.  Include the entire stack trace\nabove this error message when asking for help."
     ]
    }
   ],
   "source": [
    "import tensorflow as tf"
   ]
  },
  {
   "cell_type": "code",
   "execution_count": null,
   "metadata": {},
   "outputs": [],
   "source": []
  }
 ],
 "metadata": {
  "kernelspec": {
   "display_name": "Python 3",
   "language": "python",
   "name": "python3"
  },
  "language_info": {
   "codemirror_mode": {
    "name": "ipython",
    "version": 3
   },
   "file_extension": ".py",
   "mimetype": "text/x-python",
   "name": "python",
   "nbconvert_exporter": "python",
   "pygments_lexer": "ipython3",
   "version": "3.6.8"
  }
 },
 "nbformat": 4,
 "nbformat_minor": 2
}
