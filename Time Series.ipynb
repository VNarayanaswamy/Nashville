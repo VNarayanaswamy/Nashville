{
 "cells": [
  {
   "cell_type": "code",
   "execution_count": null,
   "metadata": {},
   "outputs": [],
   "source": [
    "The sudden rush of people to formerly-sparse city centers has created some undesirable effects such as increased housing prices, and raised concerns over gentrification in historically working-class neighborhoods. Currently the housing market is tight in our hottest cities, leading to a housing crisis.\n",
    "https://www.tennessean.com/story/opinion/columnists/david-plazas/2018/07/13/affordable-housing-nashville-urban-crisis-grows-more-severe/777899002/\n",
    "\n",
    "Importantly, it's common that gentrification complaints are much ado about nothing. Research has failed to find much displacement caused by gentrification in America, and this could mean that urban house prices are, in general, not rising very fast.\n",
    "\n",
    "https://www.planetizen.com/blogs/105866-gentrification-mania"
   ]
  },
  {
   "cell_type": "code",
   "execution_count": null,
   "metadata": {},
   "outputs": [],
   "source": [
    "#Plotting average PPS per month\n",
    "df.groupby(df['Sale Date'].dt.to_period('M'))['PPS'].median().plot(figsize=(9,9))\n",
    "plt.ylabel('Median PPS', fontsize=15)\n",
    "plt.xlabel('Sale Date', fontsize=15)\n",
    "plt.title('Median PPS Over Time', fontsize=15)\n",
    "#Look for luxury development completed in Jan 2018"
   ]
  },
  {
   "cell_type": "code",
   "execution_count": null,
   "metadata": {},
   "outputs": [],
   "source": [
    "#Plotting median sale price to compare to PPS\n",
    "df.groupby(df['Sale Date'].dt.to_period('M'))['Sale Price'].median().plot(figsize=(8,8))\n",
    "plt.xlabel('Sale Date', fontsize=15)\n",
    "plt.ylabel('Median Sale Price (thousands)', fontsize=15)\n",
    "plt.title('Median Sale Price Over Time', fontsize=15)"
   ]
  },
  {
   "cell_type": "code",
   "execution_count": 1,
   "metadata": {},
   "outputs": [
    {
     "ename": "NameError",
     "evalue": "name 'df' is not defined",
     "output_type": "error",
     "traceback": [
      "\u001b[0;31m---------------------------------------------------------------------------\u001b[0m",
      "\u001b[0;31mNameError\u001b[0m                                 Traceback (most recent call last)",
      "\u001b[0;32m<ipython-input-1-bf933332dd93>\u001b[0m in \u001b[0;36m<module>\u001b[0;34m\u001b[0m\n\u001b[1;32m      1\u001b[0m \u001b[0;31m#Plotting Sale Count to see if there's any correlation\u001b[0m\u001b[0;34m\u001b[0m\u001b[0;34m\u001b[0m\u001b[0;34m\u001b[0m\u001b[0m\n\u001b[1;32m      2\u001b[0m \u001b[0;31m#Note that sale price correlates with the sale volume (exhibits similar seasonality)\u001b[0m\u001b[0;34m\u001b[0m\u001b[0;34m\u001b[0m\u001b[0;34m\u001b[0m\u001b[0m\n\u001b[0;32m----> 3\u001b[0;31m \u001b[0mdf\u001b[0m\u001b[0;34m.\u001b[0m\u001b[0mgroupby\u001b[0m\u001b[0;34m(\u001b[0m\u001b[0mdf\u001b[0m\u001b[0;34m[\u001b[0m\u001b[0;34m'Sale Date'\u001b[0m\u001b[0;34m]\u001b[0m\u001b[0;34m.\u001b[0m\u001b[0mdt\u001b[0m\u001b[0;34m.\u001b[0m\u001b[0mto_period\u001b[0m\u001b[0;34m(\u001b[0m\u001b[0;34m'M'\u001b[0m\u001b[0;34m)\u001b[0m\u001b[0;34m)\u001b[0m\u001b[0;34m[\u001b[0m\u001b[0;34m'Sale Price'\u001b[0m\u001b[0;34m]\u001b[0m\u001b[0;34m.\u001b[0m\u001b[0mcount\u001b[0m\u001b[0;34m(\u001b[0m\u001b[0;34m)\u001b[0m\u001b[0;34m.\u001b[0m\u001b[0mplot\u001b[0m\u001b[0;34m(\u001b[0m\u001b[0mfontsize\u001b[0m\u001b[0;34m=\u001b[0m\u001b[0;36m12\u001b[0m\u001b[0;34m,\u001b[0m \u001b[0mfigsize\u001b[0m\u001b[0;34m=\u001b[0m\u001b[0;34m(\u001b[0m\u001b[0;36m12\u001b[0m\u001b[0;34m,\u001b[0m\u001b[0;36m8\u001b[0m\u001b[0;34m)\u001b[0m\u001b[0;34m)\u001b[0m\u001b[0;34m\u001b[0m\u001b[0;34m\u001b[0m\u001b[0m\n\u001b[0m\u001b[1;32m      4\u001b[0m \u001b[0mplt\u001b[0m\u001b[0;34m.\u001b[0m\u001b[0mylabel\u001b[0m\u001b[0;34m(\u001b[0m\u001b[0;34m'Sales Count'\u001b[0m\u001b[0;34m,\u001b[0m \u001b[0mfontsize\u001b[0m\u001b[0;34m=\u001b[0m\u001b[0;36m15\u001b[0m\u001b[0;34m)\u001b[0m\u001b[0;34m\u001b[0m\u001b[0;34m\u001b[0m\u001b[0m\n\u001b[1;32m      5\u001b[0m \u001b[0mplt\u001b[0m\u001b[0;34m.\u001b[0m\u001b[0mxlabel\u001b[0m\u001b[0;34m(\u001b[0m\u001b[0;34m'Sale Date'\u001b[0m\u001b[0;34m,\u001b[0m \u001b[0mfontsize\u001b[0m\u001b[0;34m=\u001b[0m\u001b[0;36m15\u001b[0m\u001b[0;34m)\u001b[0m\u001b[0;34m\u001b[0m\u001b[0;34m\u001b[0m\u001b[0m\n",
      "\u001b[0;31mNameError\u001b[0m: name 'df' is not defined"
     ]
    }
   ],
   "source": [
    "#Plotting Sale Count to see if there's any correlation\n",
    "#Note that sale price correlates with the sale volume (exhibits similar seasonality)\n",
    "df.groupby(df['Sale Date'].dt.to_period('M'))['Sale Price'].count().plot(fontsize=12, figsize=(12,8))\n",
    "plt.ylabel('Sales Count', fontsize=15)\n",
    "plt.xlabel('Sale Date', fontsize=15)\n",
    "plt.title('Sale Count by Month', fontsize=15)\n",
    "#Check against another city or housing index, MLS has publicly available data and Redfin to see if the pattern is normal"
   ]
  },
  {
   "cell_type": "markdown",
   "metadata": {},
   "source": [
    "## Median sale price of a house in Nashville has increased over 40% in 5 years (according to Davidson County data).\n",
    "\n",
    "Meanwhile the Consumer Price Index shows an inflation rate of [8.3%](https://www.usinflationcalculator.com/) over the same time period.\n",
    "\n",
    "Nationally, median sale price of a house has grown very close to the inflation rate. Nashvillian prices are rising much faster.\n",
    "\n",
    "![Source](https://fred.stlouisfed.org/graph/fredgraph.png?g=oNxC)\n",
    "\n",
    "### Do I think this means Nashville's market is absolutely on fire right now? No.\n",
    "\n",
    "### My theory is: Nashville had almost 0 high-end multifamily units (southern suburban-style city) and now people are building luxury condo towers and luxury mid-rise, filling a giant gap in the market. Additionally, construction of these luxury multifamily units raises prices of real estate nearby.\n",
    "### But ultimately, I think a lot of this rise in median price can be attributed to the increasing poularity of renting among Americans. More Americans are renting now than at any point in the last 50 years.\n",
    "https://www.pewresearch.org/fact-tank/2017/07/19/more-u-s-households-are-renting-than-at-any-point-in-50-years/\n",
    "### Thus, homeowning is becoming a more exclusive activity.\n",
    "### I'd like to make a time series graph showing which segments of the housing market grew. Is the sale price rising because all house prices are rising, or is it just because of an influx of high-end units, or some combination thereof?"
   ]
  },
  {
   "cell_type": "markdown",
   "metadata": {},
   "source": [
    "### This trend shows heavy seasonality, but appears roughly on track with the general trend of housing sales in the US.\n",
    "\n",
    "![Source](https://fred.stlouisfed.org/graph/fredgraph.png?g=oNxy)\n",
    "\n",
    "https://tradingeconomics.com/united-states/housing-starts\n",
    "\n",
    "The St. Louis Federal Reserve also has a great data interface for housing starts, and their data derives from the US Bureau of Labor Statistics. \n",
    "\n",
    "https://fred.stlouisfed.org/series/HOUST\n",
    "\n",
    "In general housing starts have cooled off in 2019 (probably due to tariffs on lumber, steel and aluminum, crackdowns on undocumented labor). But a strain of \"NIMBYism\" is persistent in all stripes of Americans, which seems particularly resentful of mid-rise development. We could verify this by checking building permit data and seeing how long it takes for the permit to get approved, or if permits are denied, period. One recent example is a building moratorium in the DC area (which is currently experiencing rapid increases in house prices). This antipathy towards \"urbanist\" development could be stronger in Sunbelt cities because of their traditionally sprawled nature.\n",
    "\n",
    "https://wamu.org/story/19/04/16/despite-housing-crunch-montgomery-county-expected-to-freeze-new-development/\n",
    "\n",
    "But don't get the impression the anti-development attitude is limited to the Southeast. California, also in a housing crisis, recently shot down one of the most celebrated upzoning measures in decades.\n",
    "\n",
    "https://sf.curbed.com/2019/5/10/18563360/senate-bill-50-chart-sb50-explainer-housing-transit\n",
    "\n",
    "If the supply of new housing is heavily constricted, prices will probably keep rising."
   ]
  },
  {
   "cell_type": "code",
   "execution_count": 1,
   "metadata": {},
   "outputs": [],
   "source": [
    "import matplotlib.pyplot as plt\n",
    "import numpy as np\n",
    "import seaborn as sns\n",
    "import pandas as pd \n",
    "%matplotlib inline\n",
    "sns.set(style='darkgrid')\n",
    "import matplotlib.dates as mdates"
   ]
  },
  {
   "cell_type": "code",
   "execution_count": 2,
   "metadata": {},
   "outputs": [
    {
     "name": "stderr",
     "output_type": "stream",
     "text": [
      "/home/drew/anaconda3/lib/python3.7/site-packages/IPython/core/interactiveshell.py:3049: DtypeWarning: Columns (49) have mixed types. Specify dtype option on import or set low_memory=False.\n",
      "  interactivity=interactivity, compiler=compiler, result=result)\n"
     ]
    }
   ],
   "source": [
    "df1=pd.read_csv('nashville_20190827200234.csv', parse_dates = ['Most Recent Sale Date', 'Sale Date'], dtype={'Zone': str, 'Neighborhood': str})"
   ]
  },
  {
   "cell_type": "code",
   "execution_count": 3,
   "metadata": {},
   "outputs": [],
   "source": [
    "#Correcting badly-entered data\n",
    "df1.loc[176025, 'Sale Price'] = 37000\n",
    "df1.loc[27056, 'Sale Price'] = 161000\n",
    "df1.loc[191004, 'Sale Price'] = 810000\n",
    "df1.loc[239278, 'Sale Price'] = 280395\n",
    "df1.loc[138891, 'Sale Price'] = 200000\n",
    "df1.loc[241961, 'Sale Date'] = '2019-03-04'\n",
    "df1.loc[241961, 'Sale Date'] = pd.to_datetime(df1.loc[241961, 'Sale Date'])\n",
    "df1.loc[241961, 'Sale Price'] = 370000\n",
    "df1.loc[230115, 'Sale Price'] = 325000\n",
    "df1.loc[53151, 'Sale Price'] = 310900\n",
    "df1.loc[259815, 'Sale Price'] = 1513142\n",
    "df1.loc[129682, 'Sale Price'] = 1300000\n",
    "df1.loc[154271, 'Square Footage Improved'] = 10094\n",
    "df1.drop(190142, inplace=True) #Has a massive ADU ~4 times the size of the 'main' structure. Main struct is low-grade, ADU is luxury.\n",
    "df1.drop(128094, inplace=True) #Can't find out anything about this house. Improbably large sqft and acreage, low price."
   ]
  },
  {
   "cell_type": "code",
   "execution_count": 4,
   "metadata": {},
   "outputs": [],
   "source": [
    "#Creating new dataframe without duplicate entires\n",
    "df=df1.sort_values(by='Sale Date').drop_duplicates(subset='Map & Parcel', keep = 'last')\n",
    "#Want to create a new column which is the mean sale price per square foot of a parcel in that neighborhood\n",
    "df['PPS']=df['Sale Price']/df['Square Footage Improved']\n",
    "df['PPS']=df['PPS'].replace(np.inf, np.nan)\n",
    "meanpps=df.groupby('Neighborhood')['PPS'].mean().to_frame().rename(columns={'PPS':'NeighborhoodPPS'})\n",
    "df=df.merge(meanpps, how='left', left_on = 'Neighborhood',right_index=True)\n",
    "#Dropping parcels that were involved in multi-parcel sales\n",
    "df=df[df['Multiple Parcels Involved in Sale'] == 'No']\n",
    "#Testing the averaged assessment ratio idea.\n",
    "df['Assessment Ratio'] = df['Assessment Land Improved'] / df['Total Appraisal Value Improved']\n",
    "nbhdratio=df.groupby('Neighborhood')['Assessment Ratio'].mean().to_frame().rename(columns={'Assessment Ratio':'Nbhd Ratio'})\n",
    "df=df.merge(nbhdratio, how='left', left_on = 'Neighborhood',right_index=True)\n",
    "df['Month']= df['Sale Date'].dt.month\n",
    "df['Quarter'] = df['Sale Date'].dt.quarter\n",
    "df['Year'] = df['Sale Date'].dt.year\n",
    "#Dropping some obscure categories we can't decipher\n",
    "df['Building Grade']= df['Building Grade'].str.replace(r'\\w\\w\\w', '').dropna()\n",
    "#Dropping some outliers\n",
    "df=df[df.PPS <= 1150]\n",
    "df=df[df.Fixtures <=23]\n",
    "df=df[df['Land Area Acres'] <=10]"
   ]
  },
  {
   "cell_type": "code",
   "execution_count": 6,
   "metadata": {},
   "outputs": [],
   "source": [
    "import statsmodels as sm\n",
    "from statsmodels.tsa.statespace.sarimax import SARIMAX"
   ]
  },
  {
   "cell_type": "code",
   "execution_count": null,
   "metadata": {},
   "outputs": [],
   "source": []
  }
 ],
 "metadata": {
  "kernelspec": {
   "display_name": "Python 3",
   "language": "python",
   "name": "python3"
  },
  "language_info": {
   "codemirror_mode": {
    "name": "ipython",
    "version": 3
   },
   "file_extension": ".py",
   "mimetype": "text/x-python",
   "name": "python",
   "nbconvert_exporter": "python",
   "pygments_lexer": "ipython3",
   "version": "3.7.3"
  }
 },
 "nbformat": 4,
 "nbformat_minor": 2
}
