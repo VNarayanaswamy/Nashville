{
 "cells": [
  {
   "cell_type": "markdown",
   "metadata": {},
   "source": [
    "# JSON Merger"
   ]
  },
  {
   "cell_type": "markdown",
   "metadata": {},
   "source": [
    "## Links for Reference:\n",
    "\n",
    "https://www.dataquest.io/blog/python-json-tutorial/\n",
    "\n",
    "https://realpython.com/python-json/\n",
    "\n",
    "https://pythonspot.com/json-encoding-and-decoding-with-python/"
   ]
  },
  {
   "cell_type": "code",
   "execution_count": 1,
   "metadata": {},
   "outputs": [],
   "source": [
    "import json\n",
    "import pandas as pd\n",
    "import numpy as np"
   ]
  },
  {
   "cell_type": "code",
   "execution_count": 3,
   "metadata": {},
   "outputs": [],
   "source": [
    "result = []\n",
    "for lot in range(1,270000):\n",
    "    infile = \"/Users/alehe/OneDrive/Documents/Jupyter/SharpestMinds/Parcels/parcel{}\".format(lot)\n",
    "    with open(infile, 'r') as infile:\n",
    "        try:\n",
    "            result.append(json.load(infile))\n",
    "        except ValueError: \n",
    "            continue"
   ]
  },
  {
   "cell_type": "code",
   "execution_count": 4,
   "metadata": {},
   "outputs": [
    {
     "data": {
      "text/plain": [
       "269998"
      ]
     },
     "execution_count": 4,
     "metadata": {},
     "output_type": "execute_result"
    }
   ],
   "source": [
    "len(result)"
   ]
  },
  {
   "cell_type": "code",
   "execution_count": 5,
   "metadata": {},
   "outputs": [],
   "source": [
    "df = pd.DataFrame(result)"
   ]
  },
  {
   "cell_type": "code",
   "execution_count": 6,
   "metadata": {},
   "outputs": [
    {
     "data": {
      "text/plain": [
       "(72499, 10)"
      ]
     },
     "execution_count": 6,
     "metadata": {},
     "output_type": "execute_result"
    }
   ],
   "source": [
    "sales = pd.read_csv('/Users/alehe/OneDrive/Documents/Jupyter/SharpestMinds/sales.csv')\n",
    "\n",
    "sales.shape"
   ]
  },
  {
   "cell_type": "code",
   "execution_count": 8,
   "metadata": {},
   "outputs": [
    {
     "data": {
      "text/html": [
       "<div>\n",
       "<style scoped>\n",
       "    .dataframe tbody tr th:only-of-type {\n",
       "        vertical-align: middle;\n",
       "    }\n",
       "\n",
       "    .dataframe tbody tr th {\n",
       "        vertical-align: top;\n",
       "    }\n",
       "\n",
       "    .dataframe thead th {\n",
       "        text-align: right;\n",
       "    }\n",
       "</style>\n",
       "<table border=\"1\" class=\"dataframe\">\n",
       "  <thead>\n",
       "    <tr style=\"text-align: right;\">\n",
       "      <th></th>\n",
       "      <th>Parcel ID</th>\n",
       "      <th>Land Use</th>\n",
       "      <th>Property Address</th>\n",
       "      <th>Suite/ Condo   #</th>\n",
       "      <th>Property City</th>\n",
       "      <th>Sale Date</th>\n",
       "      <th>Sale Price</th>\n",
       "      <th>Legal Reference</th>\n",
       "      <th>Sold As Vacant</th>\n",
       "      <th>Multiple Parcels Involved in Sale</th>\n",
       "    </tr>\n",
       "  </thead>\n",
       "  <tbody>\n",
       "    <tr>\n",
       "      <th>0</th>\n",
       "      <td>105 03 0 038.00</td>\n",
       "      <td>VACANT RESIDENTIAL LAND</td>\n",
       "      <td>1115  3RD AVE S</td>\n",
       "      <td>NaN</td>\n",
       "      <td>NASHVILLE</td>\n",
       "      <td>1/9/2015</td>\n",
       "      <td>100000</td>\n",
       "      <td>20150109-0002515</td>\n",
       "      <td>Yes</td>\n",
       "      <td>No</td>\n",
       "    </tr>\n",
       "    <tr>\n",
       "      <th>1</th>\n",
       "      <td>105 03 0 141.00</td>\n",
       "      <td>VACANT RESIDENTIAL LAND</td>\n",
       "      <td>21  WHARF AVE</td>\n",
       "      <td>NaN</td>\n",
       "      <td>NASHVILLE</td>\n",
       "      <td>1/21/2015</td>\n",
       "      <td>292005</td>\n",
       "      <td>20150122-0006496</td>\n",
       "      <td>No</td>\n",
       "      <td>Yes</td>\n",
       "    </tr>\n",
       "    <tr>\n",
       "      <th>2</th>\n",
       "      <td>105 03 0 312.00</td>\n",
       "      <td>VACANT RESIDENTIAL LAND</td>\n",
       "      <td>1206  1ST AVE S</td>\n",
       "      <td>NaN</td>\n",
       "      <td>NASHVILLE</td>\n",
       "      <td>1/21/2015</td>\n",
       "      <td>292005</td>\n",
       "      <td>20150122-0006496</td>\n",
       "      <td>No</td>\n",
       "      <td>Yes</td>\n",
       "    </tr>\n",
       "    <tr>\n",
       "      <th>3</th>\n",
       "      <td>105 03 0 313.00</td>\n",
       "      <td>RESIDENTIAL COMBO/MISC</td>\n",
       "      <td>5  TRIMBLE ST</td>\n",
       "      <td>NaN</td>\n",
       "      <td>NASHVILLE</td>\n",
       "      <td>1/21/2015</td>\n",
       "      <td>292005</td>\n",
       "      <td>20150122-0006496</td>\n",
       "      <td>No</td>\n",
       "      <td>Yes</td>\n",
       "    </tr>\n",
       "    <tr>\n",
       "      <th>4</th>\n",
       "      <td>105 03 0 314.00</td>\n",
       "      <td>SINGLE FAMILY</td>\n",
       "      <td>7  TRIMBLE ST</td>\n",
       "      <td>NaN</td>\n",
       "      <td>NASHVILLE</td>\n",
       "      <td>1/21/2015</td>\n",
       "      <td>292005</td>\n",
       "      <td>20150122-0006496</td>\n",
       "      <td>No</td>\n",
       "      <td>Yes</td>\n",
       "    </tr>\n",
       "  </tbody>\n",
       "</table>\n",
       "</div>"
      ],
      "text/plain": [
       "         Parcel ID                 Land Use Property Address Suite/ Condo   #  \\\n",
       "0  105 03 0 038.00  VACANT RESIDENTIAL LAND  1115  3RD AVE S              NaN   \n",
       "1  105 03 0 141.00  VACANT RESIDENTIAL LAND    21  WHARF AVE              NaN   \n",
       "2  105 03 0 312.00  VACANT RESIDENTIAL LAND  1206  1ST AVE S              NaN   \n",
       "3  105 03 0 313.00   RESIDENTIAL COMBO/MISC    5  TRIMBLE ST              NaN   \n",
       "4  105 03 0 314.00            SINGLE FAMILY    7  TRIMBLE ST              NaN   \n",
       "\n",
       "  Property City  Sale Date  Sale Price   Legal Reference Sold As Vacant  \\\n",
       "0     NASHVILLE   1/9/2015      100000  20150109-0002515            Yes   \n",
       "1     NASHVILLE  1/21/2015      292005  20150122-0006496             No   \n",
       "2     NASHVILLE  1/21/2015      292005  20150122-0006496             No   \n",
       "3     NASHVILLE  1/21/2015      292005  20150122-0006496             No   \n",
       "4     NASHVILLE  1/21/2015      292005  20150122-0006496             No   \n",
       "\n",
       "  Multiple Parcels Involved in Sale  \n",
       "0                                No  \n",
       "1                               Yes  \n",
       "2                               Yes  \n",
       "3                               Yes  \n",
       "4                               Yes  "
      ]
     },
     "execution_count": 8,
     "metadata": {},
     "output_type": "execute_result"
    }
   ],
   "source": [
    "xdf = pd.read_csv('/Users/alehe/OneDrive/Documents/Jupyter/SharpestMinds/sales.csv')\n",
    "\n",
    "xdf.head()"
   ]
  },
  {
   "cell_type": "code",
   "execution_count": 9,
   "metadata": {},
   "outputs": [
    {
     "data": {
      "text/plain": [
       "(71820, 45)"
      ]
     },
     "execution_count": 9,
     "metadata": {},
     "output_type": "execute_result"
    }
   ],
   "source": [
    "jdf = df.merge(xdf, right_on='Parcel ID', left_on='Map & Parcel')\n",
    "  \n",
    "jdf.shape"
   ]
  },
  {
   "cell_type": "code",
   "execution_count": 14,
   "metadata": {},
   "outputs": [],
   "source": [
    "jdf.to_csv('merged.csv')"
   ]
  }
 ],
 "metadata": {
  "kernelspec": {
   "display_name": "Python 3",
   "language": "python",
   "name": "python3"
  },
  "language_info": {
   "codemirror_mode": {
    "name": "ipython",
    "version": 3
   },
   "file_extension": ".py",
   "mimetype": "text/x-python",
   "name": "python",
   "nbconvert_exporter": "python",
   "pygments_lexer": "ipython3",
   "version": "3.6.8"
  }
 },
 "nbformat": 4,
 "nbformat_minor": 2
}
